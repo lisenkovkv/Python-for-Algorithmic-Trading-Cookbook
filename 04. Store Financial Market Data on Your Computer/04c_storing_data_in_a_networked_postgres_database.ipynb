{
 "cells": [
  {
   "cell_type": "markdown",
   "id": "f8361e40",
   "metadata": {},
   "source": [
    "## Storing data in a networked Postgres database"
   ]
  },
  {
   "cell_type": "markdown",
   "id": "da7a4f71",
   "metadata": {},
   "source": [
    "To avoid the \"pg_config executable not found\" error when installing the psycopg2 package, ensure that the necessary PostgreSQL libraries and headers are installed on your system. For Debian/Ubuntu systems, execute sudo apt-get install libpq-dev python3-dev. For Red Hat/CentOS/Fedora, use sudo yum install postgresql-devel python3-devel. On macOS, install PostgreSQL with Homebrew using brew install postgresql. Alternatively, you can install psycopg2-binary with pip install psycopg2-binary, which includes the required dependencies without needing compilation. However, psycopg2-binary is more suitable for development and limited testing rather than production environments. If issues persist after these steps, try reinstalling SQLAlchemy with pip install --force-reinstall sqlalchemy. Following these steps will enable smooth installation and operation of psycopg2 and SQLAlchemy for connecting to a PostgreSQL database."
   ]
  },
  {
   "cell_type": "code",
   "execution_count": 3,
   "id": "2c395eae",
   "metadata": {},
   "outputs": [
    {
     "name": "stdout",
     "output_type": "stream",
     "text": [
      "Collecting sqlalchemy\n",
      "  Using cached SQLAlchemy-2.0.37-cp310-cp310-macosx_11_0_arm64.whl.metadata (9.6 kB)\n",
      "Collecting psycopg2\n",
      "  Using cached psycopg2-2.9.10.tar.gz (385 kB)\n",
      "  Installing build dependencies ... \u001b[?25ldone\n",
      "\u001b[?25h  Getting requirements to build wheel ... \u001b[?25ldone\n",
      "\u001b[?25h  Preparing metadata (pyproject.toml) ... \u001b[?25ldone\n",
      "\u001b[?25hRequirement already satisfied: typing-extensions>=4.6.0 in /Users/kirilllisenkov/Documents/Python-for-Algorithmic-Trading-Cookbook/algo/lib/python3.10/site-packages (from sqlalchemy) (4.12.2)\n",
      "Downloading SQLAlchemy-2.0.37-cp310-cp310-macosx_11_0_arm64.whl (2.1 MB)\n",
      "\u001b[2K   \u001b[90m━━━━━━━━━━━━━━━━━━━━━━━━━━━━━━━━━━━━━━━━\u001b[0m \u001b[32m2.1/2.1 MB\u001b[0m \u001b[31m3.2 MB/s\u001b[0m eta \u001b[36m0:00:00\u001b[0ma \u001b[36m0:00:01\u001b[0m\n",
      "\u001b[?25hBuilding wheels for collected packages: psycopg2\n",
      "  Building wheel for psycopg2 (pyproject.toml) ... \u001b[?25ldone\n",
      "\u001b[?25h  Created wheel for psycopg2: filename=psycopg2-2.9.10-cp310-cp310-macosx_15_0_arm64.whl size=144715 sha256=77d0952fa914e3ab4b20ce97329d004c961556c496bd4fa7b67723d934862baf\n",
      "  Stored in directory: /Users/kirilllisenkov/Library/Caches/pip/wheels/51/41/e0/2912ad51b01f454d26dfb26e5cc5923874656749b9e83943a8\n",
      "Successfully built psycopg2\n",
      "Installing collected packages: sqlalchemy, psycopg2\n",
      "Successfully installed psycopg2-2.9.10 sqlalchemy-2.0.37\n"
     ]
    }
   ],
   "source": [
    "!pip install sqlalchemy psycopg2"
   ]
  },
  {
   "cell_type": "code",
   "execution_count": 4,
   "id": "117eb924",
   "metadata": {},
   "outputs": [],
   "source": [
    "import exchange_calendars as xcals\n",
    "import pandas as pd\n",
    "from IPython.display import Markdown, display\n",
    "from openbb import obb\n",
    "from sqlalchemy import create_engine, text\n",
    "from sqlalchemy.exc import ProgrammingError"
   ]
  },
  {
   "cell_type": "code",
   "execution_count": 5,
   "id": "d01dd60f",
   "metadata": {},
   "outputs": [],
   "source": [
    "obb.user.preferences.output_type = \"dataframe\""
   ]
  },
  {
   "cell_type": "markdown",
   "id": "d6d20df8",
   "metadata": {},
   "source": [
    "Database connection parameters"
   ]
  },
  {
   "cell_type": "code",
   "execution_count": 6,
   "id": "fdcb5964",
   "metadata": {},
   "outputs": [],
   "source": [
    "username = \"\"\n",
    "password = \"\"\n",
    "host = \"127.0.0.1\"\n",
    "port = \"5432\"\n",
    "database = \"market_data\""
   ]
  },
  {
   "cell_type": "code",
   "execution_count": 7,
   "id": "c72e535c",
   "metadata": {},
   "outputs": [],
   "source": [
    "DATABASE_URL = f\"postgresql://{username}:{password}@{host}:{port}/postgres\"\n",
    "base_engine = create_engine(DATABASE_URL)"
   ]
  },
  {
   "cell_type": "markdown",
   "id": "68b1ddca",
   "metadata": {
    "lines_to_next_cell": 2
   },
   "source": [
    "Function to create a new database and return an engine for that database"
   ]
  },
  {
   "cell_type": "code",
   "execution_count": 8,
   "id": "721578aa",
   "metadata": {},
   "outputs": [],
   "source": [
    "def create_database_and_get_engine(db_name, base_engine):\n",
    "    conn = base_engine.connect()\n",
    "    conn = conn.execution_options(isolation_level=\"AUTOCOMMIT\")\n",
    "\n",
    "    try:\n",
    "        conn.execute(text(f\"CREATE DATABASE {db_name};\"))\n",
    "    except ProgrammingError:\n",
    "        pass\n",
    "    finally:\n",
    "        conn.close()\n",
    "\n",
    "    conn_str = base_engine.url.set(database=db_name)\n",
    "\n",
    "    return create_engine(conn_str)"
   ]
  },
  {
   "cell_type": "markdown",
   "id": "3960ff6e",
   "metadata": {},
   "source": [
    "Create the database and get an engine for it"
   ]
  },
  {
   "cell_type": "code",
   "execution_count": 11,
   "id": "ba97d273",
   "metadata": {},
   "outputs": [],
   "source": [
    "engine = create_database_and_get_engine(\"stock_data\", base_engine)"
   ]
  },
  {
   "cell_type": "markdown",
   "id": "a4fb8b7d",
   "metadata": {
    "lines_to_next_cell": 2
   },
   "source": [
    "Function to fetch historical stock data for a given symbol and date range, and add a 'symbol' column"
   ]
  },
  {
   "cell_type": "code",
   "execution_count": 12,
   "id": "90c1ff04",
   "metadata": {
    "lines_to_next_cell": 2
   },
   "outputs": [],
   "source": [
    "def get_stock_data(symbol, start_date=None, end_date=None):\n",
    "    data = obb.equity.price.historical(\n",
    "        symbol,\n",
    "        start_date=start_date,\n",
    "        end_date=end_date,\n",
    "        provider=\"yfinance\",\n",
    "    )\n",
    "    data.reset_index(inplace=True)\n",
    "    data[\"symbol\"] = symbol\n",
    "    return data"
   ]
  },
  {
   "cell_type": "markdown",
   "id": "1aa9fc39",
   "metadata": {
    "lines_to_next_cell": 2
   },
   "source": [
    "Function to save the fetched stock data to a PostgreSQL database"
   ]
  },
  {
   "cell_type": "code",
   "execution_count": 13,
   "id": "8d89d3bd",
   "metadata": {
    "lines_to_next_cell": 2
   },
   "outputs": [],
   "source": [
    "def save_data_range(symbol, engine, start_date=None, end_date=None):\n",
    "    data = get_stock_data(symbol, start_date, end_date)\n",
    "    data.to_sql(\"stock_data\", engine, if_exists=\"append\", index=False)"
   ]
  },
  {
   "cell_type": "markdown",
   "id": "189d32d9",
   "metadata": {
    "lines_to_next_cell": 2
   },
   "source": [
    "Function to save the stock data for the last trading session to a PostgreSQL database"
   ]
  },
  {
   "cell_type": "code",
   "execution_count": 14,
   "id": "ced74766",
   "metadata": {},
   "outputs": [],
   "source": [
    "def save_last_trading_session(symbol, engine):\n",
    "    today = pd.Timestamp.today()\n",
    "    data = get_stock_data(symbol, today, today)\n",
    "    data.to_sql(\"stock_data\", engine, if_exists=\"append\", index=False)"
   ]
  },
  {
   "cell_type": "markdown",
   "id": "b0615d8d",
   "metadata": {},
   "source": [
    "Save data for multiple stock symbols in the specified date range"
   ]
  },
  {
   "cell_type": "code",
   "execution_count": 15,
   "id": "9c6801bb",
   "metadata": {},
   "outputs": [],
   "source": [
    "for symbol in [\"SPY\", \"QQQ\", \"DIA\"]:\n",
    "    save_data_range(\n",
    "        symbol, engine=engine, start_date=\"2020-06-01\", end_date=\"2023-01-01\"\n",
    "    )"
   ]
  },
  {
   "cell_type": "markdown",
   "id": "62545384",
   "metadata": {},
   "source": [
    "Read and display data for the stock symbol \"SPY\" from the database"
   ]
  },
  {
   "cell_type": "code",
   "execution_count": 16,
   "id": "e9f6d8a1",
   "metadata": {},
   "outputs": [
    {
     "data": {
      "text/html": [
       "<div>\n",
       "<style scoped>\n",
       "    .dataframe tbody tr th:only-of-type {\n",
       "        vertical-align: middle;\n",
       "    }\n",
       "\n",
       "    .dataframe tbody tr th {\n",
       "        vertical-align: top;\n",
       "    }\n",
       "\n",
       "    .dataframe thead th {\n",
       "        text-align: right;\n",
       "    }\n",
       "</style>\n",
       "<table border=\"1\" class=\"dataframe\">\n",
       "  <thead>\n",
       "    <tr style=\"text-align: right;\">\n",
       "      <th></th>\n",
       "      <th>date</th>\n",
       "      <th>open</th>\n",
       "      <th>high</th>\n",
       "      <th>low</th>\n",
       "      <th>close</th>\n",
       "      <th>volume</th>\n",
       "      <th>dividend</th>\n",
       "      <th>symbol</th>\n",
       "    </tr>\n",
       "  </thead>\n",
       "  <tbody>\n",
       "    <tr>\n",
       "      <th>0</th>\n",
       "      <td>2020-06-01</td>\n",
       "      <td>303.619995</td>\n",
       "      <td>306.209991</td>\n",
       "      <td>303.059998</td>\n",
       "      <td>305.549988</td>\n",
       "      <td>55758300</td>\n",
       "      <td>0.0</td>\n",
       "      <td>SPY</td>\n",
       "    </tr>\n",
       "    <tr>\n",
       "      <th>1</th>\n",
       "      <td>2020-06-02</td>\n",
       "      <td>306.549988</td>\n",
       "      <td>308.130005</td>\n",
       "      <td>305.100006</td>\n",
       "      <td>308.079987</td>\n",
       "      <td>74267200</td>\n",
       "      <td>0.0</td>\n",
       "      <td>SPY</td>\n",
       "    </tr>\n",
       "    <tr>\n",
       "      <th>2</th>\n",
       "      <td>2020-06-03</td>\n",
       "      <td>310.239990</td>\n",
       "      <td>313.220001</td>\n",
       "      <td>309.940002</td>\n",
       "      <td>312.179993</td>\n",
       "      <td>92567600</td>\n",
       "      <td>0.0</td>\n",
       "      <td>SPY</td>\n",
       "    </tr>\n",
       "    <tr>\n",
       "      <th>3</th>\n",
       "      <td>2020-06-04</td>\n",
       "      <td>311.109985</td>\n",
       "      <td>313.000000</td>\n",
       "      <td>309.079987</td>\n",
       "      <td>311.359985</td>\n",
       "      <td>75794400</td>\n",
       "      <td>0.0</td>\n",
       "      <td>SPY</td>\n",
       "    </tr>\n",
       "    <tr>\n",
       "      <th>4</th>\n",
       "      <td>2020-06-05</td>\n",
       "      <td>317.230011</td>\n",
       "      <td>321.269989</td>\n",
       "      <td>317.160004</td>\n",
       "      <td>319.339996</td>\n",
       "      <td>150524700</td>\n",
       "      <td>0.0</td>\n",
       "      <td>SPY</td>\n",
       "    </tr>\n",
       "    <tr>\n",
       "      <th>...</th>\n",
       "      <td>...</td>\n",
       "      <td>...</td>\n",
       "      <td>...</td>\n",
       "      <td>...</td>\n",
       "      <td>...</td>\n",
       "      <td>...</td>\n",
       "      <td>...</td>\n",
       "      <td>...</td>\n",
       "    </tr>\n",
       "    <tr>\n",
       "      <th>648</th>\n",
       "      <td>2022-12-23</td>\n",
       "      <td>379.649994</td>\n",
       "      <td>383.059998</td>\n",
       "      <td>378.029999</td>\n",
       "      <td>382.910004</td>\n",
       "      <td>59857300</td>\n",
       "      <td>0.0</td>\n",
       "      <td>SPY</td>\n",
       "    </tr>\n",
       "    <tr>\n",
       "      <th>649</th>\n",
       "      <td>2022-12-27</td>\n",
       "      <td>382.790009</td>\n",
       "      <td>383.149994</td>\n",
       "      <td>379.649994</td>\n",
       "      <td>381.399994</td>\n",
       "      <td>51638200</td>\n",
       "      <td>0.0</td>\n",
       "      <td>SPY</td>\n",
       "    </tr>\n",
       "    <tr>\n",
       "      <th>650</th>\n",
       "      <td>2022-12-28</td>\n",
       "      <td>381.329987</td>\n",
       "      <td>383.390015</td>\n",
       "      <td>376.420013</td>\n",
       "      <td>376.660004</td>\n",
       "      <td>70911500</td>\n",
       "      <td>0.0</td>\n",
       "      <td>SPY</td>\n",
       "    </tr>\n",
       "    <tr>\n",
       "      <th>651</th>\n",
       "      <td>2022-12-29</td>\n",
       "      <td>379.630005</td>\n",
       "      <td>384.350006</td>\n",
       "      <td>379.079987</td>\n",
       "      <td>383.440002</td>\n",
       "      <td>66970900</td>\n",
       "      <td>0.0</td>\n",
       "      <td>SPY</td>\n",
       "    </tr>\n",
       "    <tr>\n",
       "      <th>652</th>\n",
       "      <td>2022-12-30</td>\n",
       "      <td>380.640015</td>\n",
       "      <td>382.579987</td>\n",
       "      <td>378.429993</td>\n",
       "      <td>382.429993</td>\n",
       "      <td>84022200</td>\n",
       "      <td>0.0</td>\n",
       "      <td>SPY</td>\n",
       "    </tr>\n",
       "  </tbody>\n",
       "</table>\n",
       "<p>653 rows × 8 columns</p>\n",
       "</div>"
      ],
      "text/plain": [
       "           date        open        high         low       close     volume  \\\n",
       "0    2020-06-01  303.619995  306.209991  303.059998  305.549988   55758300   \n",
       "1    2020-06-02  306.549988  308.130005  305.100006  308.079987   74267200   \n",
       "2    2020-06-03  310.239990  313.220001  309.940002  312.179993   92567600   \n",
       "3    2020-06-04  311.109985  313.000000  309.079987  311.359985   75794400   \n",
       "4    2020-06-05  317.230011  321.269989  317.160004  319.339996  150524700   \n",
       "..          ...         ...         ...         ...         ...        ...   \n",
       "648  2022-12-23  379.649994  383.059998  378.029999  382.910004   59857300   \n",
       "649  2022-12-27  382.790009  383.149994  379.649994  381.399994   51638200   \n",
       "650  2022-12-28  381.329987  383.390015  376.420013  376.660004   70911500   \n",
       "651  2022-12-29  379.630005  384.350006  379.079987  383.440002   66970900   \n",
       "652  2022-12-30  380.640015  382.579987  378.429993  382.429993   84022200   \n",
       "\n",
       "     dividend symbol  \n",
       "0         0.0    SPY  \n",
       "1         0.0    SPY  \n",
       "2         0.0    SPY  \n",
       "3         0.0    SPY  \n",
       "4         0.0    SPY  \n",
       "..        ...    ...  \n",
       "648       0.0    SPY  \n",
       "649       0.0    SPY  \n",
       "650       0.0    SPY  \n",
       "651       0.0    SPY  \n",
       "652       0.0    SPY  \n",
       "\n",
       "[653 rows x 8 columns]"
      ]
     },
     "metadata": {},
     "output_type": "display_data"
    }
   ],
   "source": [
    "df_1 = pd.read_sql_query(\"SELECT * from stock_data where symbol='SPY'\", engine)\n",
    "display(df_1)"
   ]
  },
  {
   "cell_type": "markdown",
   "id": "63bbc32f",
   "metadata": {},
   "source": [
    "Read and display data for \"SPY\" where the volume is greater than 100,000,000"
   ]
  },
  {
   "cell_type": "code",
   "execution_count": 17,
   "id": "841121ea",
   "metadata": {},
   "outputs": [
    {
     "data": {
      "text/html": [
       "<div>\n",
       "<style scoped>\n",
       "    .dataframe tbody tr th:only-of-type {\n",
       "        vertical-align: middle;\n",
       "    }\n",
       "\n",
       "    .dataframe tbody tr th {\n",
       "        vertical-align: top;\n",
       "    }\n",
       "\n",
       "    .dataframe thead th {\n",
       "        text-align: right;\n",
       "    }\n",
       "</style>\n",
       "<table border=\"1\" class=\"dataframe\">\n",
       "  <thead>\n",
       "    <tr style=\"text-align: right;\">\n",
       "      <th></th>\n",
       "      <th>date</th>\n",
       "      <th>open</th>\n",
       "      <th>high</th>\n",
       "      <th>low</th>\n",
       "      <th>close</th>\n",
       "      <th>volume</th>\n",
       "      <th>dividend</th>\n",
       "      <th>symbol</th>\n",
       "    </tr>\n",
       "  </thead>\n",
       "  <tbody>\n",
       "    <tr>\n",
       "      <th>0</th>\n",
       "      <td>2020-06-05</td>\n",
       "      <td>317.230011</td>\n",
       "      <td>321.269989</td>\n",
       "      <td>317.160004</td>\n",
       "      <td>319.339996</td>\n",
       "      <td>150524700</td>\n",
       "      <td>0.000</td>\n",
       "      <td>SPY</td>\n",
       "    </tr>\n",
       "    <tr>\n",
       "      <th>1</th>\n",
       "      <td>2020-06-11</td>\n",
       "      <td>311.459991</td>\n",
       "      <td>312.149994</td>\n",
       "      <td>300.010010</td>\n",
       "      <td>300.609985</td>\n",
       "      <td>209243600</td>\n",
       "      <td>0.000</td>\n",
       "      <td>SPY</td>\n",
       "    </tr>\n",
       "    <tr>\n",
       "      <th>2</th>\n",
       "      <td>2020-06-12</td>\n",
       "      <td>308.239990</td>\n",
       "      <td>309.079987</td>\n",
       "      <td>298.600006</td>\n",
       "      <td>304.209991</td>\n",
       "      <td>194678900</td>\n",
       "      <td>0.000</td>\n",
       "      <td>SPY</td>\n",
       "    </tr>\n",
       "    <tr>\n",
       "      <th>3</th>\n",
       "      <td>2020-06-15</td>\n",
       "      <td>298.019989</td>\n",
       "      <td>308.279999</td>\n",
       "      <td>296.739990</td>\n",
       "      <td>307.049988</td>\n",
       "      <td>135782700</td>\n",
       "      <td>0.000</td>\n",
       "      <td>SPY</td>\n",
       "    </tr>\n",
       "    <tr>\n",
       "      <th>4</th>\n",
       "      <td>2020-06-16</td>\n",
       "      <td>315.480011</td>\n",
       "      <td>315.640015</td>\n",
       "      <td>307.670013</td>\n",
       "      <td>312.959991</td>\n",
       "      <td>137627500</td>\n",
       "      <td>0.000</td>\n",
       "      <td>SPY</td>\n",
       "    </tr>\n",
       "    <tr>\n",
       "      <th>...</th>\n",
       "      <td>...</td>\n",
       "      <td>...</td>\n",
       "      <td>...</td>\n",
       "      <td>...</td>\n",
       "      <td>...</td>\n",
       "      <td>...</td>\n",
       "      <td>...</td>\n",
       "      <td>...</td>\n",
       "    </tr>\n",
       "    <tr>\n",
       "      <th>149</th>\n",
       "      <td>2022-12-13</td>\n",
       "      <td>410.220001</td>\n",
       "      <td>410.489990</td>\n",
       "      <td>399.070007</td>\n",
       "      <td>401.970001</td>\n",
       "      <td>123782500</td>\n",
       "      <td>0.000</td>\n",
       "      <td>SPY</td>\n",
       "    </tr>\n",
       "    <tr>\n",
       "      <th>150</th>\n",
       "      <td>2022-12-14</td>\n",
       "      <td>401.609985</td>\n",
       "      <td>405.500000</td>\n",
       "      <td>396.309998</td>\n",
       "      <td>399.399994</td>\n",
       "      <td>108111300</td>\n",
       "      <td>0.000</td>\n",
       "      <td>SPY</td>\n",
       "    </tr>\n",
       "    <tr>\n",
       "      <th>151</th>\n",
       "      <td>2022-12-15</td>\n",
       "      <td>394.299988</td>\n",
       "      <td>395.250000</td>\n",
       "      <td>387.890015</td>\n",
       "      <td>389.630005</td>\n",
       "      <td>117705900</td>\n",
       "      <td>0.000</td>\n",
       "      <td>SPY</td>\n",
       "    </tr>\n",
       "    <tr>\n",
       "      <th>152</th>\n",
       "      <td>2022-12-16</td>\n",
       "      <td>385.179993</td>\n",
       "      <td>386.579987</td>\n",
       "      <td>381.040009</td>\n",
       "      <td>383.269989</td>\n",
       "      <td>119858000</td>\n",
       "      <td>1.781</td>\n",
       "      <td>SPY</td>\n",
       "    </tr>\n",
       "    <tr>\n",
       "      <th>153</th>\n",
       "      <td>2022-12-22</td>\n",
       "      <td>383.049988</td>\n",
       "      <td>386.209991</td>\n",
       "      <td>374.769989</td>\n",
       "      <td>380.720001</td>\n",
       "      <td>100120900</td>\n",
       "      <td>0.000</td>\n",
       "      <td>SPY</td>\n",
       "    </tr>\n",
       "  </tbody>\n",
       "</table>\n",
       "<p>154 rows × 8 columns</p>\n",
       "</div>"
      ],
      "text/plain": [
       "           date        open        high         low       close     volume  \\\n",
       "0    2020-06-05  317.230011  321.269989  317.160004  319.339996  150524700   \n",
       "1    2020-06-11  311.459991  312.149994  300.010010  300.609985  209243600   \n",
       "2    2020-06-12  308.239990  309.079987  298.600006  304.209991  194678900   \n",
       "3    2020-06-15  298.019989  308.279999  296.739990  307.049988  135782700   \n",
       "4    2020-06-16  315.480011  315.640015  307.670013  312.959991  137627500   \n",
       "..          ...         ...         ...         ...         ...        ...   \n",
       "149  2022-12-13  410.220001  410.489990  399.070007  401.970001  123782500   \n",
       "150  2022-12-14  401.609985  405.500000  396.309998  399.399994  108111300   \n",
       "151  2022-12-15  394.299988  395.250000  387.890015  389.630005  117705900   \n",
       "152  2022-12-16  385.179993  386.579987  381.040009  383.269989  119858000   \n",
       "153  2022-12-22  383.049988  386.209991  374.769989  380.720001  100120900   \n",
       "\n",
       "     dividend symbol  \n",
       "0       0.000    SPY  \n",
       "1       0.000    SPY  \n",
       "2       0.000    SPY  \n",
       "3       0.000    SPY  \n",
       "4       0.000    SPY  \n",
       "..        ...    ...  \n",
       "149     0.000    SPY  \n",
       "150     0.000    SPY  \n",
       "151     0.000    SPY  \n",
       "152     1.781    SPY  \n",
       "153     0.000    SPY  \n",
       "\n",
       "[154 rows x 8 columns]"
      ]
     },
     "metadata": {},
     "output_type": "display_data"
    }
   ],
   "source": [
    "df_2 = pd.read_sql_query(\n",
    "    \"SELECT * from stock_data where symbol='SPY' and volume > 100000000\", engine\n",
    ")\n",
    "display(df_2)"
   ]
  },
  {
   "cell_type": "markdown",
   "id": "40a273f4",
   "metadata": {},
   "source": [
    "The best way to build your database is to first download history. You do this once to “backfill” the historic data. Then you schedule the script to run every trading day after the market close to capture that day’s data going forward.\n",
    "\n",
    "There are a lot of references to schedule a Python job on Mac and Windows so I won’t cover it in detail here.\n",
    "\n",
    "Here are two that will work:\n",
    "\n",
    "​Schedule on Mac/Linux​ : https://theautomatic.net/2020/11/18/how-to-schedule-a-python-script-on-a-mac/\n",
    "​Schedule on Windows​ : https://www.jcchouinard.com/python-automation-using-task-scheduler/"
   ]
  },
  {
   "cell_type": "markdown",
   "id": "e3470180",
   "metadata": {},
   "source": [
    "**Jason Strimpel** is the founder of <a href='https://pyquantnews.com/'>PyQuant News</a> and co-founder of <a href='https://www.tradeblotter.io/'>Trade Blotter</a>. His career in algorithmic trading spans 20+ years. He previously traded for a Chicago-based hedge fund, was a risk manager at JPMorgan, and managed production risk technology for an energy derivatives trading firm in London. In Singapore, he served as APAC CIO for an agricultural trading firm and built the data science team for a global metals trading firm. Jason holds degrees in Finance and Economics and a Master's in Quantitative Finance from the Illinois Institute of Technology. His career spans America, Europe, and Asia. He shares his expertise through the <a href='https://pyquantnews.com/subscribe-to-the-pyquant-newsletter/'>PyQuant Newsletter</a>, social media, and has taught over 1,000+ algorithmic trading with Python in his popular course **<a href='https://gettingstartedwithpythonforquantfinance.com/'>Getting Started With Python for Quant Finance</a>**. All code is for educational purposes only. Nothing provided here is financial advise. Use at your own risk."
   ]
  }
 ],
 "metadata": {
  "jupytext": {
   "cell_metadata_filter": "-all",
   "main_language": "python",
   "notebook_metadata_filter": "-all"
  },
  "kernelspec": {
   "display_name": "algo",
   "language": "python",
   "name": "python3"
  },
  "language_info": {
   "codemirror_mode": {
    "name": "ipython",
    "version": 3
   },
   "file_extension": ".py",
   "mimetype": "text/x-python",
   "name": "python",
   "nbconvert_exporter": "python",
   "pygments_lexer": "ipython3",
   "version": "3.10.16"
  }
 },
 "nbformat": 4,
 "nbformat_minor": 5
}

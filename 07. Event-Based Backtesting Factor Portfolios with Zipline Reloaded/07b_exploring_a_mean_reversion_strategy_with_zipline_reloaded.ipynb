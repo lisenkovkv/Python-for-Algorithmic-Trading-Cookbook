{
 "cells": [
  {
   "cell_type": "markdown",
   "id": "32e5d6f2",
   "metadata": {},
   "source": [
    "## Exploring a Mean Reversion Strategy with Zipline Reloaded"
   ]
  },
  {
   "cell_type": "code",
   "execution_count": 1,
   "id": "3328e238",
   "metadata": {},
   "outputs": [],
   "source": [
    "import warnings"
   ]
  },
  {
   "cell_type": "code",
   "execution_count": 2,
   "id": "e7c3236c",
   "metadata": {},
   "outputs": [],
   "source": [
    "import numpy as np\n",
    "import pandas as pd\n",
    "import pandas_datareader as web\n",
    "from IPython.display import Markdown, display\n",
    "from zipline import run_algorithm\n",
    "from zipline.api import (\n",
    "    attach_pipeline,\n",
    "    calendars,\n",
    "    date_rules,\n",
    "    get_datetime,\n",
    "    get_open_orders,\n",
    "    order_target_percent,\n",
    "    pipeline_output,\n",
    "    record,\n",
    "    schedule_function,\n",
    "    set_commission,\n",
    "    set_slippage,\n",
    "    time_rules,\n",
    ")\n",
    "from zipline.finance import commission, slippage\n",
    "from zipline.pipeline import Pipeline\n",
    "from zipline.pipeline.data import USEquityPricing\n",
    "from zipline.pipeline.factors import AverageDollarVolume, CustomFactor, Returns"
   ]
  },
  {
   "cell_type": "code",
   "execution_count": 3,
   "id": "b8aeb006",
   "metadata": {},
   "outputs": [],
   "source": [
    "warnings.filterwarnings(\"ignore\")"
   ]
  },
  {
   "cell_type": "code",
   "execution_count": 4,
   "id": "89e81e71",
   "metadata": {},
   "outputs": [],
   "source": [
    "N_LONGS = N_SHORTS = 50\n",
    "MONTH = 21\n",
    "YEAR = 12 * MONTH"
   ]
  },
  {
   "cell_type": "markdown",
   "id": "3c14adb6",
   "metadata": {
    "lines_to_next_cell": 2
   },
   "source": [
    "Define a custom mean reversion factor"
   ]
  },
  {
   "cell_type": "code",
   "execution_count": 5,
   "id": "4fb04783",
   "metadata": {
    "lines_to_next_cell": 2
   },
   "outputs": [],
   "source": [
    "class MeanReversion(CustomFactor):\n",
    "    inputs = [Returns(window_length=MONTH)]\n",
    "    window_length = YEAR\n",
    "\n",
    "    def compute(self, today, assets, out, monthly_returns):\n",
    "        df = pd.DataFrame(monthly_returns)\n",
    "        out[:] = df.iloc[-1].sub(df.mean()).div(df.std())"
   ]
  },
  {
   "cell_type": "markdown",
   "id": "97604149",
   "metadata": {
    "lines_to_next_cell": 2
   },
   "source": [
    "Define the pipeline for factors and securities selection"
   ]
  },
  {
   "cell_type": "code",
   "execution_count": 6,
   "id": "04699d2d",
   "metadata": {
    "lines_to_next_cell": 2
   },
   "outputs": [],
   "source": [
    "def make_pipeline():\n",
    "    mean_reversion = MeanReversion()\n",
    "    dollar_volume = AverageDollarVolume(window_length=30)\n",
    "    return Pipeline(\n",
    "        columns={\n",
    "            \"longs\": mean_reversion.bottom(N_LONGS),\n",
    "            \"shorts\": mean_reversion.top(N_SHORTS),\n",
    "            \"ranking\": mean_reversion.rank(ascending=False),\n",
    "        },\n",
    "        screen=dollar_volume.top(100),\n",
    "    )"
   ]
  },
  {
   "cell_type": "markdown",
   "id": "f24e4342",
   "metadata": {
    "lines_to_next_cell": 2
   },
   "source": [
    "Define the function to be called before the trading starts"
   ]
  },
  {
   "cell_type": "code",
   "execution_count": 7,
   "id": "01e7ff94",
   "metadata": {
    "lines_to_next_cell": 2
   },
   "outputs": [],
   "source": [
    "def before_trading_start(context, data):\n",
    "    context.factor_data = pipeline_output(\"factor_pipeline\")"
   ]
  },
  {
   "cell_type": "markdown",
   "id": "60ac1731",
   "metadata": {
    "lines_to_next_cell": 2
   },
   "source": [
    "Define the initialize function to set up the algorithm"
   ]
  },
  {
   "cell_type": "code",
   "execution_count": 8,
   "id": "d672ad15",
   "metadata": {
    "lines_to_next_cell": 2
   },
   "outputs": [],
   "source": [
    "def initialize(context):\n",
    "    attach_pipeline(make_pipeline(), \"factor_pipeline\")\n",
    "    schedule_function(\n",
    "        rebalance,\n",
    "        date_rules.week_start(),\n",
    "        time_rules.market_open(),\n",
    "        calendar=calendars.US_EQUITIES,\n",
    "    )\n",
    "\n",
    "    set_commission(us_equities=commission.PerShare(cost=0.00075, min_trade_cost=0.01))\n",
    "\n",
    "    set_slippage(\n",
    "        us_equities=slippage.VolumeShareSlippage(volume_limit=0.0025, price_impact=0.01)\n",
    "    )"
   ]
  },
  {
   "cell_type": "markdown",
   "id": "76d0a97d",
   "metadata": {
    "lines_to_next_cell": 2
   },
   "source": [
    "Define the rebalance function to execute trades"
   ]
  },
  {
   "cell_type": "code",
   "execution_count": 9,
   "id": "5d23a489",
   "metadata": {
    "lines_to_next_cell": 2
   },
   "outputs": [],
   "source": [
    "def rebalance(context, data):\n",
    "    factor_data = context.factor_data\n",
    "    record(factor_data=factor_data.ranking)\n",
    "\n",
    "    assets = factor_data.index\n",
    "    record(prices=data.current(assets, \"price\"))\n",
    "\n",
    "    longs = assets[factor_data.longs]\n",
    "    shorts = assets[factor_data.shorts]\n",
    "    divest = set(context.portfolio.positions.keys()) - set(longs.union(shorts))\n",
    "    print(\n",
    "        f\"{get_datetime().date()} | Longs {len(longs)} | Shorts | {len(shorts)} | {context.portfolio.portfolio_value}\"\n",
    "    )\n",
    "\n",
    "    exec_trades(data, assets=divest, target_percent=0)\n",
    "    exec_trades(data, assets=longs, target_percent=1 / N_LONGS)\n",
    "    exec_trades(data, assets=shorts, target_percent=-1 / N_SHORTS)"
   ]
  },
  {
   "cell_type": "markdown",
   "id": "9e89f64e",
   "metadata": {
    "lines_to_next_cell": 2
   },
   "source": [
    "Define the function to execute trades"
   ]
  },
  {
   "cell_type": "code",
   "execution_count": 10,
   "id": "ff944166",
   "metadata": {
    "lines_to_next_cell": 2
   },
   "outputs": [],
   "source": [
    "def exec_trades(data, assets, target_percent):\n",
    "    for asset in assets:\n",
    "        if data.can_trade(asset) and not get_open_orders(asset):\n",
    "            order_target_percent(asset, target_percent)"
   ]
  },
  {
   "cell_type": "markdown",
   "id": "7a675f9d",
   "metadata": {
    "lines_to_next_cell": 2
   },
   "source": [
    "Define the analyze function to plot performance"
   ]
  },
  {
   "cell_type": "code",
   "execution_count": 11,
   "id": "a042f12a",
   "metadata": {},
   "outputs": [],
   "source": [
    "def analyze(context, perf):\n",
    "    perf.portfolio_value.plot()"
   ]
  },
  {
   "cell_type": "markdown",
   "id": "7bf49fe8",
   "metadata": {},
   "source": [
    "Define the start and end dates for the backtest"
   ]
  },
  {
   "cell_type": "code",
   "execution_count": 12,
   "id": "5e9d82c1",
   "metadata": {},
   "outputs": [],
   "source": [
    "start = pd.Timestamp(\"2016\")\n",
    "end = pd.Timestamp(\"2018\")"
   ]
  },
  {
   "cell_type": "markdown",
   "id": "4d152f46",
   "metadata": {},
   "source": [
    "Fetch the benchmark returns (S&P 500)"
   ]
  },
  {
   "cell_type": "code",
   "execution_count": 13,
   "id": "fe9b7dc5",
   "metadata": {},
   "outputs": [],
   "source": [
    "sp500 = web.DataReader(\"SP500\", \"fred\", start, end).SP500\n",
    "benchmark_returns = sp500.pct_change()"
   ]
  },
  {
   "cell_type": "markdown",
   "id": "65fb0e68",
   "metadata": {},
   "source": [
    "Run the algorithm"
   ]
  },
  {
   "cell_type": "code",
   "execution_count": 14,
   "id": "2c33526d",
   "metadata": {},
   "outputs": [
    {
     "ename": "ValueError",
     "evalue": "no data for bundle 'quandl' on or before 2025-02-03 05:19:04.815173+00:00\nmaybe you need to run: $ zipline ingest -b quandl",
     "output_type": "error",
     "traceback": [
      "\u001b[0;31m---------------------------------------------------------------------------\u001b[0m",
      "\u001b[0;31mFileNotFoundError\u001b[0m                         Traceback (most recent call last)",
      "File \u001b[0;32m~/Documents/Python-for-Algorithmic-Trading-Cookbook/algo/lib/python3.10/site-packages/zipline/data/bundles/core.py:489\u001b[0m, in \u001b[0;36m_make_bundle_core.<locals>.most_recent_data\u001b[0;34m(bundle_name, timestamp, environ)\u001b[0m\n\u001b[1;32m    488\u001b[0m \u001b[38;5;28;01mtry\u001b[39;00m:\n\u001b[0;32m--> 489\u001b[0m     candidates \u001b[38;5;241m=\u001b[39m \u001b[43mos\u001b[49m\u001b[38;5;241;43m.\u001b[39;49m\u001b[43mlistdir\u001b[49m\u001b[43m(\u001b[49m\n\u001b[1;32m    490\u001b[0m \u001b[43m        \u001b[49m\u001b[43mpth\u001b[49m\u001b[38;5;241;43m.\u001b[39;49m\u001b[43mdata_path\u001b[49m\u001b[43m(\u001b[49m\u001b[43m[\u001b[49m\u001b[43mbundle_name\u001b[49m\u001b[43m]\u001b[49m\u001b[43m,\u001b[49m\u001b[43m \u001b[49m\u001b[43menviron\u001b[49m\u001b[38;5;241;43m=\u001b[39;49m\u001b[43menviron\u001b[49m\u001b[43m)\u001b[49m\u001b[43m,\u001b[49m\n\u001b[1;32m    491\u001b[0m \u001b[43m    \u001b[49m\u001b[43m)\u001b[49m\n\u001b[1;32m    492\u001b[0m     \u001b[38;5;28;01mreturn\u001b[39;00m pth\u001b[38;5;241m.\u001b[39mdata_path(\n\u001b[1;32m    493\u001b[0m         [\n\u001b[1;32m    494\u001b[0m             bundle_name,\n\u001b[0;32m   (...)\u001b[0m\n\u001b[1;32m    500\u001b[0m         environ\u001b[38;5;241m=\u001b[39menviron,\n\u001b[1;32m    501\u001b[0m     )\n",
      "\u001b[0;31mFileNotFoundError\u001b[0m: [Errno 2] No such file or directory: '/Users/kirilllisenkov/.zipline/data/quandl'",
      "\nDuring handling of the above exception, another exception occurred:\n",
      "\u001b[0;31mValueError\u001b[0m                                Traceback (most recent call last)",
      "Cell \u001b[0;32mIn[14], line 1\u001b[0m\n\u001b[0;32m----> 1\u001b[0m perf \u001b[38;5;241m=\u001b[39m \u001b[43mrun_algorithm\u001b[49m\u001b[43m(\u001b[49m\n\u001b[1;32m      2\u001b[0m \u001b[43m    \u001b[49m\u001b[43mstart\u001b[49m\u001b[38;5;241;43m=\u001b[39;49m\u001b[43mstart\u001b[49m\u001b[43m,\u001b[49m\n\u001b[1;32m      3\u001b[0m \u001b[43m    \u001b[49m\u001b[43mend\u001b[49m\u001b[38;5;241;43m=\u001b[39;49m\u001b[43mend\u001b[49m\u001b[43m,\u001b[49m\n\u001b[1;32m      4\u001b[0m \u001b[43m    \u001b[49m\u001b[43minitialize\u001b[49m\u001b[38;5;241;43m=\u001b[39;49m\u001b[43minitialize\u001b[49m\u001b[43m,\u001b[49m\n\u001b[1;32m      5\u001b[0m \u001b[43m    \u001b[49m\u001b[43manalyze\u001b[49m\u001b[38;5;241;43m=\u001b[39;49m\u001b[43manalyze\u001b[49m\u001b[43m,\u001b[49m\n\u001b[1;32m      6\u001b[0m \u001b[43m    \u001b[49m\u001b[43mbenchmark_returns\u001b[49m\u001b[38;5;241;43m=\u001b[39;49m\u001b[43mbenchmark_returns\u001b[49m\u001b[43m,\u001b[49m\n\u001b[1;32m      7\u001b[0m \u001b[43m    \u001b[49m\u001b[43mbefore_trading_start\u001b[49m\u001b[38;5;241;43m=\u001b[39;49m\u001b[43mbefore_trading_start\u001b[49m\u001b[43m,\u001b[49m\n\u001b[1;32m      8\u001b[0m \u001b[43m    \u001b[49m\u001b[43mcapital_base\u001b[49m\u001b[38;5;241;43m=\u001b[39;49m\u001b[38;5;241;43m100_000\u001b[39;49m\u001b[43m,\u001b[49m\n\u001b[1;32m      9\u001b[0m \u001b[43m    \u001b[49m\u001b[43mbundle\u001b[49m\u001b[38;5;241;43m=\u001b[39;49m\u001b[38;5;124;43m\"\u001b[39;49m\u001b[38;5;124;43mquandl\u001b[39;49m\u001b[38;5;124;43m\"\u001b[39;49m\u001b[43m,\u001b[49m\n\u001b[1;32m     10\u001b[0m \u001b[43m)\u001b[49m\n\u001b[1;32m     11\u001b[0m perf\u001b[38;5;241m.\u001b[39mto_pickle(\u001b[38;5;124m\"\u001b[39m\u001b[38;5;124mmean_reversion.pickle\u001b[39m\u001b[38;5;124m\"\u001b[39m)\n",
      "File \u001b[0;32m~/Documents/Python-for-Algorithmic-Trading-Cookbook/algo/lib/python3.10/site-packages/zipline/utils/run_algo.py:399\u001b[0m, in \u001b[0;36mrun_algorithm\u001b[0;34m(start, end, initialize, capital_base, handle_data, before_trading_start, analyze, data_frequency, bundle, bundle_timestamp, trading_calendar, metrics_set, benchmark_returns, default_extension, extensions, strict_extensions, environ, custom_loader, blotter)\u001b[0m\n\u001b[1;32m    395\u001b[0m load_extensions(default_extension, extensions, strict_extensions, environ)\n\u001b[1;32m    397\u001b[0m benchmark_spec \u001b[38;5;241m=\u001b[39m BenchmarkSpec\u001b[38;5;241m.\u001b[39mfrom_returns(benchmark_returns)\n\u001b[0;32m--> 399\u001b[0m \u001b[38;5;28;01mreturn\u001b[39;00m \u001b[43m_run\u001b[49m\u001b[43m(\u001b[49m\n\u001b[1;32m    400\u001b[0m \u001b[43m    \u001b[49m\u001b[43mhandle_data\u001b[49m\u001b[38;5;241;43m=\u001b[39;49m\u001b[43mhandle_data\u001b[49m\u001b[43m,\u001b[49m\n\u001b[1;32m    401\u001b[0m \u001b[43m    \u001b[49m\u001b[43minitialize\u001b[49m\u001b[38;5;241;43m=\u001b[39;49m\u001b[43minitialize\u001b[49m\u001b[43m,\u001b[49m\n\u001b[1;32m    402\u001b[0m \u001b[43m    \u001b[49m\u001b[43mbefore_trading_start\u001b[49m\u001b[38;5;241;43m=\u001b[39;49m\u001b[43mbefore_trading_start\u001b[49m\u001b[43m,\u001b[49m\n\u001b[1;32m    403\u001b[0m \u001b[43m    \u001b[49m\u001b[43manalyze\u001b[49m\u001b[38;5;241;43m=\u001b[39;49m\u001b[43manalyze\u001b[49m\u001b[43m,\u001b[49m\n\u001b[1;32m    404\u001b[0m \u001b[43m    \u001b[49m\u001b[43malgofile\u001b[49m\u001b[38;5;241;43m=\u001b[39;49m\u001b[38;5;28;43;01mNone\u001b[39;49;00m\u001b[43m,\u001b[49m\n\u001b[1;32m    405\u001b[0m \u001b[43m    \u001b[49m\u001b[43malgotext\u001b[49m\u001b[38;5;241;43m=\u001b[39;49m\u001b[38;5;28;43;01mNone\u001b[39;49;00m\u001b[43m,\u001b[49m\n\u001b[1;32m    406\u001b[0m \u001b[43m    \u001b[49m\u001b[43mdefines\u001b[49m\u001b[38;5;241;43m=\u001b[39;49m\u001b[43m(\u001b[49m\u001b[43m)\u001b[49m\u001b[43m,\u001b[49m\n\u001b[1;32m    407\u001b[0m \u001b[43m    \u001b[49m\u001b[43mdata_frequency\u001b[49m\u001b[38;5;241;43m=\u001b[39;49m\u001b[43mdata_frequency\u001b[49m\u001b[43m,\u001b[49m\n\u001b[1;32m    408\u001b[0m \u001b[43m    \u001b[49m\u001b[43mcapital_base\u001b[49m\u001b[38;5;241;43m=\u001b[39;49m\u001b[43mcapital_base\u001b[49m\u001b[43m,\u001b[49m\n\u001b[1;32m    409\u001b[0m \u001b[43m    \u001b[49m\u001b[43mbundle\u001b[49m\u001b[38;5;241;43m=\u001b[39;49m\u001b[43mbundle\u001b[49m\u001b[43m,\u001b[49m\n\u001b[1;32m    410\u001b[0m \u001b[43m    \u001b[49m\u001b[43mbundle_timestamp\u001b[49m\u001b[38;5;241;43m=\u001b[39;49m\u001b[43mbundle_timestamp\u001b[49m\u001b[43m,\u001b[49m\n\u001b[1;32m    411\u001b[0m \u001b[43m    \u001b[49m\u001b[43mstart\u001b[49m\u001b[38;5;241;43m=\u001b[39;49m\u001b[43mstart\u001b[49m\u001b[43m,\u001b[49m\n\u001b[1;32m    412\u001b[0m \u001b[43m    \u001b[49m\u001b[43mend\u001b[49m\u001b[38;5;241;43m=\u001b[39;49m\u001b[43mend\u001b[49m\u001b[43m,\u001b[49m\n\u001b[1;32m    413\u001b[0m \u001b[43m    \u001b[49m\u001b[43moutput\u001b[49m\u001b[38;5;241;43m=\u001b[39;49m\u001b[43mos\u001b[49m\u001b[38;5;241;43m.\u001b[39;49m\u001b[43mdevnull\u001b[49m\u001b[43m,\u001b[49m\n\u001b[1;32m    414\u001b[0m \u001b[43m    \u001b[49m\u001b[43mtrading_calendar\u001b[49m\u001b[38;5;241;43m=\u001b[39;49m\u001b[43mtrading_calendar\u001b[49m\u001b[43m,\u001b[49m\n\u001b[1;32m    415\u001b[0m \u001b[43m    \u001b[49m\u001b[43mprint_algo\u001b[49m\u001b[38;5;241;43m=\u001b[39;49m\u001b[38;5;28;43;01mFalse\u001b[39;49;00m\u001b[43m,\u001b[49m\n\u001b[1;32m    416\u001b[0m \u001b[43m    \u001b[49m\u001b[43mmetrics_set\u001b[49m\u001b[38;5;241;43m=\u001b[39;49m\u001b[43mmetrics_set\u001b[49m\u001b[43m,\u001b[49m\n\u001b[1;32m    417\u001b[0m \u001b[43m    \u001b[49m\u001b[43mlocal_namespace\u001b[49m\u001b[38;5;241;43m=\u001b[39;49m\u001b[38;5;28;43;01mFalse\u001b[39;49;00m\u001b[43m,\u001b[49m\n\u001b[1;32m    418\u001b[0m \u001b[43m    \u001b[49m\u001b[43menviron\u001b[49m\u001b[38;5;241;43m=\u001b[39;49m\u001b[43menviron\u001b[49m\u001b[43m,\u001b[49m\n\u001b[1;32m    419\u001b[0m \u001b[43m    \u001b[49m\u001b[43mblotter\u001b[49m\u001b[38;5;241;43m=\u001b[39;49m\u001b[43mblotter\u001b[49m\u001b[43m,\u001b[49m\n\u001b[1;32m    420\u001b[0m \u001b[43m    \u001b[49m\u001b[43mcustom_loader\u001b[49m\u001b[38;5;241;43m=\u001b[39;49m\u001b[43mcustom_loader\u001b[49m\u001b[43m,\u001b[49m\n\u001b[1;32m    421\u001b[0m \u001b[43m    \u001b[49m\u001b[43mbenchmark_spec\u001b[49m\u001b[38;5;241;43m=\u001b[39;49m\u001b[43mbenchmark_spec\u001b[49m\u001b[43m,\u001b[49m\n\u001b[1;32m    422\u001b[0m \u001b[43m\u001b[49m\u001b[43m)\u001b[49m\n",
      "File \u001b[0;32m~/Documents/Python-for-Algorithmic-Trading-Cookbook/algo/lib/python3.10/site-packages/zipline/utils/run_algo.py:93\u001b[0m, in \u001b[0;36m_run\u001b[0;34m(handle_data, initialize, before_trading_start, analyze, algofile, algotext, defines, data_frequency, capital_base, bundle, bundle_timestamp, start, end, output, trading_calendar, print_algo, metrics_set, local_namespace, environ, blotter, custom_loader, benchmark_spec)\u001b[0m\n\u001b[1;32m     64\u001b[0m \u001b[38;5;28;01mdef\u001b[39;00m\u001b[38;5;250m \u001b[39m\u001b[38;5;21m_run\u001b[39m(\n\u001b[1;32m     65\u001b[0m     handle_data,\n\u001b[1;32m     66\u001b[0m     initialize,\n\u001b[0;32m   (...)\u001b[0m\n\u001b[1;32m     86\u001b[0m     benchmark_spec,\n\u001b[1;32m     87\u001b[0m ):\n\u001b[1;32m     88\u001b[0m \u001b[38;5;250m    \u001b[39m\u001b[38;5;124;03m\"\"\"Run a backtest for the given algorithm.\u001b[39;00m\n\u001b[1;32m     89\u001b[0m \n\u001b[1;32m     90\u001b[0m \u001b[38;5;124;03m    This is shared between the cli and :func:`zipline.run_algo`.\u001b[39;00m\n\u001b[1;32m     91\u001b[0m \u001b[38;5;124;03m    \"\"\"\u001b[39;00m\n\u001b[0;32m---> 93\u001b[0m     bundle_data \u001b[38;5;241m=\u001b[39m \u001b[43mbundles\u001b[49m\u001b[38;5;241;43m.\u001b[39;49m\u001b[43mload\u001b[49m\u001b[43m(\u001b[49m\n\u001b[1;32m     94\u001b[0m \u001b[43m        \u001b[49m\u001b[43mbundle\u001b[49m\u001b[43m,\u001b[49m\n\u001b[1;32m     95\u001b[0m \u001b[43m        \u001b[49m\u001b[43menviron\u001b[49m\u001b[43m,\u001b[49m\n\u001b[1;32m     96\u001b[0m \u001b[43m        \u001b[49m\u001b[43mbundle_timestamp\u001b[49m\u001b[43m,\u001b[49m\n\u001b[1;32m     97\u001b[0m \u001b[43m    \u001b[49m\u001b[43m)\u001b[49m\n\u001b[1;32m     99\u001b[0m     \u001b[38;5;28;01mif\u001b[39;00m trading_calendar \u001b[38;5;129;01mis\u001b[39;00m \u001b[38;5;28;01mNone\u001b[39;00m:\n\u001b[1;32m    100\u001b[0m         trading_calendar \u001b[38;5;241m=\u001b[39m get_calendar(\u001b[38;5;124m\"\u001b[39m\u001b[38;5;124mXNYS\u001b[39m\u001b[38;5;124m\"\u001b[39m)\n",
      "File \u001b[0;32m~/Documents/Python-for-Algorithmic-Trading-Cookbook/algo/lib/python3.10/site-packages/zipline/data/bundles/core.py:533\u001b[0m, in \u001b[0;36m_make_bundle_core.<locals>.load\u001b[0;34m(name, environ, timestamp)\u001b[0m\n\u001b[1;32m    531\u001b[0m \u001b[38;5;28;01mif\u001b[39;00m timestamp \u001b[38;5;129;01mis\u001b[39;00m \u001b[38;5;28;01mNone\u001b[39;00m:\n\u001b[1;32m    532\u001b[0m     timestamp \u001b[38;5;241m=\u001b[39m pd\u001b[38;5;241m.\u001b[39mTimestamp\u001b[38;5;241m.\u001b[39mutcnow()\n\u001b[0;32m--> 533\u001b[0m timestr \u001b[38;5;241m=\u001b[39m \u001b[43mmost_recent_data\u001b[49m\u001b[43m(\u001b[49m\u001b[43mname\u001b[49m\u001b[43m,\u001b[49m\u001b[43m \u001b[49m\u001b[43mtimestamp\u001b[49m\u001b[43m,\u001b[49m\u001b[43m \u001b[49m\u001b[43menviron\u001b[49m\u001b[38;5;241;43m=\u001b[39;49m\u001b[43menviron\u001b[49m\u001b[43m)\u001b[49m\n\u001b[1;32m    534\u001b[0m \u001b[38;5;28;01mreturn\u001b[39;00m BundleData(\n\u001b[1;32m    535\u001b[0m     asset_finder\u001b[38;5;241m=\u001b[39mAssetFinder(\n\u001b[1;32m    536\u001b[0m         asset_db_path(name, timestr, environ\u001b[38;5;241m=\u001b[39menviron),\n\u001b[0;32m   (...)\u001b[0m\n\u001b[1;32m    546\u001b[0m     ),\n\u001b[1;32m    547\u001b[0m )\n",
      "File \u001b[0;32m~/Documents/Python-for-Algorithmic-Trading-Cookbook/algo/lib/python3.10/site-packages/zipline/data/bundles/core.py:505\u001b[0m, in \u001b[0;36m_make_bundle_core.<locals>.most_recent_data\u001b[0;34m(bundle_name, timestamp, environ)\u001b[0m\n\u001b[1;32m    503\u001b[0m \u001b[38;5;28;01mif\u001b[39;00m \u001b[38;5;28mgetattr\u001b[39m(e, \u001b[38;5;124m\"\u001b[39m\u001b[38;5;124merrno\u001b[39m\u001b[38;5;124m\"\u001b[39m, errno\u001b[38;5;241m.\u001b[39mENOENT) \u001b[38;5;241m!=\u001b[39m errno\u001b[38;5;241m.\u001b[39mENOENT:\n\u001b[1;32m    504\u001b[0m     \u001b[38;5;28;01mraise\u001b[39;00m\n\u001b[0;32m--> 505\u001b[0m \u001b[38;5;28;01mraise\u001b[39;00m \u001b[38;5;167;01mValueError\u001b[39;00m(\n\u001b[1;32m    506\u001b[0m     \u001b[38;5;124m\"\u001b[39m\u001b[38;5;124mno data for bundle \u001b[39m\u001b[38;5;132;01m{bundle!r}\u001b[39;00m\u001b[38;5;124m on or before \u001b[39m\u001b[38;5;132;01m{timestamp}\u001b[39;00m\u001b[38;5;130;01m\\n\u001b[39;00m\u001b[38;5;124m\"\u001b[39m\n\u001b[1;32m    507\u001b[0m     \u001b[38;5;124m\"\u001b[39m\u001b[38;5;124mmaybe you need to run: $ zipline ingest -b \u001b[39m\u001b[38;5;132;01m{bundle}\u001b[39;00m\u001b[38;5;124m\"\u001b[39m\u001b[38;5;241m.\u001b[39mformat(\n\u001b[1;32m    508\u001b[0m         bundle\u001b[38;5;241m=\u001b[39mbundle_name,\n\u001b[1;32m    509\u001b[0m         timestamp\u001b[38;5;241m=\u001b[39mtimestamp,\n\u001b[1;32m    510\u001b[0m     ),\n\u001b[1;32m    511\u001b[0m )\n",
      "\u001b[0;31mValueError\u001b[0m: no data for bundle 'quandl' on or before 2025-02-03 05:19:04.815173+00:00\nmaybe you need to run: $ zipline ingest -b quandl"
     ]
    }
   ],
   "source": [
    "perf = run_algorithm(\n",
    "    start=start,\n",
    "    end=end,\n",
    "    initialize=initialize,\n",
    "    analyze=analyze,\n",
    "    benchmark_returns=benchmark_returns,\n",
    "    before_trading_start=before_trading_start,\n",
    "    capital_base=100_000,\n",
    "    bundle=\"quandl\",\n",
    ")\n",
    "perf.to_pickle(\"mean_reversion.pickle\")"
   ]
  },
  {
   "cell_type": "markdown",
   "id": "a62ff7e7",
   "metadata": {},
   "source": [
    "Display the pipeline graph"
   ]
  },
  {
   "cell_type": "code",
   "execution_count": 15,
   "id": "995330a2",
   "metadata": {},
   "outputs": [
    {
     "data": {
      "image/svg+xml": [
       "<svg xmlns=\"http://www.w3.org/2000/svg\" xmlns:xlink=\"http://www.w3.org/1999/xlink\" width=\"473pt\" height=\"581pt\" viewBox=\"0.00 0.00 473.00 581.00\">\n",
       "<g id=\"graph0\" class=\"graph\" transform=\"scale(1 1) rotate(0) translate(4 577)\">\n",
       "<title>G</title>\n",
       "<polygon fill=\"white\" stroke=\"none\" points=\"-4,4 -4,-577 469,-577 469,4 -4,4\"/>\n",
       "<g id=\"clust1\" class=\"cluster\">\n",
       "<title>cluster_Output</title>\n",
       "<polygon fill=\"#ffec8b\" stroke=\"#ffec8b\" points=\"21,-8 21,-183 457,-183 457,-8 21,-8\"/>\n",
       "<text text-anchor=\"middle\" x=\"239\" y=\"-15.2\" font-family=\"Times,serif\" font-size=\"14.00\">Output</text>\n",
       "</g>\n",
       "<g id=\"clust2\" class=\"cluster\">\n",
       "<title>cluster_Input</title>\n",
       "<polygon fill=\"#ffec8b\" stroke=\"#ffec8b\" points=\"8,-467 8,-565 335,-565 335,-467 8,-467\"/>\n",
       "<text text-anchor=\"middle\" x=\"171.5\" y=\"-547.7\" font-family=\"Times,serif\" font-size=\"14.00\">Input</text>\n",
       "</g>\n",
       "<!-- 5799846496 -->\n",
       "<g id=\"node1\" class=\"node\">\n",
       "<title>5799846496</title>\n",
       "<polygon fill=\"#ccebc5\" stroke=\"black\" points=\"449.38,-166.75 318.62,-166.75 318.62,-125.75 449.38,-125.75 449.38,-166.75\"/>\n",
       "<text text-anchor=\"start\" x=\"326.62\" y=\"-149.45\" font-family=\"Times,serif\" font-size=\"14.00\">Expression:</text>\n",
       "<text text-anchor=\"start\" x=\"326.62\" y=\"-132.95\" font-family=\"Times,serif\" font-size=\"14.00\">  x_0 &lt;= (5.00E+01)</text>\n",
       "</g>\n",
       "<!-- 5799845248 -->\n",
       "<g id=\"node2\" class=\"node\">\n",
       "<title>5799845248</title>\n",
       "<polygon fill=\"#ccebc5\" stroke=\"black\" points=\"304.38,-81.5 173.62,-81.5 173.62,-40.5 304.38,-40.5 304.38,-81.5\"/>\n",
       "<text text-anchor=\"start\" x=\"181.62\" y=\"-64.2\" font-family=\"Times,serif\" font-size=\"14.00\">Expression:</text>\n",
       "<text text-anchor=\"start\" x=\"181.62\" y=\"-47.7\" font-family=\"Times,serif\" font-size=\"14.00\">  x_0 &lt;= (5.00E+01)</text>\n",
       "</g>\n",
       "<!-- 5799845344 -->\n",
       "<g id=\"node3\" class=\"node\">\n",
       "<title>5799845344</title>\n",
       "<polygon fill=\"#b3cde3\" stroke=\"black\" points=\"300.25,-175 177.75,-175 177.75,-117.5 300.25,-117.5 300.25,-175\"/>\n",
       "<text text-anchor=\"start\" x=\"185.75\" y=\"-157.7\" font-family=\"Times,serif\" font-size=\"14.00\">Rank:</text>\n",
       "<text text-anchor=\"start\" x=\"185.75\" y=\"-141.2\" font-family=\"Times,serif\" font-size=\"14.00\">  method: 'ordinal'</text>\n",
       "<text text-anchor=\"start\" x=\"185.75\" y=\"-124.7\" font-family=\"Times,serif\" font-size=\"14.00\">  mask: AssetExists</text>\n",
       "</g>\n",
       "<!-- 5799845344&#45;&gt;5799845248 -->\n",
       "<g id=\"edge7\" class=\"edge\">\n",
       "<title>5799845344-&gt;5799845248</title>\n",
       "<path fill=\"none\" stroke=\"black\" d=\"M239,-117.39C239,-117.39 239,-92.75 239,-92.75\"/>\n",
       "<polygon fill=\"black\" stroke=\"black\" points=\"242.5,-92.75 239,-82.75 235.5,-92.75 242.5,-92.75\"/>\n",
       "</g>\n",
       "<!-- 5798303712 -->\n",
       "<g id=\"node4\" class=\"node\">\n",
       "<title>5798303712</title>\n",
       "<polygon fill=\"#ccebc5\" stroke=\"black\" points=\"159.38,-166.75 28.62,-166.75 28.62,-125.75 159.38,-125.75 159.38,-166.75\"/>\n",
       "<text text-anchor=\"start\" x=\"36.62\" y=\"-149.45\" font-family=\"Times,serif\" font-size=\"14.00\">Expression:</text>\n",
       "<text text-anchor=\"start\" x=\"36.62\" y=\"-132.95\" font-family=\"Times,serif\" font-size=\"14.00\">  x_0 &lt;= (1.00E+02)</text>\n",
       "</g>\n",
       "<!-- 5367220160 -->\n",
       "<g id=\"node5\" class=\"node\">\n",
       "<title>5367220160</title>\n",
       "<polygon fill=\"#fbb4ae\" stroke=\"black\" points=\"162.25,-532.5 15.75,-532.5 15.75,-475 162.25,-475 162.25,-532.5\"/>\n",
       "<text text-anchor=\"start\" x=\"23.75\" y=\"-515.2\" font-family=\"Times,serif\" font-size=\"14.00\">BoundColumn:</text>\n",
       "<text text-anchor=\"start\" x=\"23.75\" y=\"-498.7\" font-family=\"Times,serif\" font-size=\"14.00\">  Dataset: EquityPricing</text>\n",
       "<text text-anchor=\"start\" x=\"23.75\" y=\"-482.2\" font-family=\"Times,serif\" font-size=\"14.00\">  Column: volume</text>\n",
       "</g>\n",
       "<!-- 5799849520 -->\n",
       "<g id=\"node8\" class=\"node\">\n",
       "<title>5799849520</title>\n",
       "<polygon fill=\"#b3cde3\" stroke=\"black\" points=\"165.38,-439 22.62,-439 22.62,-398 165.38,-398 165.38,-439\"/>\n",
       "<text text-anchor=\"start\" x=\"30.62\" y=\"-421.7\" font-family=\"Times,serif\" font-size=\"14.00\">AverageDollarVolume:</text>\n",
       "<text text-anchor=\"start\" x=\"30.62\" y=\"-405.2\" font-family=\"Times,serif\" font-size=\"14.00\">  window_length: 30</text>\n",
       "</g>\n",
       "<!-- 5367220160&#45;&gt;5799849520 -->\n",
       "<g id=\"edge10\" class=\"edge\">\n",
       "<title>5367220160-&gt;5799849520</title>\n",
       "<path fill=\"none\" stroke=\"black\" d=\"M92.44,-474.89C92.44,-474.89 92.44,-450.25 92.44,-450.25\"/>\n",
       "<polygon fill=\"black\" stroke=\"black\" points=\"95.94,-450.25 92.44,-440.25 88.94,-450.25 95.94,-450.25\"/>\n",
       "</g>\n",
       "<!-- 5365877440 -->\n",
       "<g id=\"node6\" class=\"node\">\n",
       "<title>5365877440</title>\n",
       "<polygon fill=\"#fbb4ae\" stroke=\"black\" points=\"327.25,-532.5 180.75,-532.5 180.75,-475 327.25,-475 327.25,-532.5\"/>\n",
       "<text text-anchor=\"start\" x=\"188.75\" y=\"-515.2\" font-family=\"Times,serif\" font-size=\"14.00\">BoundColumn:</text>\n",
       "<text text-anchor=\"start\" x=\"188.75\" y=\"-498.7\" font-family=\"Times,serif\" font-size=\"14.00\">  Dataset: EquityPricing</text>\n",
       "<text text-anchor=\"start\" x=\"188.75\" y=\"-482.2\" font-family=\"Times,serif\" font-size=\"14.00\">  Column: close</text>\n",
       "</g>\n",
       "<!-- 5778453072 -->\n",
       "<g id=\"node7\" class=\"node\">\n",
       "<title>5778453072</title>\n",
       "<polygon fill=\"#b3cde3\" stroke=\"black\" points=\"318.25,-439 189.75,-439 189.75,-398 318.25,-398 318.25,-439\"/>\n",
       "<text text-anchor=\"start\" x=\"197.75\" y=\"-421.7\" font-family=\"Times,serif\" font-size=\"14.00\">Returns:</text>\n",
       "<text text-anchor=\"start\" x=\"197.75\" y=\"-405.2\" font-family=\"Times,serif\" font-size=\"14.00\">  window_length: 21</text>\n",
       "</g>\n",
       "<!-- 5365877440&#45;&gt;5778453072 -->\n",
       "<g id=\"edge5\" class=\"edge\">\n",
       "<title>5365877440-&gt;5778453072</title>\n",
       "<path fill=\"none\" stroke=\"black\" d=\"M254,-474.89C254,-474.89 254,-450.25 254,-450.25\"/>\n",
       "<polygon fill=\"black\" stroke=\"black\" points=\"257.5,-450.25 254,-440.25 250.5,-450.25 257.5,-450.25\"/>\n",
       "</g>\n",
       "<!-- 5365877440&#45;&gt;5799849520 -->\n",
       "<g id=\"edge6\" class=\"edge\">\n",
       "<title>5365877440-&gt;5799849520</title>\n",
       "<path fill=\"none\" stroke=\"black\" d=\"M180.55,-503C173.84,-503 169.5,-503 169.5,-503 169.5,-503 169.5,-418 169.5,-418 169.5,-418 169.14,-418 169.14,-418\"/>\n",
       "<polygon fill=\"black\" stroke=\"black\" points=\"176.86,-414.5 166.86,-418 176.86,-421.5 176.86,-414.5\"/>\n",
       "</g>\n",
       "<!-- 5799845392 -->\n",
       "<g id=\"node9\" class=\"node\">\n",
       "<title>5799845392</title>\n",
       "<polygon fill=\"#b3cde3\" stroke=\"black\" points=\"321.62,-353.75 186.38,-353.75 186.38,-312.75 321.62,-312.75 321.62,-353.75\"/>\n",
       "<text text-anchor=\"start\" x=\"194.38\" y=\"-336.45\" font-family=\"Times,serif\" font-size=\"14.00\">MeanReversion:</text>\n",
       "<text text-anchor=\"start\" x=\"194.38\" y=\"-319.95\" font-family=\"Times,serif\" font-size=\"14.00\">  window_length: 252</text>\n",
       "</g>\n",
       "<!-- 5778453072&#45;&gt;5799845392 -->\n",
       "<g id=\"edge4\" class=\"edge\">\n",
       "<title>5778453072-&gt;5799845392</title>\n",
       "<path fill=\"none\" stroke=\"black\" d=\"M254,-397.86C254,-397.86 254,-364.99 254,-364.99\"/>\n",
       "<polygon fill=\"black\" stroke=\"black\" points=\"257.5,-364.99 254,-354.99 250.5,-364.99 257.5,-364.99\"/>\n",
       "</g>\n",
       "<!-- 5798311872 -->\n",
       "<g id=\"node10\" class=\"node\">\n",
       "<title>5798311872</title>\n",
       "<polygon fill=\"#b3cde3\" stroke=\"black\" points=\"155.25,-362 32.75,-362 32.75,-304.5 155.25,-304.5 155.25,-362\"/>\n",
       "<text text-anchor=\"start\" x=\"40.75\" y=\"-344.7\" font-family=\"Times,serif\" font-size=\"14.00\">Rank:</text>\n",
       "<text text-anchor=\"start\" x=\"40.75\" y=\"-328.2\" font-family=\"Times,serif\" font-size=\"14.00\">  method: 'ordinal'</text>\n",
       "<text text-anchor=\"start\" x=\"40.75\" y=\"-311.7\" font-family=\"Times,serif\" font-size=\"14.00\">  mask: AssetExists</text>\n",
       "</g>\n",
       "<!-- 5799849520&#45;&gt;5798311872 -->\n",
       "<g id=\"edge9\" class=\"edge\">\n",
       "<title>5799849520-&gt;5798311872</title>\n",
       "<path fill=\"none\" stroke=\"black\" d=\"M94,-397.86C94,-397.86 94,-373.39 94,-373.39\"/>\n",
       "<polygon fill=\"black\" stroke=\"black\" points=\"97.5,-373.39 94,-363.39 90.5,-373.39 97.5,-373.39\"/>\n",
       "</g>\n",
       "<!-- 5799845392&#45;&gt;5799845344 -->\n",
       "<g id=\"edge3\" class=\"edge\">\n",
       "<title>5799845392-&gt;5799845344</title>\n",
       "<path fill=\"none\" stroke=\"black\" d=\"M243.31,-312.52C243.31,-312.52 243.31,-186.33 243.31,-186.33\"/>\n",
       "<polygon fill=\"black\" stroke=\"black\" points=\"246.81,-186.33 243.31,-176.33 239.81,-186.33 246.81,-186.33\"/>\n",
       "</g>\n",
       "<!-- 5799847024 -->\n",
       "<g id=\"node11\" class=\"node\">\n",
       "<title>5799847024</title>\n",
       "<polygon fill=\"#b3cde3\" stroke=\"black\" points=\"424.25,-268.5 301.75,-268.5 301.75,-211 424.25,-211 424.25,-268.5\"/>\n",
       "<text text-anchor=\"start\" x=\"309.75\" y=\"-251.2\" font-family=\"Times,serif\" font-size=\"14.00\">Rank:</text>\n",
       "<text text-anchor=\"start\" x=\"309.75\" y=\"-234.7\" font-family=\"Times,serif\" font-size=\"14.00\">  method: 'ordinal'</text>\n",
       "<text text-anchor=\"start\" x=\"309.75\" y=\"-218.2\" font-family=\"Times,serif\" font-size=\"14.00\">  mask: AssetExists</text>\n",
       "</g>\n",
       "<!-- 5799845392&#45;&gt;5799847024 -->\n",
       "<g id=\"edge2\" class=\"edge\">\n",
       "<title>5799845392-&gt;5799847024</title>\n",
       "<path fill=\"none\" stroke=\"black\" d=\"M311.69,-312.5C311.69,-312.5 311.69,-279.95 311.69,-279.95\"/>\n",
       "<polygon fill=\"black\" stroke=\"black\" points=\"315.19,-279.95 311.69,-269.95 308.19,-279.95 315.19,-279.95\"/>\n",
       "</g>\n",
       "<!-- 5798311872&#45;&gt;5798303712 -->\n",
       "<g id=\"edge8\" class=\"edge\">\n",
       "<title>5798311872-&gt;5798303712</title>\n",
       "<path fill=\"none\" stroke=\"black\" d=\"M94,-304.03C94,-304.03 94,-178.16 94,-178.16\"/>\n",
       "<polygon fill=\"black\" stroke=\"black\" points=\"97.5,-178.16 94,-168.16 90.5,-178.16 97.5,-178.16\"/>\n",
       "</g>\n",
       "<!-- 5799847024&#45;&gt;5799846496 -->\n",
       "<g id=\"edge1\" class=\"edge\">\n",
       "<title>5799847024-&gt;5799846496</title>\n",
       "<path fill=\"none\" stroke=\"black\" d=\"M371.44,-210.68C371.44,-210.68 371.44,-177.99 371.44,-177.99\"/>\n",
       "<polygon fill=\"black\" stroke=\"black\" points=\"374.94,-177.99 371.44,-167.99 367.94,-177.99 374.94,-177.99\"/>\n",
       "</g>\n",
       "</g>\n",
       "</svg>"
      ],
      "text/plain": [
       "<IPython.core.display.SVG object>"
      ]
     },
     "execution_count": 15,
     "metadata": {},
     "output_type": "execute_result"
    }
   ],
   "source": [
    "p = make_pipeline()\n",
    "p.show_graph()"
   ]
  },
  {
   "cell_type": "markdown",
   "id": "a387994a",
   "metadata": {},
   "source": [
    "Plot beta and alpha of the portfolio"
   ]
  },
  {
   "cell_type": "code",
   "execution_count": 16,
   "id": "b2cb442e",
   "metadata": {},
   "outputs": [
    {
     "data": {
      "text/plain": [
       "<Axes: >"
      ]
     },
     "execution_count": 16,
     "metadata": {},
     "output_type": "execute_result"
    },
    {
     "data": {
      "image/png": "[encoded data removed]",
      "text/plain": [
       "<Figure size 640x480 with 1 Axes>"
      ]
     },
     "metadata": {},
     "output_type": "display_data"
    }
   ],
   "source": [
    "perf.beta.plot()\n",
    "perf.alpha.plot()"
   ]
  },
  {
   "cell_type": "markdown",
   "id": "59db3b53",
   "metadata": {},
   "source": [
    "**Jason Strimpel** is the founder of <a href='https://pyquantnews.com/'>PyQuant News</a> and co-founder of <a href='https://www.tradeblotter.io/'>Trade Blotter</a>. His career in algorithmic trading spans 20+ years. He previously traded for a Chicago-based hedge fund, was a risk manager at JPMorgan, and managed production risk technology for an energy derivatives trading firm in London. In Singapore, he served as APAC CIO for an agricultural trading firm and built the data science team for a global metals trading firm. Jason holds degrees in Finance and Economics and a Master's in Quantitative Finance from the Illinois Institute of Technology. His career spans America, Europe, and Asia. He shares his expertise through the <a href='https://pyquantnews.com/subscribe-to-the-pyquant-newsletter/'>PyQuant Newsletter</a>, social media, and has taught over 1,000+ algorithmic trading with Python in his popular course **<a href='https://gettingstartedwithpythonforquantfinance.com/'>Getting Started With Python for Quant Finance</a>**. All code is for educational purposes only. Nothing provided here is financial advise. Use at your own risk."
   ]
  },
  {
   "cell_type": "code",
   "execution_count": null,
   "id": "de28c228-a01d-46af-9dde-018992b79cb1",
   "metadata": {},
   "outputs": [],
   "source": []
  }
 ],
 "metadata": {
  "jupytext": {
   "cell_metadata_filter": "-all",
   "main_language": "python",
   "notebook_metadata_filter": "-all"
  },
  "kernelspec": {
   "display_name": "algo",
   "language": "python",
   "name": "python3"
  },
  "language_info": {
   "codemirror_mode": {
    "name": "ipython",
    "version": 3
   },
   "file_extension": ".py",
   "mimetype": "text/x-python",
   "name": "python",
   "nbconvert_exporter": "python",
   "pygments_lexer": "ipython3",
   "version": "3.10.16"
  }
 },
 "nbformat": 4,
 "nbformat_minor": 5
}

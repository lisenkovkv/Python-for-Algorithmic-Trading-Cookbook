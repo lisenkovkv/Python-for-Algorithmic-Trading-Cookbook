{
 "cells": [
  {
   "cell_type": "markdown",
   "id": "193adc3c",
   "metadata": {},
   "source": [
    "## Examining Factor Return Performance"
   ]
  },
  {
   "cell_type": "code",
   "execution_count": 1,
   "id": "29df3120",
   "metadata": {},
   "outputs": [],
   "source": [
    "import warnings"
   ]
  },
  {
   "cell_type": "code",
   "execution_count": 2,
   "id": "b38bed9a",
   "metadata": {},
   "outputs": [],
   "source": [
    "import alphalens\n",
    "import pandas as pd\n",
    "from alphalens.performance import (\n",
    "    compute_mean_returns_spread,\n",
    "    cumulative_returns,\n",
    "    factor_alpha_beta,\n",
    "    factor_cumulative_returns,\n",
    "    factor_returns,\n",
    "    mean_return_by_quantile,\n",
    ")\n",
    "from alphalens.utils import get_clean_factor_and_forward_returns\n",
    "from IPython.display import Markdown, display"
   ]
  },
  {
   "cell_type": "code",
   "execution_count": 3,
   "id": "2e90a036",
   "metadata": {},
   "outputs": [],
   "source": [
    "warnings.filterwarnings(\"ignore\")"
   ]
  },
  {
   "cell_type": "markdown",
   "id": "b21413a2",
   "metadata": {},
   "source": [
    "Load the mean reversion data"
   ]
  },
  {
   "cell_type": "code",
   "execution_count": 4,
   "id": "2d032bdb",
   "metadata": {},
   "outputs": [],
   "source": [
    "mean_reversion = pd.read_pickle(\"mean_reversion.pickle\")"
   ]
  },
  {
   "cell_type": "markdown",
   "id": "6a7ea8d4",
   "metadata": {},
   "source": [
    "Construct a dataframe with symbols in the columns and dates in the rows for prices"
   ]
  },
  {
   "cell_type": "code",
   "execution_count": 5,
   "id": "63c25fea",
   "metadata": {},
   "outputs": [],
   "source": [
    "prices = pd.concat(\n",
    "    [df.to_frame(d) for d, df in mean_reversion.prices.dropna().items()], axis=1\n",
    ").T"
   ]
  },
  {
   "cell_type": "markdown",
   "id": "59e1e230",
   "metadata": {},
   "source": [
    "Convert column names to strings"
   ]
  },
  {
   "cell_type": "code",
   "execution_count": 6,
   "id": "668c5f1d",
   "metadata": {},
   "outputs": [],
   "source": [
    "prices.columns = [col.symbol for col in prices.columns]"
   ]
  },
  {
   "cell_type": "markdown",
   "id": "b5ca7ab4",
   "metadata": {},
   "source": [
    "Normalize Timestamp to midnight, preserving tz information"
   ]
  },
  {
   "cell_type": "code",
   "execution_count": 7,
   "id": "c90f969f",
   "metadata": {},
   "outputs": [],
   "source": [
    "prices.index = prices.index.normalize()"
   ]
  },
  {
   "cell_type": "markdown",
   "id": "2a986eb2",
   "metadata": {},
   "source": [
    "Construct a dataframe with symbols in the columns and factor rank in the rows"
   ]
  },
  {
   "cell_type": "code",
   "execution_count": 8,
   "id": "91242aad",
   "metadata": {},
   "outputs": [],
   "source": [
    "factor_data = pd.concat(\n",
    "    [df.to_frame(d) for d, df in mean_reversion.factor_data.dropna().items()], axis=1\n",
    ").T"
   ]
  },
  {
   "cell_type": "markdown",
   "id": "49669e6a",
   "metadata": {},
   "source": [
    "Convert column names to strings"
   ]
  },
  {
   "cell_type": "code",
   "execution_count": 9,
   "id": "35a29c88",
   "metadata": {},
   "outputs": [],
   "source": [
    "factor_data.columns = [col.symbol for col in factor_data.columns]"
   ]
  },
  {
   "cell_type": "markdown",
   "id": "97560445",
   "metadata": {},
   "source": [
    "Normalize Timestamp to midnight, preserving tz information"
   ]
  },
  {
   "cell_type": "code",
   "execution_count": 10,
   "id": "cd72d32d",
   "metadata": {},
   "outputs": [],
   "source": [
    "factor_data.index = factor_data.index.normalize()"
   ]
  },
  {
   "cell_type": "markdown",
   "id": "ec659dff",
   "metadata": {},
   "source": [
    "Create a multiindex with date in level 0 and symbol in level 1"
   ]
  },
  {
   "cell_type": "code",
   "execution_count": 11,
   "id": "fae339c2",
   "metadata": {},
   "outputs": [],
   "source": [
    "factor_data = factor_data.stack()"
   ]
  },
  {
   "cell_type": "markdown",
   "id": "cb7ba133",
   "metadata": {},
   "source": [
    "Rename the multiindexes"
   ]
  },
  {
   "cell_type": "code",
   "execution_count": 12,
   "id": "d26ff34b",
   "metadata": {},
   "outputs": [],
   "source": [
    "factor_data.index.names = [\"date\", \"asset\"]"
   ]
  },
  {
   "cell_type": "markdown",
   "id": "0c7b6452",
   "metadata": {},
   "source": [
    "Compile the forward returns, factor rank, and factor quantile using Alphalens"
   ]
  },
  {
   "cell_type": "code",
   "execution_count": 13,
   "id": "ca73db98",
   "metadata": {},
   "outputs": [
    {
     "name": "stdout",
     "output_type": "stream",
     "text": [
      "Dropped 12.5% entries from factor data: 12.5% in forward returns computation and 0.0% in binning phase (set max_loss=0 to see potentially suppressed Exceptions).\n",
      "max_loss is 35.0%, not exceeded: OK!\n"
     ]
    }
   ],
   "source": [
    "alphalens_data = get_clean_factor_and_forward_returns(\n",
    "    factor=factor_data, prices=prices, periods=(5, 10, 21, 63)\n",
    ")"
   ]
  },
  {
   "cell_type": "markdown",
   "id": "41b8bd35",
   "metadata": {},
   "source": [
    "Calculate and display factor returns"
   ]
  },
  {
   "cell_type": "code",
   "execution_count": 14,
   "id": "ffd8bb37",
   "metadata": {},
   "outputs": [
    {
     "data": {
      "text/html": [
       "<div>\n",
       "<style scoped>\n",
       "    .dataframe tbody tr th:only-of-type {\n",
       "        vertical-align: middle;\n",
       "    }\n",
       "\n",
       "    .dataframe tbody tr th {\n",
       "        vertical-align: top;\n",
       "    }\n",
       "\n",
       "    .dataframe thead th {\n",
       "        text-align: right;\n",
       "    }\n",
       "</style>\n",
       "<table border=\"1\" class=\"dataframe\">\n",
       "  <thead>\n",
       "    <tr style=\"text-align: right;\">\n",
       "      <th></th>\n",
       "      <th>5D</th>\n",
       "      <th>10D</th>\n",
       "      <th>21D</th>\n",
       "      <th>63D</th>\n",
       "    </tr>\n",
       "    <tr>\n",
       "      <th>date</th>\n",
       "      <th></th>\n",
       "      <th></th>\n",
       "      <th></th>\n",
       "      <th></th>\n",
       "    </tr>\n",
       "  </thead>\n",
       "  <tbody>\n",
       "    <tr>\n",
       "      <th>2016-01-04 00:00:00+00:00</th>\n",
       "      <td>-0.016253</td>\n",
       "      <td>-0.027134</td>\n",
       "      <td>-0.013492</td>\n",
       "      <td>-0.015658</td>\n",
       "    </tr>\n",
       "    <tr>\n",
       "      <th>2016-01-05 00:00:00+00:00</th>\n",
       "      <td>-0.016253</td>\n",
       "      <td>-0.027134</td>\n",
       "      <td>-0.013492</td>\n",
       "      <td>-0.015658</td>\n",
       "    </tr>\n",
       "    <tr>\n",
       "      <th>2016-01-06 00:00:00+00:00</th>\n",
       "      <td>-0.016253</td>\n",
       "      <td>-0.027134</td>\n",
       "      <td>-0.013492</td>\n",
       "      <td>-0.015658</td>\n",
       "    </tr>\n",
       "    <tr>\n",
       "      <th>2016-01-07 00:00:00+00:00</th>\n",
       "      <td>-0.016253</td>\n",
       "      <td>-0.027134</td>\n",
       "      <td>-0.026664</td>\n",
       "      <td>-0.015658</td>\n",
       "    </tr>\n",
       "    <tr>\n",
       "      <th>2016-01-08 00:00:00+00:00</th>\n",
       "      <td>-0.016253</td>\n",
       "      <td>-0.026459</td>\n",
       "      <td>-0.026664</td>\n",
       "      <td>-0.011788</td>\n",
       "    </tr>\n",
       "    <tr>\n",
       "      <th>...</th>\n",
       "      <td>...</td>\n",
       "      <td>...</td>\n",
       "      <td>...</td>\n",
       "      <td>...</td>\n",
       "    </tr>\n",
       "    <tr>\n",
       "      <th>2017-09-25 00:00:00+00:00</th>\n",
       "      <td>-0.003797</td>\n",
       "      <td>-0.001202</td>\n",
       "      <td>0.000069</td>\n",
       "      <td>0.000902</td>\n",
       "    </tr>\n",
       "    <tr>\n",
       "      <th>2017-09-26 00:00:00+00:00</th>\n",
       "      <td>-0.003797</td>\n",
       "      <td>-0.001202</td>\n",
       "      <td>0.000069</td>\n",
       "      <td>-0.006470</td>\n",
       "    </tr>\n",
       "    <tr>\n",
       "      <th>2017-09-27 00:00:00+00:00</th>\n",
       "      <td>-0.003797</td>\n",
       "      <td>-0.001202</td>\n",
       "      <td>0.000069</td>\n",
       "      <td>-0.006470</td>\n",
       "    </tr>\n",
       "    <tr>\n",
       "      <th>2017-09-28 00:00:00+00:00</th>\n",
       "      <td>-0.003797</td>\n",
       "      <td>-0.001202</td>\n",
       "      <td>0.000069</td>\n",
       "      <td>-0.006470</td>\n",
       "    </tr>\n",
       "    <tr>\n",
       "      <th>2017-09-29 00:00:00+00:00</th>\n",
       "      <td>-0.003797</td>\n",
       "      <td>-0.001202</td>\n",
       "      <td>0.009394</td>\n",
       "      <td>-0.006470</td>\n",
       "    </tr>\n",
       "  </tbody>\n",
       "</table>\n",
       "<p>440 rows × 4 columns</p>\n",
       "</div>"
      ],
      "text/plain": [
       "                                 5D       10D       21D       63D\n",
       "date                                                             \n",
       "2016-01-04 00:00:00+00:00 -0.016253 -0.027134 -0.013492 -0.015658\n",
       "2016-01-05 00:00:00+00:00 -0.016253 -0.027134 -0.013492 -0.015658\n",
       "2016-01-06 00:00:00+00:00 -0.016253 -0.027134 -0.013492 -0.015658\n",
       "2016-01-07 00:00:00+00:00 -0.016253 -0.027134 -0.026664 -0.015658\n",
       "2016-01-08 00:00:00+00:00 -0.016253 -0.026459 -0.026664 -0.011788\n",
       "...                             ...       ...       ...       ...\n",
       "2017-09-25 00:00:00+00:00 -0.003797 -0.001202  0.000069  0.000902\n",
       "2017-09-26 00:00:00+00:00 -0.003797 -0.001202  0.000069 -0.006470\n",
       "2017-09-27 00:00:00+00:00 -0.003797 -0.001202  0.000069 -0.006470\n",
       "2017-09-28 00:00:00+00:00 -0.003797 -0.001202  0.000069 -0.006470\n",
       "2017-09-29 00:00:00+00:00 -0.003797 -0.001202  0.009394 -0.006470\n",
       "\n",
       "[440 rows x 4 columns]"
      ]
     },
     "metadata": {},
     "output_type": "display_data"
    }
   ],
   "source": [
    "returns = factor_returns(alphalens_data)\n",
    "display(returns)"
   ]
  },
  {
   "cell_type": "markdown",
   "id": "6ec2e556",
   "metadata": {},
   "source": [
    "Calculate and display factor returns by asset"
   ]
  },
  {
   "cell_type": "code",
   "execution_count": 15,
   "id": "d0240fb9",
   "metadata": {},
   "outputs": [
    {
     "data": {
      "text/html": [
       "<div>\n",
       "<style scoped>\n",
       "    .dataframe tbody tr th:only-of-type {\n",
       "        vertical-align: middle;\n",
       "    }\n",
       "\n",
       "    .dataframe tbody tr th {\n",
       "        vertical-align: top;\n",
       "    }\n",
       "\n",
       "    .dataframe thead th {\n",
       "        text-align: right;\n",
       "    }\n",
       "</style>\n",
       "<table border=\"1\" class=\"dataframe\">\n",
       "  <thead>\n",
       "    <tr style=\"text-align: right;\">\n",
       "      <th></th>\n",
       "      <th></th>\n",
       "      <th>5D</th>\n",
       "      <th>10D</th>\n",
       "      <th>21D</th>\n",
       "      <th>63D</th>\n",
       "    </tr>\n",
       "    <tr>\n",
       "      <th>date</th>\n",
       "      <th>asset</th>\n",
       "      <th></th>\n",
       "      <th></th>\n",
       "      <th></th>\n",
       "      <th></th>\n",
       "    </tr>\n",
       "  </thead>\n",
       "  <tbody>\n",
       "    <tr>\n",
       "      <th rowspan=\"5\" valign=\"top\">2016-01-04 00:00:00+00:00</th>\n",
       "      <th>AAL</th>\n",
       "      <td>-0.000006</td>\n",
       "      <td>0.000078</td>\n",
       "      <td>0.000058</td>\n",
       "      <td>-0.000064</td>\n",
       "    </tr>\n",
       "    <tr>\n",
       "      <th>AAPL</th>\n",
       "      <td>-0.001374</td>\n",
       "      <td>-0.001751</td>\n",
       "      <td>-0.001797</td>\n",
       "      <td>0.001162</td>\n",
       "    </tr>\n",
       "    <tr>\n",
       "      <th>ABBV</th>\n",
       "      <td>0.000862</td>\n",
       "      <td>0.000605</td>\n",
       "      <td>0.000744</td>\n",
       "      <td>-0.000370</td>\n",
       "    </tr>\n",
       "    <tr>\n",
       "      <th>AET</th>\n",
       "      <td>0.000211</td>\n",
       "      <td>0.000237</td>\n",
       "      <td>0.000316</td>\n",
       "      <td>0.000380</td>\n",
       "    </tr>\n",
       "    <tr>\n",
       "      <th>AGN</th>\n",
       "      <td>-0.000052</td>\n",
       "      <td>-0.000100</td>\n",
       "      <td>-0.000158</td>\n",
       "      <td>-0.000191</td>\n",
       "    </tr>\n",
       "    <tr>\n",
       "      <th>...</th>\n",
       "      <th>...</th>\n",
       "      <td>...</td>\n",
       "      <td>...</td>\n",
       "      <td>...</td>\n",
       "      <td>...</td>\n",
       "    </tr>\n",
       "    <tr>\n",
       "      <th rowspan=\"5\" valign=\"top\">2017-09-29 00:00:00+00:00</th>\n",
       "      <th>ADP</th>\n",
       "      <td>-0.000008</td>\n",
       "      <td>-0.000008</td>\n",
       "      <td>-0.000008</td>\n",
       "      <td>-0.000008</td>\n",
       "    </tr>\n",
       "    <tr>\n",
       "      <th>COL</th>\n",
       "      <td>0.000130</td>\n",
       "      <td>0.000285</td>\n",
       "      <td>0.000417</td>\n",
       "      <td>0.000417</td>\n",
       "    </tr>\n",
       "    <tr>\n",
       "      <th>BBY</th>\n",
       "      <td>0.000939</td>\n",
       "      <td>0.001407</td>\n",
       "      <td>0.001407</td>\n",
       "      <td>0.001407</td>\n",
       "    </tr>\n",
       "    <tr>\n",
       "      <th>EFX</th>\n",
       "      <td>0.000411</td>\n",
       "      <td>0.001081</td>\n",
       "      <td>0.000592</td>\n",
       "      <td>0.000444</td>\n",
       "    </tr>\n",
       "    <tr>\n",
       "      <th>SBAC</th>\n",
       "      <td>0.000143</td>\n",
       "      <td>0.000635</td>\n",
       "      <td>0.000635</td>\n",
       "      <td>0.000635</td>\n",
       "    </tr>\n",
       "  </tbody>\n",
       "</table>\n",
       "<p>43995 rows × 4 columns</p>\n",
       "</div>"
      ],
      "text/plain": [
       "                                       5D       10D       21D       63D\n",
       "date                      asset                                        \n",
       "2016-01-04 00:00:00+00:00 AAL   -0.000006  0.000078  0.000058 -0.000064\n",
       "                          AAPL  -0.001374 -0.001751 -0.001797  0.001162\n",
       "                          ABBV   0.000862  0.000605  0.000744 -0.000370\n",
       "                          AET    0.000211  0.000237  0.000316  0.000380\n",
       "                          AGN   -0.000052 -0.000100 -0.000158 -0.000191\n",
       "...                                   ...       ...       ...       ...\n",
       "2017-09-29 00:00:00+00:00 ADP   -0.000008 -0.000008 -0.000008 -0.000008\n",
       "                          COL    0.000130  0.000285  0.000417  0.000417\n",
       "                          BBY    0.000939  0.001407  0.001407  0.001407\n",
       "                          EFX    0.000411  0.001081  0.000592  0.000444\n",
       "                          SBAC   0.000143  0.000635  0.000635  0.000635\n",
       "\n",
       "[43995 rows x 4 columns]"
      ]
     },
     "metadata": {},
     "output_type": "display_data"
    }
   ],
   "source": [
    "returns = factor_returns(alphalens_data, by_asset=True)\n",
    "display(returns)"
   ]
  },
  {
   "cell_type": "markdown",
   "id": "86c7565d",
   "metadata": {},
   "source": [
    "Plot cumulative returns"
   ]
  },
  {
   "cell_type": "code",
   "execution_count": 16,
   "id": "6e0f405f",
   "metadata": {},
   "outputs": [
    {
     "data": {
      "text/plain": [
       "<Axes: xlabel='date'>"
      ]
     },
     "execution_count": 16,
     "metadata": {},
     "output_type": "execute_result"
    },
    {
     "data": {
      "image/png": "[encoded data removed]",
      "text/plain": [
       "<Figure size 640x480 with 1 Axes>"
      ]
     },
     "metadata": {},
     "output_type": "display_data"
    }
   ],
   "source": [
    "pd.concat(\n",
    "    {\n",
    "        \"factor_weighted\": factor_cumulative_returns(alphalens_data, period=\"5D\"),\n",
    "        \"equal_weighted\": factor_cumulative_returns(\n",
    "            alphalens_data, period=\"5D\", equal_weight=True\n",
    "        ),\n",
    "    },\n",
    "    axis=1,\n",
    ").plot()"
   ]
  },
  {
   "cell_type": "markdown",
   "id": "8dc870d5",
   "metadata": {},
   "source": [
    "Calculate and display mean return by quantile"
   ]
  },
  {
   "cell_type": "code",
   "execution_count": 17,
   "id": "364fecbf",
   "metadata": {},
   "outputs": [
    {
     "data": {
      "text/html": [
       "<div>\n",
       "<style scoped>\n",
       "    .dataframe tbody tr th:only-of-type {\n",
       "        vertical-align: middle;\n",
       "    }\n",
       "\n",
       "    .dataframe tbody tr th {\n",
       "        vertical-align: top;\n",
       "    }\n",
       "\n",
       "    .dataframe thead th {\n",
       "        text-align: right;\n",
       "    }\n",
       "</style>\n",
       "<table border=\"1\" class=\"dataframe\">\n",
       "  <thead>\n",
       "    <tr style=\"text-align: right;\">\n",
       "      <th></th>\n",
       "      <th>5D</th>\n",
       "      <th>10D</th>\n",
       "      <th>21D</th>\n",
       "      <th>63D</th>\n",
       "    </tr>\n",
       "    <tr>\n",
       "      <th>factor_quantile</th>\n",
       "      <th></th>\n",
       "      <th></th>\n",
       "      <th></th>\n",
       "      <th></th>\n",
       "    </tr>\n",
       "  </thead>\n",
       "  <tbody>\n",
       "    <tr>\n",
       "      <th>1</th>\n",
       "      <td>-0.000195</td>\n",
       "      <td>-0.000131</td>\n",
       "      <td>0.000618</td>\n",
       "      <td>-0.001325</td>\n",
       "    </tr>\n",
       "    <tr>\n",
       "      <th>2</th>\n",
       "      <td>-0.000024</td>\n",
       "      <td>-0.001480</td>\n",
       "      <td>-0.002455</td>\n",
       "      <td>-0.002777</td>\n",
       "    </tr>\n",
       "    <tr>\n",
       "      <th>3</th>\n",
       "      <td>-0.000637</td>\n",
       "      <td>-0.001633</td>\n",
       "      <td>-0.001494</td>\n",
       "      <td>-0.003197</td>\n",
       "    </tr>\n",
       "    <tr>\n",
       "      <th>4</th>\n",
       "      <td>-0.000208</td>\n",
       "      <td>0.000304</td>\n",
       "      <td>-0.000007</td>\n",
       "      <td>0.001897</td>\n",
       "    </tr>\n",
       "    <tr>\n",
       "      <th>5</th>\n",
       "      <td>0.001063</td>\n",
       "      <td>0.002940</td>\n",
       "      <td>0.003341</td>\n",
       "      <td>0.005413</td>\n",
       "    </tr>\n",
       "  </tbody>\n",
       "</table>\n",
       "</div>"
      ],
      "text/plain": [
       "                       5D       10D       21D       63D\n",
       "factor_quantile                                        \n",
       "1               -0.000195 -0.000131  0.000618 -0.001325\n",
       "2               -0.000024 -0.001480 -0.002455 -0.002777\n",
       "3               -0.000637 -0.001633 -0.001494 -0.003197\n",
       "4               -0.000208  0.000304 -0.000007  0.001897\n",
       "5                0.001063  0.002940  0.003341  0.005413"
      ]
     },
     "metadata": {},
     "output_type": "display_data"
    },
    {
     "data": {
      "image/png": "[encoded data removed]",
      "text/plain": [
       "<Figure size 640x480 with 1 Axes>"
      ]
     },
     "metadata": {},
     "output_type": "display_data"
    }
   ],
   "source": [
    "mean_returns, std_err = mean_return_by_quantile(alphalens_data)\n",
    "mean_returns.plot.bar()\n",
    "display(mean_returns)"
   ]
  },
  {
   "cell_type": "markdown",
   "id": "3d8df921",
   "metadata": {},
   "source": [
    "Calculate mean returns by date and display return difference"
   ]
  },
  {
   "cell_type": "code",
   "execution_count": 18,
   "id": "b0abd55f",
   "metadata": {},
   "outputs": [],
   "source": [
    "mean_returns_by_date, _ = mean_return_by_quantile(alphalens_data, by_date=True)"
   ]
  },
  {
   "cell_type": "code",
   "execution_count": 19,
   "id": "4879f516",
   "metadata": {},
   "outputs": [],
   "source": [
    "mean_return_difference, _ = compute_mean_returns_spread(\n",
    "    mean_returns=mean_returns_by_date,\n",
    "    upper_quant=1,\n",
    "    lower_quant=5,\n",
    ")"
   ]
  },
  {
   "cell_type": "code",
   "execution_count": 20,
   "id": "c03c8951",
   "metadata": {},
   "outputs": [
    {
     "data": {
      "text/plain": [
       "<Axes: xlabel='date'>"
      ]
     },
     "execution_count": 20,
     "metadata": {},
     "output_type": "execute_result"
    },
    {
     "data": {
      "image/png": "[encoded data removed]",
      "text/plain": [
       "<Figure size 640x480 with 1 Axes>"
      ]
     },
     "metadata": {},
     "output_type": "display_data"
    }
   ],
   "source": [
    "mean_return_difference[[\"5D\"]].resample(\"M\").mean().to_period(\"M\").plot.bar()"
   ]
  },
  {
   "cell_type": "markdown",
   "id": "ec205b36",
   "metadata": {},
   "source": [
    "Calculate and display alpha and beta"
   ]
  },
  {
   "cell_type": "code",
   "execution_count": 21,
   "id": "136e4415",
   "metadata": {},
   "outputs": [
    {
     "data": {
      "text/html": [
       "<div>\n",
       "<style scoped>\n",
       "    .dataframe tbody tr th:only-of-type {\n",
       "        vertical-align: middle;\n",
       "    }\n",
       "\n",
       "    .dataframe tbody tr th {\n",
       "        vertical-align: top;\n",
       "    }\n",
       "\n",
       "    .dataframe thead th {\n",
       "        text-align: right;\n",
       "    }\n",
       "</style>\n",
       "<table border=\"1\" class=\"dataframe\">\n",
       "  <thead>\n",
       "    <tr style=\"text-align: right;\">\n",
       "      <th></th>\n",
       "      <th>5D</th>\n",
       "      <th>10D</th>\n",
       "      <th>21D</th>\n",
       "      <th>63D</th>\n",
       "    </tr>\n",
       "  </thead>\n",
       "  <tbody>\n",
       "    <tr>\n",
       "      <th>Ann. alpha</th>\n",
       "      <td>0.006204</td>\n",
       "      <td>0.015760</td>\n",
       "      <td>-0.003038</td>\n",
       "      <td>-0.012823</td>\n",
       "    </tr>\n",
       "    <tr>\n",
       "      <th>beta</th>\n",
       "      <td>0.136634</td>\n",
       "      <td>0.123627</td>\n",
       "      <td>0.117090</td>\n",
       "      <td>0.147144</td>\n",
       "    </tr>\n",
       "  </tbody>\n",
       "</table>\n",
       "</div>"
      ],
      "text/plain": [
       "                  5D       10D       21D       63D\n",
       "Ann. alpha  0.006204  0.015760 -0.003038 -0.012823\n",
       "beta        0.136634  0.123627  0.117090  0.147144"
      ]
     },
     "metadata": {},
     "output_type": "display_data"
    }
   ],
   "source": [
    "alpha_beta = factor_alpha_beta(alphalens_data)\n",
    "display(alpha_beta)"
   ]
  },
  {
   "cell_type": "markdown",
   "id": "cd16d71c",
   "metadata": {},
   "source": [
    "**Jason Strimpel** is the founder of <a href='https://pyquantnews.com/'>PyQuant News</a> and co-founder of <a href='https://www.tradeblotter.io/'>Trade Blotter</a>. His career in algorithmic trading spans 20+ years. He previously traded for a Chicago-based hedge fund, was a risk manager at JPMorgan, and managed production risk technology for an energy derivatives trading firm in London. In Singapore, he served as APAC CIO for an agricultural trading firm and built the data science team for a global metals trading firm. Jason holds degrees in Finance and Economics and a Master's in Quantitative Finance from the Illinois Institute of Technology. His career spans America, Europe, and Asia. He shares his expertise through the <a href='https://pyquantnews.com/subscribe-to-the-pyquant-newsletter/'>PyQuant Newsletter</a>, social media, and has taught over 1,000+ algorithmic trading with Python in his popular course **<a href='https://gettingstartedwithpythonforquantfinance.com/'>Getting Started With Python for Quant Finance</a>**. All code is for educational purposes only. Nothing provided here is financial advise. Use at your own risk."
   ]
  },
  {
   "cell_type": "code",
   "execution_count": null,
   "id": "5533ce9c-ebc5-4a68-98dc-8bc7f60ed006",
   "metadata": {},
   "outputs": [],
   "source": []
  }
 ],
 "metadata": {
  "jupytext": {
   "cell_metadata_filter": "-all",
   "main_language": "python",
   "notebook_metadata_filter": "-all"
  },
  "kernelspec": {
   "display_name": "algo",
   "language": "python",
   "name": "python3"
  },
  "language_info": {
   "codemirror_mode": {
    "name": "ipython",
    "version": 3
   },
   "file_extension": ".py",
   "mimetype": "text/x-python",
   "name": "python",
   "nbconvert_exporter": "python",
   "pygments_lexer": "ipython3",
   "version": "3.10.16"
  }
 },
 "nbformat": 4,
 "nbformat_minor": 5
}

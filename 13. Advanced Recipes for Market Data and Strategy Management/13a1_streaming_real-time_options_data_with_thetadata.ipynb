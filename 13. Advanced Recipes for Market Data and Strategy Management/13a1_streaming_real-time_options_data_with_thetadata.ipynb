{
 "cells": [
  {
   "cell_type": "markdown",
   "id": "c4ee9c68",
   "metadata": {},
   "source": [
    "## Streaming Real Time Options Data with ThetaData"
   ]
  },
  {
   "cell_type": "code",
   "execution_count": 1,
   "id": "99836870",
   "metadata": {},
   "outputs": [
    {
     "name": "stdout",
     "output_type": "stream",
     "text": [
      "Collecting thetadata\n",
      "  Downloading thetadata-0.9.11-py3-none-any.whl.metadata (3.3 kB)\n",
      "Collecting ijson (from thetadata)\n",
      "  Downloading ijson-3.3.0-cp310-cp310-macosx_11_0_arm64.whl.metadata (21 kB)\n",
      "Requirement already satisfied: pandas in /Users/kirilllisenkov/Documents/Python-for-Algorithmic-Trading-Cookbook/algo/lib/python3.10/site-packages (from thetadata) (2.2.3)\n",
      "Requirement already satisfied: psutil in /Users/kirilllisenkov/Documents/Python-for-Algorithmic-Trading-Cookbook/algo/lib/python3.10/site-packages (from thetadata) (6.1.1)\n",
      "Requirement already satisfied: requests in /Users/kirilllisenkov/Documents/Python-for-Algorithmic-Trading-Cookbook/algo/lib/python3.10/site-packages (from thetadata) (2.32.3)\n",
      "Requirement already satisfied: tqdm in /Users/kirilllisenkov/Documents/Python-for-Algorithmic-Trading-Cookbook/algo/lib/python3.10/site-packages (from thetadata) (4.67.1)\n",
      "Collecting wget (from thetadata)\n",
      "  Downloading wget-3.2.zip (10 kB)\n",
      "  Installing build dependencies ... \u001b[?25ldone\n",
      "\u001b[?25h  Getting requirements to build wheel ... \u001b[?25ldone\n",
      "\u001b[?25h  Preparing metadata (pyproject.toml) ... \u001b[?25ldone\n",
      "\u001b[?25hRequirement already satisfied: numpy>=1.22.4 in /Users/kirilllisenkov/Documents/Python-for-Algorithmic-Trading-Cookbook/algo/lib/python3.10/site-packages (from pandas->thetadata) (1.23.5)\n",
      "Requirement already satisfied: python-dateutil>=2.8.2 in /Users/kirilllisenkov/Documents/Python-for-Algorithmic-Trading-Cookbook/algo/lib/python3.10/site-packages (from pandas->thetadata) (2.9.0.post0)\n",
      "Requirement already satisfied: pytz>=2020.1 in /Users/kirilllisenkov/Documents/Python-for-Algorithmic-Trading-Cookbook/algo/lib/python3.10/site-packages (from pandas->thetadata) (2025.1)\n",
      "Requirement already satisfied: tzdata>=2022.7 in /Users/kirilllisenkov/Documents/Python-for-Algorithmic-Trading-Cookbook/algo/lib/python3.10/site-packages (from pandas->thetadata) (2025.1)\n",
      "Requirement already satisfied: charset-normalizer<4,>=2 in /Users/kirilllisenkov/Documents/Python-for-Algorithmic-Trading-Cookbook/algo/lib/python3.10/site-packages (from requests->thetadata) (3.4.1)\n",
      "Requirement already satisfied: idna<4,>=2.5 in /Users/kirilllisenkov/Documents/Python-for-Algorithmic-Trading-Cookbook/algo/lib/python3.10/site-packages (from requests->thetadata) (3.10)\n",
      "Requirement already satisfied: urllib3<3,>=1.21.1 in /Users/kirilllisenkov/Documents/Python-for-Algorithmic-Trading-Cookbook/algo/lib/python3.10/site-packages (from requests->thetadata) (2.3.0)\n",
      "Requirement already satisfied: certifi>=2017.4.17 in /Users/kirilllisenkov/Documents/Python-for-Algorithmic-Trading-Cookbook/algo/lib/python3.10/site-packages (from requests->thetadata) (2025.1.31)\n",
      "Requirement already satisfied: six>=1.5 in /Users/kirilllisenkov/Documents/Python-for-Algorithmic-Trading-Cookbook/algo/lib/python3.10/site-packages (from python-dateutil>=2.8.2->pandas->thetadata) (1.17.0)\n",
      "Downloading thetadata-0.9.11-py3-none-any.whl (24 kB)\n",
      "Downloading ijson-3.3.0-cp310-cp310-macosx_11_0_arm64.whl (57 kB)\n",
      "Building wheels for collected packages: wget\n",
      "  Building wheel for wget (pyproject.toml) ... \u001b[?25ldone\n",
      "\u001b[?25h  Created wheel for wget: filename=wget-3.2-py3-none-any.whl size=9685 sha256=10db4349d94e6f41e4398c42a9f60229d0ca8122b4efa1f35f480451cff847c3\n",
      "  Stored in directory: /Users/kirilllisenkov/Library/Caches/pip/wheels/8b/f1/7f/5c94f0a7a505ca1c81cd1d9208ae2064675d97582078e6c769\n",
      "Successfully built wget\n",
      "Installing collected packages: wget, ijson, thetadata\n",
      "Successfully installed ijson-3.3.0 thetadata-0.9.11 wget-3.2\n"
     ]
    }
   ],
   "source": [
    "!pip install thetadata"
   ]
  },
  {
   "cell_type": "code",
   "execution_count": 2,
   "id": "3d65a9f7",
   "metadata": {
    "lines_to_next_cell": 1
   },
   "outputs": [],
   "source": [
    "import datetime as dt\n",
    "from thetadata import ThetaClient, OptionRight, StreamMsgType, StreamResponseType"
   ]
  },
  {
   "cell_type": "code",
   "execution_count": 3,
   "id": "99f61059",
   "metadata": {
    "lines_to_next_cell": 1
   },
   "outputs": [],
   "source": [
    "def callback(msg):\n",
    "    # Handle received messages\n",
    "    if msg.type == StreamMsgType.TRADE:\n",
    "        print(\"----------------------------------------------------\")\n",
    "        print(f\"Contract: {msg.contract.to_string()}\")\n",
    "        print(f\"Trade: {msg.trade.to_string()}\")\n",
    "        print(f\"Last quote at time of trade: {msg.quote.to_string()}\")"
   ]
  },
  {
   "cell_type": "code",
   "execution_count": 4,
   "id": "d03c0b74",
   "metadata": {
    "lines_to_next_cell": 1
   },
   "outputs": [],
   "source": [
    "def stream_all_trades():\n",
    "    # Initialize the ThetaClient with your credentials\n",
    "    client = ThetaClient(username=\"YOUR_EMAIL\", passwd=\"YOUR_PASSWORD\")\n",
    "\n",
    "    # Connect to the data stream\n",
    "    client.connect_stream(callback)\n",
    "\n",
    "    # Request full trade stream for options\n",
    "    req_id = client.req_full_trade_stream_opt()\n",
    "\n",
    "    # Verify subscription\n",
    "    if client.verify(req_id) != StreamResponseType.SUBSCRIBED:\n",
    "        raise Exception(\"Unable to stream.\")"
   ]
  },
  {
   "cell_type": "markdown",
   "id": "a0fc2cb0",
   "metadata": {},
   "source": [
    "Start streaming all trades"
   ]
  },
  {
   "cell_type": "code",
   "execution_count": 5,
   "id": "5723df3d",
   "metadata": {},
   "outputs": [
    {
     "name": "stdout",
     "output_type": "stream",
     "text": [
      "If you require API support, feel free to join our discord server! http://discord.thetadata.us\n"
     ]
    },
    {
     "name": "stderr",
     "output_type": "stream",
     "text": [
      "The operation couldn’t be completed. Unable to locate a Java Runtime.\n",
      "Please visit http://www.java.com for information on installing Java.\n",
      "\n"
     ]
    },
    {
     "ename": "ConnectionError",
     "evalue": "Unable to connect to the local Theta Terminal Stream process. Try restarting your system.",
     "output_type": "error",
     "traceback": [
      "\u001b[0;31m---------------------------------------------------------------------------\u001b[0m",
      "\u001b[0;31mConnectionRefusedError\u001b[0m                    Traceback (most recent call last)",
      "File \u001b[0;32m~/Documents/Python-for-Algorithmic-Trading-Cookbook/algo/lib/python3.10/site-packages/thetadata/client.py:378\u001b[0m, in \u001b[0;36mThetaClient.connect_stream\u001b[0;34m(self, callback)\u001b[0m\n\u001b[1;32m    377\u001b[0m \u001b[38;5;28mself\u001b[39m\u001b[38;5;241m.\u001b[39m_stream_server \u001b[38;5;241m=\u001b[39m socket\u001b[38;5;241m.\u001b[39msocket()\n\u001b[0;32m--> 378\u001b[0m \u001b[38;5;28;43mself\u001b[39;49m\u001b[38;5;241;43m.\u001b[39;49m\u001b[43m_stream_server\u001b[49m\u001b[38;5;241;43m.\u001b[39;49m\u001b[43mconnect\u001b[49m\u001b[43m(\u001b[49m\u001b[43m(\u001b[49m\u001b[38;5;28;43mself\u001b[39;49m\u001b[38;5;241;43m.\u001b[39;49m\u001b[43mhost\u001b[49m\u001b[43m,\u001b[49m\u001b[43m \u001b[49m\u001b[38;5;28;43mself\u001b[39;49m\u001b[38;5;241;43m.\u001b[39;49m\u001b[43mstreaming_port\u001b[49m\u001b[43m)\u001b[49m\u001b[43m)\u001b[49m\n\u001b[1;32m    379\u001b[0m \u001b[38;5;28mself\u001b[39m\u001b[38;5;241m.\u001b[39m_stream_server\u001b[38;5;241m.\u001b[39msettimeout(\u001b[38;5;241m1\u001b[39m)\n",
      "\u001b[0;31mConnectionRefusedError\u001b[0m: [Errno 61] Connection refused",
      "\nDuring handling of the above exception, another exception occurred:\n",
      "\u001b[0;31mConnectionError\u001b[0m                           Traceback (most recent call last)",
      "Cell \u001b[0;32mIn[5], line 1\u001b[0m\n\u001b[0;32m----> 1\u001b[0m \u001b[43mstream_all_trades\u001b[49m\u001b[43m(\u001b[49m\u001b[43m)\u001b[49m\n",
      "Cell \u001b[0;32mIn[4], line 6\u001b[0m, in \u001b[0;36mstream_all_trades\u001b[0;34m()\u001b[0m\n\u001b[1;32m      3\u001b[0m client \u001b[38;5;241m=\u001b[39m ThetaClient(username\u001b[38;5;241m=\u001b[39m\u001b[38;5;124m\"\u001b[39m\u001b[38;5;124mYOUR_EMAIL\u001b[39m\u001b[38;5;124m\"\u001b[39m, passwd\u001b[38;5;241m=\u001b[39m\u001b[38;5;124m\"\u001b[39m\u001b[38;5;124mYOUR_PASSWORD\u001b[39m\u001b[38;5;124m\"\u001b[39m)\n\u001b[1;32m      5\u001b[0m \u001b[38;5;66;03m# Connect to the data stream\u001b[39;00m\n\u001b[0;32m----> 6\u001b[0m \u001b[43mclient\u001b[49m\u001b[38;5;241;43m.\u001b[39;49m\u001b[43mconnect_stream\u001b[49m\u001b[43m(\u001b[49m\u001b[43mcallback\u001b[49m\u001b[43m)\u001b[49m\n\u001b[1;32m      8\u001b[0m \u001b[38;5;66;03m# Request full trade stream for options\u001b[39;00m\n\u001b[1;32m      9\u001b[0m req_id \u001b[38;5;241m=\u001b[39m client\u001b[38;5;241m.\u001b[39mreq_full_trade_stream_opt()\n",
      "File \u001b[0;32m~/Documents/Python-for-Algorithmic-Trading-Cookbook/algo/lib/python3.10/site-packages/thetadata/client.py:383\u001b[0m, in \u001b[0;36mThetaClient.connect_stream\u001b[0;34m(self, callback)\u001b[0m\n\u001b[1;32m    381\u001b[0m     \u001b[38;5;28;01mexcept\u001b[39;00m \u001b[38;5;167;01mConnectionError\u001b[39;00m:\n\u001b[1;32m    382\u001b[0m         \u001b[38;5;28;01mif\u001b[39;00m i \u001b[38;5;241m==\u001b[39m \u001b[38;5;241m14\u001b[39m:\n\u001b[0;32m--> 383\u001b[0m             \u001b[38;5;28;01mraise\u001b[39;00m \u001b[38;5;167;01mConnectionError\u001b[39;00m(\u001b[38;5;124m'\u001b[39m\u001b[38;5;124mUnable to connect to the local Theta Terminal Stream process. \u001b[39m\u001b[38;5;124m'\u001b[39m\n\u001b[1;32m    384\u001b[0m                                   \u001b[38;5;124m'\u001b[39m\u001b[38;5;124mTry restarting your system.\u001b[39m\u001b[38;5;124m'\u001b[39m)\n\u001b[1;32m    385\u001b[0m         sleep(\u001b[38;5;241m1\u001b[39m)\n\u001b[1;32m    386\u001b[0m \u001b[38;5;28mself\u001b[39m\u001b[38;5;241m.\u001b[39m_stream_server\u001b[38;5;241m.\u001b[39msettimeout(\u001b[38;5;241m10\u001b[39m)\n",
      "\u001b[0;31mConnectionError\u001b[0m: Unable to connect to the local Theta Terminal Stream process. Try restarting your system."
     ]
    }
   ],
   "source": [
    "stream_all_trades()"
   ]
  },
  {
   "cell_type": "markdown",
   "id": "f85fb8e4",
   "metadata": {},
   "source": [
    "Define parameters for a specific option contract"
   ]
  },
  {
   "cell_type": "code",
   "execution_count": null,
   "id": "48aa9934",
   "metadata": {
    "lines_to_next_cell": 1
   },
   "outputs": [],
   "source": [
    "ticker = \"SPY\"\n",
    "expiration_date = dt.date(2024, 12, 22)\n",
    "strike = 474"
   ]
  },
  {
   "cell_type": "code",
   "execution_count": null,
   "id": "5ebfddf4",
   "metadata": {
    "lines_to_next_cell": 1
   },
   "outputs": [],
   "source": [
    "def stream_contract():\n",
    "    # Initialize the ThetaClient with your credentials\n",
    "    client = ThetaClient(username=\"YOUR_EMAIL\", passwd=\"YOUR_PASSWORD\")\n",
    "\n",
    "    # Connect to the data stream\n",
    "    client.connect_stream(callback)\n",
    "\n",
    "    # Request trade stream for a specific option contract\n",
    "    req_id = client.req_trade_stream_opt(\n",
    "        ticker, expiration_date, strike, OptionRight.CALL\n",
    "    )\n",
    "\n",
    "    # Verify subscription\n",
    "    if client.verify(req_id) != StreamResponseType.SUBSCRIBED:\n",
    "        raise Exception(\"Unable to stream.\")"
   ]
  },
  {
   "cell_type": "markdown",
   "id": "45e31a7d",
   "metadata": {},
   "source": [
    "Start streaming trades for a specific contract"
   ]
  },
  {
   "cell_type": "code",
   "execution_count": null,
   "id": "f13de806",
   "metadata": {},
   "outputs": [],
   "source": [
    "stream_contract()"
   ]
  },
  {
   "cell_type": "markdown",
   "id": "449ca05a",
   "metadata": {},
   "source": [
    "**Jason Strimpel** is the founder of <a href='https://pyquantnews.com/'>PyQuant News</a> and co-founder of <a href='https://www.tradeblotter.io/'>Trade Blotter</a>. His career in algorithmic trading spans 20+ years. He previously traded for a Chicago-based hedge fund, was a risk manager at JPMorgan, and managed production risk technology for an energy derivatives trading firm in London. In Singapore, he served as APAC CIO for an agricultural trading firm and built the data science team for a global metals trading firm. Jason holds degrees in Finance and Economics and a Master's in Quantitative Finance from the Illinois Institute of Technology. His career spans America, Europe, and Asia. He shares his expertise through the <a href='https://pyquantnews.com/subscribe-to-the-pyquant-newsletter/'>PyQuant Newsletter</a>, social media, and has taught over 1,000+ algorithmic trading with Python in his popular course **<a href='https://gettingstartedwithpythonforquantfinance.com/'>Getting Started With Python for Quant Finance</a>**. All code is for educational purposes only. Nothing provided here is financial advise. Use at your own risk."
   ]
  }
 ],
 "metadata": {
  "jupytext": {
   "cell_metadata_filter": "-all",
   "main_language": "python",
   "notebook_metadata_filter": "-all"
  },
  "kernelspec": {
   "display_name": "algo",
   "language": "python",
   "name": "python3"
  },
  "language_info": {
   "codemirror_mode": {
    "name": "ipython",
    "version": 3
   },
   "file_extension": ".py",
   "mimetype": "text/x-python",
   "name": "python",
   "nbconvert_exporter": "python",
   "pygments_lexer": "ipython3",
   "version": "3.10.16"
  }
 },
 "nbformat": 4,
 "nbformat_minor": 5
}

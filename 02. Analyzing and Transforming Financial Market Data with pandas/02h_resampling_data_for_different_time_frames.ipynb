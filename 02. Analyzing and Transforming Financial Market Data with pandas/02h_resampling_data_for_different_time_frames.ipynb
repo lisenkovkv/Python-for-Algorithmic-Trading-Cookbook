{
 "cells": [
  {
   "cell_type": "markdown",
   "id": "86f181a7",
   "metadata": {},
   "source": [
    "## Resampling data for different time frames"
   ]
  },
  {
   "cell_type": "code",
   "execution_count": 1,
   "id": "49041b9b",
   "metadata": {},
   "outputs": [],
   "source": [
    "import numpy as np\n",
    "import pandas as pd\n",
    "from IPython.display import display\n",
    "from openbb import obb"
   ]
  },
  {
   "cell_type": "code",
   "execution_count": 2,
   "id": "6997fd9f",
   "metadata": {},
   "outputs": [],
   "source": [
    "obb.user.preferences.output_type = \"dataframe\""
   ]
  },
  {
   "cell_type": "markdown",
   "id": "650ac797",
   "metadata": {},
   "source": [
    "Fetches historical intraday price data for the equity \"AAPL\" with 1-minute intervals using the \"yfinance\" provider and stores it in 'df'"
   ]
  },
  {
   "cell_type": "code",
   "execution_count": 3,
   "id": "0395e096",
   "metadata": {},
   "outputs": [],
   "source": [
    "df = obb.equity.price.historical(\"AAPL\", interval=\"1m\", provider=\"yfinance\")"
   ]
  },
  {
   "cell_type": "code",
   "execution_count": 4,
   "id": "f33824c1",
   "metadata": {},
   "outputs": [
    {
     "data": {
      "text/html": [
       "<div>\n",
       "<style scoped>\n",
       "    .dataframe tbody tr th:only-of-type {\n",
       "        vertical-align: middle;\n",
       "    }\n",
       "\n",
       "    .dataframe tbody tr th {\n",
       "        vertical-align: top;\n",
       "    }\n",
       "\n",
       "    .dataframe thead th {\n",
       "        text-align: right;\n",
       "    }\n",
       "</style>\n",
       "<table border=\"1\" class=\"dataframe\">\n",
       "  <thead>\n",
       "    <tr style=\"text-align: right;\">\n",
       "      <th></th>\n",
       "      <th>open</th>\n",
       "      <th>high</th>\n",
       "      <th>low</th>\n",
       "      <th>close</th>\n",
       "      <th>volume</th>\n",
       "    </tr>\n",
       "    <tr>\n",
       "      <th>date</th>\n",
       "      <th></th>\n",
       "      <th></th>\n",
       "      <th></th>\n",
       "      <th></th>\n",
       "      <th></th>\n",
       "    </tr>\n",
       "  </thead>\n",
       "  <tbody>\n",
       "    <tr>\n",
       "      <th>2025-01-27 09:30:00</th>\n",
       "      <td>224.029999</td>\n",
       "      <td>224.649994</td>\n",
       "      <td>224.000000</td>\n",
       "      <td>224.630005</td>\n",
       "      <td>5079269</td>\n",
       "    </tr>\n",
       "    <tr>\n",
       "      <th>2025-01-27 09:31:00</th>\n",
       "      <td>225.759995</td>\n",
       "      <td>226.629898</td>\n",
       "      <td>225.509995</td>\n",
       "      <td>226.619995</td>\n",
       "      <td>1882165</td>\n",
       "    </tr>\n",
       "    <tr>\n",
       "      <th>2025-01-27 09:32:00</th>\n",
       "      <td>226.619995</td>\n",
       "      <td>226.949997</td>\n",
       "      <td>226.369995</td>\n",
       "      <td>226.570099</td>\n",
       "      <td>682567</td>\n",
       "    </tr>\n",
       "    <tr>\n",
       "      <th>2025-01-27 09:33:00</th>\n",
       "      <td>226.600006</td>\n",
       "      <td>226.889999</td>\n",
       "      <td>226.139999</td>\n",
       "      <td>226.729996</td>\n",
       "      <td>779307</td>\n",
       "    </tr>\n",
       "    <tr>\n",
       "      <th>2025-01-27 09:34:00</th>\n",
       "      <td>226.755005</td>\n",
       "      <td>226.990005</td>\n",
       "      <td>226.410004</td>\n",
       "      <td>226.470001</td>\n",
       "      <td>475489</td>\n",
       "    </tr>\n",
       "    <tr>\n",
       "      <th>...</th>\n",
       "      <td>...</td>\n",
       "      <td>...</td>\n",
       "      <td>...</td>\n",
       "      <td>...</td>\n",
       "      <td>...</td>\n",
       "    </tr>\n",
       "    <tr>\n",
       "      <th>2025-01-31 15:55:00</th>\n",
       "      <td>235.910004</td>\n",
       "      <td>236.500000</td>\n",
       "      <td>235.630005</td>\n",
       "      <td>235.649994</td>\n",
       "      <td>682027</td>\n",
       "    </tr>\n",
       "    <tr>\n",
       "      <th>2025-01-31 15:56:00</th>\n",
       "      <td>235.610001</td>\n",
       "      <td>235.869995</td>\n",
       "      <td>235.509995</td>\n",
       "      <td>235.839996</td>\n",
       "      <td>608345</td>\n",
       "    </tr>\n",
       "    <tr>\n",
       "      <th>2025-01-31 15:57:00</th>\n",
       "      <td>235.835007</td>\n",
       "      <td>236.009995</td>\n",
       "      <td>235.529999</td>\n",
       "      <td>235.899994</td>\n",
       "      <td>615619</td>\n",
       "    </tr>\n",
       "    <tr>\n",
       "      <th>2025-01-31 15:58:00</th>\n",
       "      <td>235.910004</td>\n",
       "      <td>235.979996</td>\n",
       "      <td>235.639999</td>\n",
       "      <td>235.770004</td>\n",
       "      <td>561576</td>\n",
       "    </tr>\n",
       "    <tr>\n",
       "      <th>2025-01-31 15:59:00</th>\n",
       "      <td>235.770004</td>\n",
       "      <td>236.080002</td>\n",
       "      <td>235.750000</td>\n",
       "      <td>235.860001</td>\n",
       "      <td>1214983</td>\n",
       "    </tr>\n",
       "  </tbody>\n",
       "</table>\n",
       "<p>1942 rows × 5 columns</p>\n",
       "</div>"
      ],
      "text/plain": [
       "                           open        high         low       close   volume\n",
       "date                                                                        \n",
       "2025-01-27 09:30:00  224.029999  224.649994  224.000000  224.630005  5079269\n",
       "2025-01-27 09:31:00  225.759995  226.629898  225.509995  226.619995  1882165\n",
       "2025-01-27 09:32:00  226.619995  226.949997  226.369995  226.570099   682567\n",
       "2025-01-27 09:33:00  226.600006  226.889999  226.139999  226.729996   779307\n",
       "2025-01-27 09:34:00  226.755005  226.990005  226.410004  226.470001   475489\n",
       "...                         ...         ...         ...         ...      ...\n",
       "2025-01-31 15:55:00  235.910004  236.500000  235.630005  235.649994   682027\n",
       "2025-01-31 15:56:00  235.610001  235.869995  235.509995  235.839996   608345\n",
       "2025-01-31 15:57:00  235.835007  236.009995  235.529999  235.899994   615619\n",
       "2025-01-31 15:58:00  235.910004  235.979996  235.639999  235.770004   561576\n",
       "2025-01-31 15:59:00  235.770004  236.080002  235.750000  235.860001  1214983\n",
       "\n",
       "[1942 rows x 5 columns]"
      ]
     },
     "metadata": {},
     "output_type": "display_data"
    }
   ],
   "source": [
    "display(df)"
   ]
  },
  {
   "cell_type": "markdown",
   "id": "a6abf79c",
   "metadata": {},
   "source": [
    "Resamples the 'close' column of 'df' to hourly frequency and stores it in 'resampled'"
   ]
  },
  {
   "cell_type": "code",
   "execution_count": 5,
   "id": "5fbc58ac",
   "metadata": {},
   "outputs": [],
   "source": [
    "resampled = df.resample(rule=\"h\")[\"close\"]"
   ]
  },
  {
   "cell_type": "markdown",
   "id": "1775442e",
   "metadata": {},
   "source": [
    "Displays the first value of each hour in the resampled data"
   ]
  },
  {
   "cell_type": "code",
   "execution_count": 6,
   "id": "59c5d002",
   "metadata": {},
   "outputs": [
    {
     "data": {
      "text/plain": [
       "date\n",
       "2025-01-27 09:00:00    224.630005\n",
       "2025-01-27 10:00:00    225.278107\n",
       "2025-01-27 11:00:00    227.723801\n",
       "2025-01-27 12:00:00    228.509506\n",
       "2025-01-27 13:00:00    230.195007\n",
       "                          ...    \n",
       "2025-01-31 11:00:00    240.939896\n",
       "2025-01-31 12:00:00    238.839996\n",
       "2025-01-31 13:00:00    238.449997\n",
       "2025-01-31 14:00:00    235.300003\n",
       "2025-01-31 15:00:00    233.879395\n",
       "Freq: h, Name: close, Length: 103, dtype: float64"
      ]
     },
     "execution_count": 6,
     "metadata": {},
     "output_type": "execute_result"
    }
   ],
   "source": [
    "resampled.first()"
   ]
  },
  {
   "cell_type": "markdown",
   "id": "a02a9d11",
   "metadata": {},
   "source": [
    "Displays the last value of each hour in the resampled data"
   ]
  },
  {
   "cell_type": "code",
   "execution_count": 7,
   "id": "350371a9",
   "metadata": {},
   "outputs": [
    {
     "data": {
      "text/plain": [
       "date\n",
       "2025-01-27 09:00:00    225.660004\n",
       "2025-01-27 10:00:00    227.789993\n",
       "2025-01-27 11:00:00    228.445007\n",
       "2025-01-27 12:00:00    230.149994\n",
       "2025-01-27 13:00:00    231.434998\n",
       "                          ...    \n",
       "2025-01-31 11:00:00    238.929993\n",
       "2025-01-31 12:00:00    238.309998\n",
       "2025-01-31 13:00:00    235.259995\n",
       "2025-01-31 14:00:00    234.130005\n",
       "2025-01-31 15:00:00    235.860001\n",
       "Freq: h, Name: close, Length: 103, dtype: float64"
      ]
     },
     "execution_count": 7,
     "metadata": {},
     "output_type": "execute_result"
    }
   ],
   "source": [
    "resampled.last()"
   ]
  },
  {
   "cell_type": "markdown",
   "id": "733c358d",
   "metadata": {},
   "source": [
    "Calculates the mean of each hour in the resampled data"
   ]
  },
  {
   "cell_type": "code",
   "execution_count": 8,
   "id": "e52e7c0c",
   "metadata": {},
   "outputs": [
    {
     "data": {
      "text/plain": [
       "date\n",
       "2025-01-27 09:00:00    226.662986\n",
       "2025-01-27 10:00:00    226.776737\n",
       "2025-01-27 11:00:00    228.560006\n",
       "2025-01-27 12:00:00    229.624228\n",
       "2025-01-27 13:00:00    231.112306\n",
       "                          ...    \n",
       "2025-01-31 11:00:00    239.599033\n",
       "2025-01-31 12:00:00    239.195818\n",
       "2025-01-31 13:00:00    236.814032\n",
       "2025-01-31 14:00:00    234.852917\n",
       "2025-01-31 15:00:00    234.329626\n",
       "Freq: h, Name: close, Length: 103, dtype: float64"
      ]
     },
     "execution_count": 8,
     "metadata": {},
     "output_type": "execute_result"
    }
   ],
   "source": [
    "resampled.mean()"
   ]
  },
  {
   "cell_type": "markdown",
   "id": "5d950bb8",
   "metadata": {},
   "source": [
    "Calculates the open, high, low, and close (OHLC) for each hour in the resampled data"
   ]
  },
  {
   "cell_type": "code",
   "execution_count": 9,
   "id": "2d47407f",
   "metadata": {},
   "outputs": [
    {
     "data": {
      "text/html": [
       "<div>\n",
       "<style scoped>\n",
       "    .dataframe tbody tr th:only-of-type {\n",
       "        vertical-align: middle;\n",
       "    }\n",
       "\n",
       "    .dataframe tbody tr th {\n",
       "        vertical-align: top;\n",
       "    }\n",
       "\n",
       "    .dataframe thead th {\n",
       "        text-align: right;\n",
       "    }\n",
       "</style>\n",
       "<table border=\"1\" class=\"dataframe\">\n",
       "  <thead>\n",
       "    <tr style=\"text-align: right;\">\n",
       "      <th></th>\n",
       "      <th>open</th>\n",
       "      <th>high</th>\n",
       "      <th>low</th>\n",
       "      <th>close</th>\n",
       "    </tr>\n",
       "    <tr>\n",
       "      <th>date</th>\n",
       "      <th></th>\n",
       "      <th></th>\n",
       "      <th></th>\n",
       "      <th></th>\n",
       "    </tr>\n",
       "  </thead>\n",
       "  <tbody>\n",
       "    <tr>\n",
       "      <th>2025-01-27 09:00:00</th>\n",
       "      <td>224.630005</td>\n",
       "      <td>227.570007</td>\n",
       "      <td>224.630005</td>\n",
       "      <td>225.660004</td>\n",
       "    </tr>\n",
       "    <tr>\n",
       "      <th>2025-01-27 10:00:00</th>\n",
       "      <td>225.278107</td>\n",
       "      <td>228.460007</td>\n",
       "      <td>224.945007</td>\n",
       "      <td>227.789993</td>\n",
       "    </tr>\n",
       "    <tr>\n",
       "      <th>2025-01-27 11:00:00</th>\n",
       "      <td>227.723801</td>\n",
       "      <td>229.690002</td>\n",
       "      <td>227.619995</td>\n",
       "      <td>228.445007</td>\n",
       "    </tr>\n",
       "    <tr>\n",
       "      <th>2025-01-27 12:00:00</th>\n",
       "      <td>228.509506</td>\n",
       "      <td>230.440002</td>\n",
       "      <td>228.440002</td>\n",
       "      <td>230.149994</td>\n",
       "    </tr>\n",
       "    <tr>\n",
       "      <th>2025-01-27 13:00:00</th>\n",
       "      <td>230.195007</td>\n",
       "      <td>231.740005</td>\n",
       "      <td>230.195007</td>\n",
       "      <td>231.434998</td>\n",
       "    </tr>\n",
       "    <tr>\n",
       "      <th>...</th>\n",
       "      <td>...</td>\n",
       "      <td>...</td>\n",
       "      <td>...</td>\n",
       "      <td>...</td>\n",
       "    </tr>\n",
       "    <tr>\n",
       "      <th>2025-01-31 11:00:00</th>\n",
       "      <td>240.939896</td>\n",
       "      <td>240.964996</td>\n",
       "      <td>238.729996</td>\n",
       "      <td>238.929993</td>\n",
       "    </tr>\n",
       "    <tr>\n",
       "      <th>2025-01-31 12:00:00</th>\n",
       "      <td>238.839996</td>\n",
       "      <td>239.771805</td>\n",
       "      <td>238.309998</td>\n",
       "      <td>238.309998</td>\n",
       "    </tr>\n",
       "    <tr>\n",
       "      <th>2025-01-31 13:00:00</th>\n",
       "      <td>238.449997</td>\n",
       "      <td>238.449997</td>\n",
       "      <td>235.169998</td>\n",
       "      <td>235.259995</td>\n",
       "    </tr>\n",
       "    <tr>\n",
       "      <th>2025-01-31 14:00:00</th>\n",
       "      <td>235.300003</td>\n",
       "      <td>235.830002</td>\n",
       "      <td>233.549194</td>\n",
       "      <td>234.130005</td>\n",
       "    </tr>\n",
       "    <tr>\n",
       "      <th>2025-01-31 15:00:00</th>\n",
       "      <td>233.879395</td>\n",
       "      <td>236.095001</td>\n",
       "      <td>233.580002</td>\n",
       "      <td>235.860001</td>\n",
       "    </tr>\n",
       "  </tbody>\n",
       "</table>\n",
       "<p>103 rows × 4 columns</p>\n",
       "</div>"
      ],
      "text/plain": [
       "                           open        high         low       close\n",
       "date                                                               \n",
       "2025-01-27 09:00:00  224.630005  227.570007  224.630005  225.660004\n",
       "2025-01-27 10:00:00  225.278107  228.460007  224.945007  227.789993\n",
       "2025-01-27 11:00:00  227.723801  229.690002  227.619995  228.445007\n",
       "2025-01-27 12:00:00  228.509506  230.440002  228.440002  230.149994\n",
       "2025-01-27 13:00:00  230.195007  231.740005  230.195007  231.434998\n",
       "...                         ...         ...         ...         ...\n",
       "2025-01-31 11:00:00  240.939896  240.964996  238.729996  238.929993\n",
       "2025-01-31 12:00:00  238.839996  239.771805  238.309998  238.309998\n",
       "2025-01-31 13:00:00  238.449997  238.449997  235.169998  235.259995\n",
       "2025-01-31 14:00:00  235.300003  235.830002  233.549194  234.130005\n",
       "2025-01-31 15:00:00  233.879395  236.095001  233.580002  235.860001\n",
       "\n",
       "[103 rows x 4 columns]"
      ]
     },
     "execution_count": 9,
     "metadata": {},
     "output_type": "execute_result"
    }
   ],
   "source": [
    "resampled.ohlc()"
   ]
  },
  {
   "cell_type": "markdown",
   "id": "c0af8844",
   "metadata": {},
   "source": [
    "Converts 'df' to a daily frequency and stores it in 'ddf'"
   ]
  },
  {
   "cell_type": "code",
   "execution_count": 10,
   "id": "b0a669ed",
   "metadata": {},
   "outputs": [],
   "source": [
    "ddf = df.asfreq(\"D\").to_period()"
   ]
  },
  {
   "cell_type": "code",
   "execution_count": 11,
   "id": "9c1783b9",
   "metadata": {},
   "outputs": [
    {
     "data": {
      "text/html": [
       "<div>\n",
       "<style scoped>\n",
       "    .dataframe tbody tr th:only-of-type {\n",
       "        vertical-align: middle;\n",
       "    }\n",
       "\n",
       "    .dataframe tbody tr th {\n",
       "        vertical-align: top;\n",
       "    }\n",
       "\n",
       "    .dataframe thead th {\n",
       "        text-align: right;\n",
       "    }\n",
       "</style>\n",
       "<table border=\"1\" class=\"dataframe\">\n",
       "  <thead>\n",
       "    <tr style=\"text-align: right;\">\n",
       "      <th></th>\n",
       "      <th>open</th>\n",
       "      <th>high</th>\n",
       "      <th>low</th>\n",
       "      <th>close</th>\n",
       "      <th>volume</th>\n",
       "    </tr>\n",
       "    <tr>\n",
       "      <th>date</th>\n",
       "      <th></th>\n",
       "      <th></th>\n",
       "      <th></th>\n",
       "      <th></th>\n",
       "      <th></th>\n",
       "    </tr>\n",
       "  </thead>\n",
       "  <tbody>\n",
       "    <tr>\n",
       "      <th>2025-01-27</th>\n",
       "      <td>224.029999</td>\n",
       "      <td>224.649994</td>\n",
       "      <td>224.000000</td>\n",
       "      <td>224.630005</td>\n",
       "      <td>5079269</td>\n",
       "    </tr>\n",
       "    <tr>\n",
       "      <th>2025-01-28</th>\n",
       "      <td>230.880005</td>\n",
       "      <td>232.800003</td>\n",
       "      <td>230.880005</td>\n",
       "      <td>232.668701</td>\n",
       "      <td>3860885</td>\n",
       "    </tr>\n",
       "    <tr>\n",
       "      <th>2025-01-29</th>\n",
       "      <td>234.149994</td>\n",
       "      <td>235.369904</td>\n",
       "      <td>234.009995</td>\n",
       "      <td>235.000000</td>\n",
       "      <td>3768934</td>\n",
       "    </tr>\n",
       "    <tr>\n",
       "      <th>2025-01-30</th>\n",
       "      <td>238.664993</td>\n",
       "      <td>239.179993</td>\n",
       "      <td>238.410004</td>\n",
       "      <td>238.910004</td>\n",
       "      <td>1645280</td>\n",
       "    </tr>\n",
       "    <tr>\n",
       "      <th>2025-01-31</th>\n",
       "      <td>247.039993</td>\n",
       "      <td>247.190002</td>\n",
       "      <td>245.889999</td>\n",
       "      <td>246.570007</td>\n",
       "      <td>7326626</td>\n",
       "    </tr>\n",
       "  </tbody>\n",
       "</table>\n",
       "</div>"
      ],
      "text/plain": [
       "                  open        high         low       close   volume\n",
       "date                                                               \n",
       "2025-01-27  224.029999  224.649994  224.000000  224.630005  5079269\n",
       "2025-01-28  230.880005  232.800003  230.880005  232.668701  3860885\n",
       "2025-01-29  234.149994  235.369904  234.009995  235.000000  3768934\n",
       "2025-01-30  238.664993  239.179993  238.410004  238.910004  1645280\n",
       "2025-01-31  247.039993  247.190002  245.889999  246.570007  7326626"
      ]
     },
     "metadata": {},
     "output_type": "display_data"
    }
   ],
   "source": [
    "display(ddf)"
   ]
  },
  {
   "cell_type": "markdown",
   "id": "e06ae224",
   "metadata": {},
   "source": [
    "Converts 'df' to a business day frequency and stores it in 'ddf'"
   ]
  },
  {
   "cell_type": "code",
   "execution_count": 12,
   "id": "ed35073e",
   "metadata": {},
   "outputs": [],
   "source": [
    "ddf = df.asfreq(pd.offsets.BDay())"
   ]
  },
  {
   "cell_type": "code",
   "execution_count": 13,
   "id": "2264950c",
   "metadata": {},
   "outputs": [
    {
     "data": {
      "text/html": [
       "<div>\n",
       "<style scoped>\n",
       "    .dataframe tbody tr th:only-of-type {\n",
       "        vertical-align: middle;\n",
       "    }\n",
       "\n",
       "    .dataframe tbody tr th {\n",
       "        vertical-align: top;\n",
       "    }\n",
       "\n",
       "    .dataframe thead th {\n",
       "        text-align: right;\n",
       "    }\n",
       "</style>\n",
       "<table border=\"1\" class=\"dataframe\">\n",
       "  <thead>\n",
       "    <tr style=\"text-align: right;\">\n",
       "      <th></th>\n",
       "      <th>open</th>\n",
       "      <th>high</th>\n",
       "      <th>low</th>\n",
       "      <th>close</th>\n",
       "      <th>volume</th>\n",
       "    </tr>\n",
       "    <tr>\n",
       "      <th>date</th>\n",
       "      <th></th>\n",
       "      <th></th>\n",
       "      <th></th>\n",
       "      <th></th>\n",
       "      <th></th>\n",
       "    </tr>\n",
       "  </thead>\n",
       "  <tbody>\n",
       "    <tr>\n",
       "      <th>2025-01-27 09:30:00</th>\n",
       "      <td>224.029999</td>\n",
       "      <td>224.649994</td>\n",
       "      <td>224.000000</td>\n",
       "      <td>224.630005</td>\n",
       "      <td>5079269</td>\n",
       "    </tr>\n",
       "    <tr>\n",
       "      <th>2025-01-28 09:30:00</th>\n",
       "      <td>230.880005</td>\n",
       "      <td>232.800003</td>\n",
       "      <td>230.880005</td>\n",
       "      <td>232.668701</td>\n",
       "      <td>3860885</td>\n",
       "    </tr>\n",
       "    <tr>\n",
       "      <th>2025-01-29 09:30:00</th>\n",
       "      <td>234.149994</td>\n",
       "      <td>235.369904</td>\n",
       "      <td>234.009995</td>\n",
       "      <td>235.000000</td>\n",
       "      <td>3768934</td>\n",
       "    </tr>\n",
       "    <tr>\n",
       "      <th>2025-01-30 09:30:00</th>\n",
       "      <td>238.664993</td>\n",
       "      <td>239.179993</td>\n",
       "      <td>238.410004</td>\n",
       "      <td>238.910004</td>\n",
       "      <td>1645280</td>\n",
       "    </tr>\n",
       "    <tr>\n",
       "      <th>2025-01-31 09:30:00</th>\n",
       "      <td>247.039993</td>\n",
       "      <td>247.190002</td>\n",
       "      <td>245.889999</td>\n",
       "      <td>246.570007</td>\n",
       "      <td>7326626</td>\n",
       "    </tr>\n",
       "  </tbody>\n",
       "</table>\n",
       "</div>"
      ],
      "text/plain": [
       "                           open        high         low       close   volume\n",
       "date                                                                        \n",
       "2025-01-27 09:30:00  224.029999  224.649994  224.000000  224.630005  5079269\n",
       "2025-01-28 09:30:00  230.880005  232.800003  230.880005  232.668701  3860885\n",
       "2025-01-29 09:30:00  234.149994  235.369904  234.009995  235.000000  3768934\n",
       "2025-01-30 09:30:00  238.664993  239.179993  238.410004  238.910004  1645280\n",
       "2025-01-31 09:30:00  247.039993  247.190002  245.889999  246.570007  7326626"
      ]
     },
     "metadata": {},
     "output_type": "display_data"
    }
   ],
   "source": [
    "display(ddf)"
   ]
  },
  {
   "cell_type": "markdown",
   "id": "d12ff1c5",
   "metadata": {},
   "source": [
    "**Jason Strimpel** is the founder of <a href='https://pyquantnews.com/'>PyQuant News</a> and co-founder of <a href='https://www.tradeblotter.io/'>Trade Blotter</a>. His career in algorithmic trading spans 20+ years. He previously traded for a Chicago-based hedge fund, was a risk manager at JPMorgan, and managed production risk technology for an energy derivatives trading firm in London. In Singapore, he served as APAC CIO for an agricultural trading firm and built the data science team for a global metals trading firm. Jason holds degrees in Finance and Economics and a Master's in Quantitative Finance from the Illinois Institute of Technology. His career spans America, Europe, and Asia. He shares his expertise through the <a href='https://pyquantnews.com/subscribe-to-the-pyquant-newsletter/'>PyQuant Newsletter</a>, social media, and has taught over 1,000+ algorithmic trading with Python in his popular course **<a href='https://gettingstartedwithpythonforquantfinance.com/'>Getting Started With Python for Quant Finance</a>**. All code is for educational purposes only. Nothing provided here is financial advise. Use at your own risk."
   ]
  },
  {
   "cell_type": "code",
   "execution_count": null,
   "id": "2086678f-528d-48e1-9621-76f3f2a80874",
   "metadata": {},
   "outputs": [],
   "source": []
  }
 ],
 "metadata": {
  "jupytext": {
   "cell_metadata_filter": "-all",
   "main_language": "python",
   "notebook_metadata_filter": "-all"
  },
  "kernelspec": {
   "display_name": "algo",
   "language": "python",
   "name": "python3"
  },
  "language_info": {
   "codemirror_mode": {
    "name": "ipython",
    "version": 3
   },
   "file_extension": ".py",
   "mimetype": "text/x-python",
   "name": "python",
   "nbconvert_exporter": "python",
   "pygments_lexer": "ipython3",
   "version": "3.10.16"
  }
 },
 "nbformat": 4,
 "nbformat_minor": 5
}

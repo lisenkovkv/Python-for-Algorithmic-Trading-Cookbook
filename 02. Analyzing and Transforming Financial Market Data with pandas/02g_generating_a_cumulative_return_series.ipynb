{
 "cells": [
  {
   "cell_type": "markdown",
   "id": "ee1b9111",
   "metadata": {},
   "source": [
    "## Generating a cumulative return series"
   ]
  },
  {
   "cell_type": "code",
   "execution_count": 1,
   "id": "e30c433d",
   "metadata": {},
   "outputs": [],
   "source": [
    "import numpy as np\n",
    "import pandas as pd\n",
    "from IPython.display import display\n",
    "from openbb import obb"
   ]
  },
  {
   "cell_type": "code",
   "execution_count": 2,
   "id": "7e26609a",
   "metadata": {},
   "outputs": [],
   "source": [
    "obb.user.preferences.output_type = \"dataframe\""
   ]
  },
  {
   "cell_type": "markdown",
   "id": "6d5eb883",
   "metadata": {},
   "source": [
    "Fetches historical price data for the equity \"AAPL\" starting from 2021-01-01 using the \"yfinance\" provider and stores it in 'df'"
   ]
  },
  {
   "cell_type": "code",
   "execution_count": 3,
   "id": "d9c44512",
   "metadata": {},
   "outputs": [],
   "source": [
    "df = obb.equity.price.historical(\"AAPL\", start_date=\"2021-01-01\", provider=\"yfinance\")"
   ]
  },
  {
   "cell_type": "code",
   "execution_count": 4,
   "id": "4a30abb1",
   "metadata": {},
   "outputs": [
    {
     "data": {
      "text/html": [
       "<div>\n",
       "<style scoped>\n",
       "    .dataframe tbody tr th:only-of-type {\n",
       "        vertical-align: middle;\n",
       "    }\n",
       "\n",
       "    .dataframe tbody tr th {\n",
       "        vertical-align: top;\n",
       "    }\n",
       "\n",
       "    .dataframe thead th {\n",
       "        text-align: right;\n",
       "    }\n",
       "</style>\n",
       "<table border=\"1\" class=\"dataframe\">\n",
       "  <thead>\n",
       "    <tr style=\"text-align: right;\">\n",
       "      <th></th>\n",
       "      <th>open</th>\n",
       "      <th>high</th>\n",
       "      <th>low</th>\n",
       "      <th>close</th>\n",
       "      <th>volume</th>\n",
       "      <th>dividend</th>\n",
       "    </tr>\n",
       "    <tr>\n",
       "      <th>date</th>\n",
       "      <th></th>\n",
       "      <th></th>\n",
       "      <th></th>\n",
       "      <th></th>\n",
       "      <th></th>\n",
       "      <th></th>\n",
       "    </tr>\n",
       "  </thead>\n",
       "  <tbody>\n",
       "    <tr>\n",
       "      <th>2021-01-04</th>\n",
       "      <td>133.520004</td>\n",
       "      <td>133.610001</td>\n",
       "      <td>126.760002</td>\n",
       "      <td>129.410004</td>\n",
       "      <td>143301900</td>\n",
       "      <td>0.0</td>\n",
       "    </tr>\n",
       "    <tr>\n",
       "      <th>2021-01-05</th>\n",
       "      <td>128.889999</td>\n",
       "      <td>131.740005</td>\n",
       "      <td>128.429993</td>\n",
       "      <td>131.009995</td>\n",
       "      <td>97664900</td>\n",
       "      <td>0.0</td>\n",
       "    </tr>\n",
       "    <tr>\n",
       "      <th>2021-01-06</th>\n",
       "      <td>127.720001</td>\n",
       "      <td>131.050003</td>\n",
       "      <td>126.379997</td>\n",
       "      <td>126.599998</td>\n",
       "      <td>155088000</td>\n",
       "      <td>0.0</td>\n",
       "    </tr>\n",
       "    <tr>\n",
       "      <th>2021-01-07</th>\n",
       "      <td>128.360001</td>\n",
       "      <td>131.630005</td>\n",
       "      <td>127.860001</td>\n",
       "      <td>130.919998</td>\n",
       "      <td>109578200</td>\n",
       "      <td>0.0</td>\n",
       "    </tr>\n",
       "    <tr>\n",
       "      <th>2021-01-08</th>\n",
       "      <td>132.429993</td>\n",
       "      <td>132.630005</td>\n",
       "      <td>130.229996</td>\n",
       "      <td>132.050003</td>\n",
       "      <td>105158200</td>\n",
       "      <td>0.0</td>\n",
       "    </tr>\n",
       "    <tr>\n",
       "      <th>...</th>\n",
       "      <td>...</td>\n",
       "      <td>...</td>\n",
       "      <td>...</td>\n",
       "      <td>...</td>\n",
       "      <td>...</td>\n",
       "      <td>...</td>\n",
       "    </tr>\n",
       "    <tr>\n",
       "      <th>2025-01-27</th>\n",
       "      <td>224.020004</td>\n",
       "      <td>232.149994</td>\n",
       "      <td>223.979996</td>\n",
       "      <td>229.860001</td>\n",
       "      <td>94863400</td>\n",
       "      <td>0.0</td>\n",
       "    </tr>\n",
       "    <tr>\n",
       "      <th>2025-01-28</th>\n",
       "      <td>230.850006</td>\n",
       "      <td>240.190002</td>\n",
       "      <td>230.809998</td>\n",
       "      <td>238.259995</td>\n",
       "      <td>75707600</td>\n",
       "      <td>0.0</td>\n",
       "    </tr>\n",
       "    <tr>\n",
       "      <th>2025-01-29</th>\n",
       "      <td>234.119995</td>\n",
       "      <td>239.860001</td>\n",
       "      <td>234.009995</td>\n",
       "      <td>239.360001</td>\n",
       "      <td>45486100</td>\n",
       "      <td>0.0</td>\n",
       "    </tr>\n",
       "    <tr>\n",
       "      <th>2025-01-30</th>\n",
       "      <td>238.669998</td>\n",
       "      <td>240.789993</td>\n",
       "      <td>237.210007</td>\n",
       "      <td>237.589996</td>\n",
       "      <td>55658300</td>\n",
       "      <td>0.0</td>\n",
       "    </tr>\n",
       "    <tr>\n",
       "      <th>2025-01-31</th>\n",
       "      <td>247.190002</td>\n",
       "      <td>247.190002</td>\n",
       "      <td>233.440002</td>\n",
       "      <td>236.000000</td>\n",
       "      <td>100959800</td>\n",
       "      <td>0.0</td>\n",
       "    </tr>\n",
       "  </tbody>\n",
       "</table>\n",
       "<p>1025 rows × 6 columns</p>\n",
       "</div>"
      ],
      "text/plain": [
       "                  open        high         low       close     volume  \\\n",
       "date                                                                    \n",
       "2021-01-04  133.520004  133.610001  126.760002  129.410004  143301900   \n",
       "2021-01-05  128.889999  131.740005  128.429993  131.009995   97664900   \n",
       "2021-01-06  127.720001  131.050003  126.379997  126.599998  155088000   \n",
       "2021-01-07  128.360001  131.630005  127.860001  130.919998  109578200   \n",
       "2021-01-08  132.429993  132.630005  130.229996  132.050003  105158200   \n",
       "...                ...         ...         ...         ...        ...   \n",
       "2025-01-27  224.020004  232.149994  223.979996  229.860001   94863400   \n",
       "2025-01-28  230.850006  240.190002  230.809998  238.259995   75707600   \n",
       "2025-01-29  234.119995  239.860001  234.009995  239.360001   45486100   \n",
       "2025-01-30  238.669998  240.789993  237.210007  237.589996   55658300   \n",
       "2025-01-31  247.190002  247.190002  233.440002  236.000000  100959800   \n",
       "\n",
       "            dividend  \n",
       "date                  \n",
       "2021-01-04       0.0  \n",
       "2021-01-05       0.0  \n",
       "2021-01-06       0.0  \n",
       "2021-01-07       0.0  \n",
       "2021-01-08       0.0  \n",
       "...              ...  \n",
       "2025-01-27       0.0  \n",
       "2025-01-28       0.0  \n",
       "2025-01-29       0.0  \n",
       "2025-01-30       0.0  \n",
       "2025-01-31       0.0  \n",
       "\n",
       "[1025 rows x 6 columns]"
      ]
     },
     "metadata": {},
     "output_type": "display_data"
    }
   ],
   "source": [
    "display(df)"
   ]
  },
  {
   "cell_type": "markdown",
   "id": "091b4afe",
   "metadata": {},
   "source": [
    "Selects the 'close' column from 'df' and stores it in 'close'"
   ]
  },
  {
   "cell_type": "code",
   "execution_count": 5,
   "id": "9f0c5ec7",
   "metadata": {},
   "outputs": [],
   "source": [
    "close = df[\"close\"]"
   ]
  },
  {
   "cell_type": "code",
   "execution_count": 6,
   "id": "b67c83c5",
   "metadata": {},
   "outputs": [
    {
     "data": {
      "text/plain": [
       "date\n",
       "2021-01-04    129.410004\n",
       "2021-01-05    131.009995\n",
       "2021-01-06    126.599998\n",
       "2021-01-07    130.919998\n",
       "2021-01-08    132.050003\n",
       "                 ...    \n",
       "2025-01-27    229.860001\n",
       "2025-01-28    238.259995\n",
       "2025-01-29    239.360001\n",
       "2025-01-30    237.589996\n",
       "2025-01-31    236.000000\n",
       "Name: close, Length: 1025, dtype: float64"
      ]
     },
     "metadata": {},
     "output_type": "display_data"
    }
   ],
   "source": [
    "display(close)"
   ]
  },
  {
   "cell_type": "markdown",
   "id": "e27daf6a",
   "metadata": {},
   "source": [
    "Calculates the percentage change of the 'close' prices and stores it in 'returns'"
   ]
  },
  {
   "cell_type": "code",
   "execution_count": 7,
   "id": "37e51bf2",
   "metadata": {},
   "outputs": [],
   "source": [
    "returns = close.pct_change()"
   ]
  },
  {
   "cell_type": "code",
   "execution_count": 8,
   "id": "88e4aa7d",
   "metadata": {},
   "outputs": [
    {
     "data": {
      "text/plain": [
       "date\n",
       "2021-01-04         NaN\n",
       "2021-01-05    0.012364\n",
       "2021-01-06   -0.033662\n",
       "2021-01-07    0.034123\n",
       "2021-01-08    0.008631\n",
       "                ...   \n",
       "2025-01-27    0.031780\n",
       "2025-01-28    0.036544\n",
       "2025-01-29    0.004617\n",
       "2025-01-30   -0.007395\n",
       "2025-01-31   -0.006692\n",
       "Name: close, Length: 1025, dtype: float64"
      ]
     },
     "metadata": {},
     "output_type": "display_data"
    }
   ],
   "source": [
    "display(returns)"
   ]
  },
  {
   "cell_type": "markdown",
   "id": "1265935b",
   "metadata": {},
   "source": [
    "Replaces NaN values in 'returns' with 0"
   ]
  },
  {
   "cell_type": "code",
   "execution_count": 9,
   "id": "00edc11b",
   "metadata": {},
   "outputs": [],
   "source": [
    "returns[np.isnan(returns)] = 0"
   ]
  },
  {
   "cell_type": "code",
   "execution_count": 10,
   "id": "37a9b950",
   "metadata": {},
   "outputs": [
    {
     "data": {
      "text/plain": [
       "date\n",
       "2021-01-04    0.000000\n",
       "2021-01-05    0.012364\n",
       "2021-01-06   -0.033662\n",
       "2021-01-07    0.034123\n",
       "2021-01-08    0.008631\n",
       "                ...   \n",
       "2025-01-27    0.031780\n",
       "2025-01-28    0.036544\n",
       "2025-01-29    0.004617\n",
       "2025-01-30   -0.007395\n",
       "2025-01-31   -0.006692\n",
       "Name: close, Length: 1025, dtype: float64"
      ]
     },
     "metadata": {},
     "output_type": "display_data"
    }
   ],
   "source": [
    "display(returns)"
   ]
  },
  {
   "cell_type": "markdown",
   "id": "1fb0d57f",
   "metadata": {},
   "source": [
    "Adds 1 to the 'returns' to prepare for cumulative product calculation"
   ]
  },
  {
   "cell_type": "code",
   "execution_count": 11,
   "id": "4437cfbb",
   "metadata": {},
   "outputs": [],
   "source": [
    "returns += 1"
   ]
  },
  {
   "cell_type": "code",
   "execution_count": 12,
   "id": "10199260",
   "metadata": {},
   "outputs": [
    {
     "data": {
      "text/plain": [
       "date\n",
       "2021-01-04    1.000000\n",
       "2021-01-05    1.012364\n",
       "2021-01-06    0.966338\n",
       "2021-01-07    1.034123\n",
       "2021-01-08    1.008631\n",
       "                ...   \n",
       "2025-01-27    1.031780\n",
       "2025-01-28    1.036544\n",
       "2025-01-29    1.004617\n",
       "2025-01-30    0.992605\n",
       "2025-01-31    0.993308\n",
       "Name: close, Length: 1025, dtype: float64"
      ]
     },
     "metadata": {},
     "output_type": "display_data"
    }
   ],
   "source": [
    "display(returns)"
   ]
  },
  {
   "cell_type": "markdown",
   "id": "9e5127c0",
   "metadata": {},
   "source": [
    "Calculates the cumulative returns and subtracts 1 to get the final cumulative returns"
   ]
  },
  {
   "cell_type": "code",
   "execution_count": 13,
   "id": "2598e5ee",
   "metadata": {},
   "outputs": [],
   "source": [
    "cumulative_returns = returns.cumprod() - 1"
   ]
  },
  {
   "cell_type": "code",
   "execution_count": 14,
   "id": "21b76e63",
   "metadata": {},
   "outputs": [
    {
     "data": {
      "text/plain": [
       "date\n",
       "2021-01-04    0.000000\n",
       "2021-01-05    0.012364\n",
       "2021-01-06   -0.021714\n",
       "2021-01-07    0.011668\n",
       "2021-01-08    0.020400\n",
       "                ...   \n",
       "2025-01-27    0.776215\n",
       "2025-01-28    0.841125\n",
       "2025-01-29    0.849625\n",
       "2025-01-30    0.835948\n",
       "2025-01-31    0.823661\n",
       "Name: close, Length: 1025, dtype: float64"
      ]
     },
     "metadata": {},
     "output_type": "display_data"
    }
   ],
   "source": [
    "display(cumulative_returns)"
   ]
  },
  {
   "cell_type": "markdown",
   "id": "b79370dc",
   "metadata": {},
   "source": [
    "Plots the cumulative returns"
   ]
  },
  {
   "cell_type": "code",
   "execution_count": 15,
   "id": "8c31b7b9",
   "metadata": {},
   "outputs": [
    {
     "data": {
      "text/plain": [
       "<Axes: xlabel='date'>"
      ]
     },
     "execution_count": 15,
     "metadata": {},
     "output_type": "execute_result"
    },
    {
     "data": {
      "image/png": "[encoded data removed]",
      "text/plain": [
       "<Figure size 640x480 with 1 Axes>"
      ]
     },
     "metadata": {},
     "output_type": "display_data"
    }
   ],
   "source": [
    "cumulative_returns.plot()"
   ]
  },
  {
   "cell_type": "markdown",
   "id": "71c74cd1",
   "metadata": {},
   "source": [
    "Calculates the log returns of 'close' prices"
   ]
  },
  {
   "cell_type": "code",
   "execution_count": 16,
   "id": "d7ddf571",
   "metadata": {},
   "outputs": [],
   "source": [
    "log_returns = np.log(close / close.shift())"
   ]
  },
  {
   "cell_type": "code",
   "execution_count": 17,
   "id": "190af9ef",
   "metadata": {},
   "outputs": [
    {
     "data": {
      "text/plain": [
       "date\n",
       "2021-01-04         NaN\n",
       "2021-01-05    0.012288\n",
       "2021-01-06   -0.034241\n",
       "2021-01-07    0.033554\n",
       "2021-01-08    0.008594\n",
       "                ...   \n",
       "2025-01-27    0.031286\n",
       "2025-01-28    0.035892\n",
       "2025-01-29    0.004606\n",
       "2025-01-30   -0.007422\n",
       "2025-01-31   -0.006715\n",
       "Name: close, Length: 1025, dtype: float64"
      ]
     },
     "metadata": {},
     "output_type": "display_data"
    }
   ],
   "source": [
    "display(log_returns)"
   ]
  },
  {
   "cell_type": "markdown",
   "id": "bdf741c0",
   "metadata": {},
   "source": [
    "Calculates the cumulative sum of the log returns to get the cumulative log returns"
   ]
  },
  {
   "cell_type": "code",
   "execution_count": 18,
   "id": "9016e050",
   "metadata": {},
   "outputs": [],
   "source": [
    "cumulative_log_returns = log_returns.cumsum()"
   ]
  },
  {
   "cell_type": "code",
   "execution_count": 19,
   "id": "1931871f",
   "metadata": {},
   "outputs": [
    {
     "data": {
      "text/plain": [
       "date\n",
       "2021-01-04         NaN\n",
       "2021-01-05    0.012288\n",
       "2021-01-06   -0.021953\n",
       "2021-01-07    0.011601\n",
       "2021-01-08    0.020195\n",
       "                ...   \n",
       "2025-01-27    0.574485\n",
       "2025-01-28    0.610377\n",
       "2025-01-29    0.614983\n",
       "2025-01-30    0.607561\n",
       "2025-01-31    0.600846\n",
       "Name: close, Length: 1025, dtype: float64"
      ]
     },
     "metadata": {},
     "output_type": "display_data"
    }
   ],
   "source": [
    "display(cumulative_log_returns)"
   ]
  },
  {
   "cell_type": "markdown",
   "id": "75f09f4b",
   "metadata": {},
   "source": [
    "Plots the cumulative log returns"
   ]
  },
  {
   "cell_type": "code",
   "execution_count": 20,
   "id": "8a81f919",
   "metadata": {},
   "outputs": [
    {
     "data": {
      "text/plain": [
       "<Axes: xlabel='date'>"
      ]
     },
     "execution_count": 20,
     "metadata": {},
     "output_type": "execute_result"
    },
    {
     "data": {
      "image/png": "[encoded data removed]",
      "text/plain": [
       "<Figure size 640x480 with 1 Axes>"
      ]
     },
     "metadata": {},
     "output_type": "display_data"
    }
   ],
   "source": [
    "cumulative_log_returns.plot()"
   ]
  },
  {
   "cell_type": "markdown",
   "id": "12fc490f",
   "metadata": {},
   "source": [
    "**Jason Strimpel** is the founder of <a href='https://pyquantnews.com/'>PyQuant News</a> and co-founder of <a href='https://www.tradeblotter.io/'>Trade Blotter</a>. His career in algorithmic trading spans 20+ years. He previously traded for a Chicago-based hedge fund, was a risk manager at JPMorgan, and managed production risk technology for an energy derivatives trading firm in London. In Singapore, he served as APAC CIO for an agricultural trading firm and built the data science team for a global metals trading firm. Jason holds degrees in Finance and Economics and a Master's in Quantitative Finance from the Illinois Institute of Technology. His career spans America, Europe, and Asia. He shares his expertise through the <a href='https://pyquantnews.com/subscribe-to-the-pyquant-newsletter/'>PyQuant Newsletter</a>, social media, and has taught over 1,000+ algorithmic trading with Python in his popular course **<a href='https://gettingstartedwithpythonforquantfinance.com/'>Getting Started With Python for Quant Finance</a>**. All code is for educational purposes only. Nothing provided here is financial advise. Use at your own risk."
   ]
  },
  {
   "cell_type": "code",
   "execution_count": null,
   "id": "2ffaf047-b29b-4266-9898-e0dc9500027c",
   "metadata": {},
   "outputs": [],
   "source": []
  }
 ],
 "metadata": {
  "jupytext": {
   "cell_metadata_filter": "-all",
   "main_language": "python",
   "notebook_metadata_filter": "-all"
  },
  "kernelspec": {
   "display_name": "algo",
   "language": "python",
   "name": "python3"
  },
  "language_info": {
   "codemirror_mode": {
    "name": "ipython",
    "version": 3
   },
   "file_extension": ".py",
   "mimetype": "text/x-python",
   "name": "python",
   "nbconvert_exporter": "python",
   "pygments_lexer": "ipython3",
   "version": "3.10.16"
  }
 },
 "nbformat": 4,
 "nbformat_minor": 5
}

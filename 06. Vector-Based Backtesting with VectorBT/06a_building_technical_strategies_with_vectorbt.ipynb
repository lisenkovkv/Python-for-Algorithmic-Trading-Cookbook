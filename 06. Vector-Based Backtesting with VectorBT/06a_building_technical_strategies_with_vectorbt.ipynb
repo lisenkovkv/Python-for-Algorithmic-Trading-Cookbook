{
 "cells": [
  {
   "cell_type": "markdown",
   "id": "9441da00",
   "metadata": {},
   "source": [
    "## Building Technical Strategies with VectorBT"
   ]
  },
  {
   "cell_type": "code",
   "execution_count": 1,
   "id": "d31b2588",
   "metadata": {},
   "outputs": [
    {
     "name": "stdout",
     "output_type": "stream",
     "text": [
      "Requirement already satisfied: vectorbt in /Users/kirilllisenkov/Documents/Python-for-Algorithmic-Trading-Cookbook/algo/lib/python3.10/site-packages (0.27.2)\n",
      "Requirement already satisfied: numpy>=1.16.5 in /Users/kirilllisenkov/Documents/Python-for-Algorithmic-Trading-Cookbook/algo/lib/python3.10/site-packages (from vectorbt) (1.23.5)\n",
      "Requirement already satisfied: pandas in /Users/kirilllisenkov/Documents/Python-for-Algorithmic-Trading-Cookbook/algo/lib/python3.10/site-packages (from vectorbt) (2.2.3)\n",
      "Requirement already satisfied: scipy in /Users/kirilllisenkov/Documents/Python-for-Algorithmic-Trading-Cookbook/algo/lib/python3.10/site-packages (from vectorbt) (1.15.1)\n",
      "Requirement already satisfied: matplotlib in /Users/kirilllisenkov/Documents/Python-for-Algorithmic-Trading-Cookbook/algo/lib/python3.10/site-packages (from vectorbt) (3.10.0)\n",
      "Requirement already satisfied: plotly<6.0.0,>=4.12.0 in /Users/kirilllisenkov/Documents/Python-for-Algorithmic-Trading-Cookbook/algo/lib/python3.10/site-packages (from vectorbt) (5.24.1)\n",
      "Requirement already satisfied: ipywidgets>=7.0.0 in /Users/kirilllisenkov/Documents/Python-for-Algorithmic-Trading-Cookbook/algo/lib/python3.10/site-packages (from vectorbt) (8.1.5)\n",
      "Requirement already satisfied: numba<0.57.0,>=0.56.0 in /Users/kirilllisenkov/Documents/Python-for-Algorithmic-Trading-Cookbook/algo/lib/python3.10/site-packages (from vectorbt) (0.56.4)\n",
      "Requirement already satisfied: dill in /Users/kirilllisenkov/Documents/Python-for-Algorithmic-Trading-Cookbook/algo/lib/python3.10/site-packages (from vectorbt) (0.3.9)\n",
      "Requirement already satisfied: tqdm in /Users/kirilllisenkov/Documents/Python-for-Algorithmic-Trading-Cookbook/algo/lib/python3.10/site-packages (from vectorbt) (4.67.1)\n",
      "Requirement already satisfied: dateparser in /Users/kirilllisenkov/Documents/Python-for-Algorithmic-Trading-Cookbook/algo/lib/python3.10/site-packages (from vectorbt) (1.2.0)\n",
      "Requirement already satisfied: imageio in /Users/kirilllisenkov/Documents/Python-for-Algorithmic-Trading-Cookbook/algo/lib/python3.10/site-packages (from vectorbt) (2.37.0)\n",
      "Requirement already satisfied: scikit-learn in /Users/kirilllisenkov/Documents/Python-for-Algorithmic-Trading-Cookbook/algo/lib/python3.10/site-packages (from vectorbt) (1.6.1)\n",
      "Requirement already satisfied: schedule in /Users/kirilllisenkov/Documents/Python-for-Algorithmic-Trading-Cookbook/algo/lib/python3.10/site-packages (from vectorbt) (1.2.2)\n",
      "Requirement already satisfied: requests in /Users/kirilllisenkov/Documents/Python-for-Algorithmic-Trading-Cookbook/algo/lib/python3.10/site-packages (from vectorbt) (2.32.3)\n",
      "Requirement already satisfied: pytz in /Users/kirilllisenkov/Documents/Python-for-Algorithmic-Trading-Cookbook/algo/lib/python3.10/site-packages (from vectorbt) (2025.1)\n",
      "Requirement already satisfied: mypy_extensions in /Users/kirilllisenkov/Documents/Python-for-Algorithmic-Trading-Cookbook/algo/lib/python3.10/site-packages (from vectorbt) (1.0.0)\n",
      "Requirement already satisfied: comm>=0.1.3 in /Users/kirilllisenkov/Documents/Python-for-Algorithmic-Trading-Cookbook/algo/lib/python3.10/site-packages (from ipywidgets>=7.0.0->vectorbt) (0.2.2)\n",
      "Requirement already satisfied: ipython>=6.1.0 in /Users/kirilllisenkov/Documents/Python-for-Algorithmic-Trading-Cookbook/algo/lib/python3.10/site-packages (from ipywidgets>=7.0.0->vectorbt) (8.32.0)\n",
      "Requirement already satisfied: traitlets>=4.3.1 in /Users/kirilllisenkov/Documents/Python-for-Algorithmic-Trading-Cookbook/algo/lib/python3.10/site-packages (from ipywidgets>=7.0.0->vectorbt) (5.14.3)\n",
      "Requirement already satisfied: widgetsnbextension~=4.0.12 in /Users/kirilllisenkov/Documents/Python-for-Algorithmic-Trading-Cookbook/algo/lib/python3.10/site-packages (from ipywidgets>=7.0.0->vectorbt) (4.0.13)\n",
      "Requirement already satisfied: jupyterlab-widgets~=3.0.12 in /Users/kirilllisenkov/Documents/Python-for-Algorithmic-Trading-Cookbook/algo/lib/python3.10/site-packages (from ipywidgets>=7.0.0->vectorbt) (3.0.13)\n",
      "Requirement already satisfied: llvmlite<0.40,>=0.39.0dev0 in /Users/kirilllisenkov/Documents/Python-for-Algorithmic-Trading-Cookbook/algo/lib/python3.10/site-packages (from numba<0.57.0,>=0.56.0->vectorbt) (0.39.1)\n",
      "Requirement already satisfied: setuptools in /Users/kirilllisenkov/Documents/Python-for-Algorithmic-Trading-Cookbook/algo/lib/python3.10/site-packages (from numba<0.57.0,>=0.56.0->vectorbt) (75.6.0)\n",
      "Requirement already satisfied: tenacity>=6.2.0 in /Users/kirilllisenkov/Documents/Python-for-Algorithmic-Trading-Cookbook/algo/lib/python3.10/site-packages (from plotly<6.0.0,>=4.12.0->vectorbt) (9.0.0)\n",
      "Requirement already satisfied: packaging in /Users/kirilllisenkov/Documents/Python-for-Algorithmic-Trading-Cookbook/algo/lib/python3.10/site-packages (from plotly<6.0.0,>=4.12.0->vectorbt) (24.2)\n",
      "Requirement already satisfied: python-dateutil in /Users/kirilllisenkov/Documents/Python-for-Algorithmic-Trading-Cookbook/algo/lib/python3.10/site-packages (from dateparser->vectorbt) (2.9.0.post0)\n",
      "Requirement already satisfied: regex!=2019.02.19,!=2021.8.27 in /Users/kirilllisenkov/Documents/Python-for-Algorithmic-Trading-Cookbook/algo/lib/python3.10/site-packages (from dateparser->vectorbt) (2024.11.6)\n",
      "Requirement already satisfied: tzlocal in /Users/kirilllisenkov/Documents/Python-for-Algorithmic-Trading-Cookbook/algo/lib/python3.10/site-packages (from dateparser->vectorbt) (5.2)\n",
      "Requirement already satisfied: pillow>=8.3.2 in /Users/kirilllisenkov/Documents/Python-for-Algorithmic-Trading-Cookbook/algo/lib/python3.10/site-packages (from imageio->vectorbt) (11.1.0)\n",
      "Requirement already satisfied: contourpy>=1.0.1 in /Users/kirilllisenkov/Documents/Python-for-Algorithmic-Trading-Cookbook/algo/lib/python3.10/site-packages (from matplotlib->vectorbt) (1.3.1)\n",
      "Requirement already satisfied: cycler>=0.10 in /Users/kirilllisenkov/Documents/Python-for-Algorithmic-Trading-Cookbook/algo/lib/python3.10/site-packages (from matplotlib->vectorbt) (0.12.1)\n",
      "Requirement already satisfied: fonttools>=4.22.0 in /Users/kirilllisenkov/Documents/Python-for-Algorithmic-Trading-Cookbook/algo/lib/python3.10/site-packages (from matplotlib->vectorbt) (4.55.8)\n",
      "Requirement already satisfied: kiwisolver>=1.3.1 in /Users/kirilllisenkov/Documents/Python-for-Algorithmic-Trading-Cookbook/algo/lib/python3.10/site-packages (from matplotlib->vectorbt) (1.4.8)\n",
      "Requirement already satisfied: pyparsing>=2.3.1 in /Users/kirilllisenkov/Documents/Python-for-Algorithmic-Trading-Cookbook/algo/lib/python3.10/site-packages (from matplotlib->vectorbt) (3.2.1)\n",
      "Requirement already satisfied: tzdata>=2022.7 in /Users/kirilllisenkov/Documents/Python-for-Algorithmic-Trading-Cookbook/algo/lib/python3.10/site-packages (from pandas->vectorbt) (2025.1)\n",
      "Requirement already satisfied: charset-normalizer<4,>=2 in /Users/kirilllisenkov/Documents/Python-for-Algorithmic-Trading-Cookbook/algo/lib/python3.10/site-packages (from requests->vectorbt) (3.4.1)\n",
      "Requirement already satisfied: idna<4,>=2.5 in /Users/kirilllisenkov/Documents/Python-for-Algorithmic-Trading-Cookbook/algo/lib/python3.10/site-packages (from requests->vectorbt) (3.10)\n",
      "Requirement already satisfied: urllib3<3,>=1.21.1 in /Users/kirilllisenkov/Documents/Python-for-Algorithmic-Trading-Cookbook/algo/lib/python3.10/site-packages (from requests->vectorbt) (2.3.0)\n",
      "Requirement already satisfied: certifi>=2017.4.17 in /Users/kirilllisenkov/Documents/Python-for-Algorithmic-Trading-Cookbook/algo/lib/python3.10/site-packages (from requests->vectorbt) (2025.1.31)\n",
      "Requirement already satisfied: joblib>=1.2.0 in /Users/kirilllisenkov/Documents/Python-for-Algorithmic-Trading-Cookbook/algo/lib/python3.10/site-packages (from scikit-learn->vectorbt) (1.4.2)\n",
      "Requirement already satisfied: threadpoolctl>=3.1.0 in /Users/kirilllisenkov/Documents/Python-for-Algorithmic-Trading-Cookbook/algo/lib/python3.10/site-packages (from scikit-learn->vectorbt) (3.5.0)\n",
      "Requirement already satisfied: decorator in /Users/kirilllisenkov/Documents/Python-for-Algorithmic-Trading-Cookbook/algo/lib/python3.10/site-packages (from ipython>=6.1.0->ipywidgets>=7.0.0->vectorbt) (5.1.1)\n",
      "Requirement already satisfied: exceptiongroup in /Users/kirilllisenkov/Documents/Python-for-Algorithmic-Trading-Cookbook/algo/lib/python3.10/site-packages (from ipython>=6.1.0->ipywidgets>=7.0.0->vectorbt) (1.2.2)\n",
      "Requirement already satisfied: jedi>=0.16 in /Users/kirilllisenkov/Documents/Python-for-Algorithmic-Trading-Cookbook/algo/lib/python3.10/site-packages (from ipython>=6.1.0->ipywidgets>=7.0.0->vectorbt) (0.19.2)\n",
      "Requirement already satisfied: matplotlib-inline in /Users/kirilllisenkov/Documents/Python-for-Algorithmic-Trading-Cookbook/algo/lib/python3.10/site-packages (from ipython>=6.1.0->ipywidgets>=7.0.0->vectorbt) (0.1.7)\n",
      "Requirement already satisfied: pexpect>4.3 in /Users/kirilllisenkov/Documents/Python-for-Algorithmic-Trading-Cookbook/algo/lib/python3.10/site-packages (from ipython>=6.1.0->ipywidgets>=7.0.0->vectorbt) (4.9.0)\n",
      "Requirement already satisfied: prompt_toolkit<3.1.0,>=3.0.41 in /Users/kirilllisenkov/Documents/Python-for-Algorithmic-Trading-Cookbook/algo/lib/python3.10/site-packages (from ipython>=6.1.0->ipywidgets>=7.0.0->vectorbt) (3.0.50)\n",
      "Requirement already satisfied: pygments>=2.4.0 in /Users/kirilllisenkov/Documents/Python-for-Algorithmic-Trading-Cookbook/algo/lib/python3.10/site-packages (from ipython>=6.1.0->ipywidgets>=7.0.0->vectorbt) (2.19.1)\n",
      "Requirement already satisfied: stack_data in /Users/kirilllisenkov/Documents/Python-for-Algorithmic-Trading-Cookbook/algo/lib/python3.10/site-packages (from ipython>=6.1.0->ipywidgets>=7.0.0->vectorbt) (0.6.3)\n",
      "Requirement already satisfied: typing_extensions>=4.6 in /Users/kirilllisenkov/Documents/Python-for-Algorithmic-Trading-Cookbook/algo/lib/python3.10/site-packages (from ipython>=6.1.0->ipywidgets>=7.0.0->vectorbt) (4.12.2)\n",
      "Requirement already satisfied: six>=1.5 in /Users/kirilllisenkov/Documents/Python-for-Algorithmic-Trading-Cookbook/algo/lib/python3.10/site-packages (from python-dateutil->dateparser->vectorbt) (1.17.0)\n",
      "Requirement already satisfied: parso<0.9.0,>=0.8.4 in /Users/kirilllisenkov/Documents/Python-for-Algorithmic-Trading-Cookbook/algo/lib/python3.10/site-packages (from jedi>=0.16->ipython>=6.1.0->ipywidgets>=7.0.0->vectorbt) (0.8.4)\n",
      "Requirement already satisfied: ptyprocess>=0.5 in /Users/kirilllisenkov/Documents/Python-for-Algorithmic-Trading-Cookbook/algo/lib/python3.10/site-packages (from pexpect>4.3->ipython>=6.1.0->ipywidgets>=7.0.0->vectorbt) (0.7.0)\n",
      "Requirement already satisfied: wcwidth in /Users/kirilllisenkov/Documents/Python-for-Algorithmic-Trading-Cookbook/algo/lib/python3.10/site-packages (from prompt_toolkit<3.1.0,>=3.0.41->ipython>=6.1.0->ipywidgets>=7.0.0->vectorbt) (0.2.13)\n",
      "Requirement already satisfied: executing>=1.2.0 in /Users/kirilllisenkov/Documents/Python-for-Algorithmic-Trading-Cookbook/algo/lib/python3.10/site-packages (from stack_data->ipython>=6.1.0->ipywidgets>=7.0.0->vectorbt) (2.2.0)\n",
      "Requirement already satisfied: asttokens>=2.1.0 in /Users/kirilllisenkov/Documents/Python-for-Algorithmic-Trading-Cookbook/algo/lib/python3.10/site-packages (from stack_data->ipython>=6.1.0->ipywidgets>=7.0.0->vectorbt) (3.0.0)\n",
      "Requirement already satisfied: pure-eval in /Users/kirilllisenkov/Documents/Python-for-Algorithmic-Trading-Cookbook/algo/lib/python3.10/site-packages (from stack_data->ipython>=6.1.0->ipywidgets>=7.0.0->vectorbt) (0.2.3)\n"
     ]
    }
   ],
   "source": [
    "!pip install vectorbt"
   ]
  },
  {
   "cell_type": "code",
   "execution_count": 2,
   "id": "c3822570",
   "metadata": {},
   "outputs": [],
   "source": [
    "import pandas as pd\n",
    "import vectorbt as vbt\n",
    "from IPython.display import Markdown, display"
   ]
  },
  {
   "cell_type": "markdown",
   "id": "600e5dcc",
   "metadata": {},
   "source": [
    "Define the start and end dates for data download"
   ]
  },
  {
   "cell_type": "code",
   "execution_count": 3,
   "id": "f55cea83",
   "metadata": {},
   "outputs": [],
   "source": [
    "start = \"2016-01-01 UTC\"\n",
    "end = \"2020-01-01 UTC\""
   ]
  },
  {
   "cell_type": "markdown",
   "id": "9e797359",
   "metadata": {},
   "source": [
    "Download historical closing prices for specified symbols from Yahoo Finance"
   ]
  },
  {
   "cell_type": "code",
   "execution_count": 4,
   "id": "39619e14",
   "metadata": {},
   "outputs": [],
   "source": [
    "prices = vbt.YFData.download(\n",
    "    [\"META\", \"AAPL\", \"AMZN\", \"NFLX\", \"GOOG\"], start=start, end=end\n",
    ").get(\"Close\")"
   ]
  },
  {
   "cell_type": "markdown",
   "id": "74004828",
   "metadata": {},
   "source": [
    "Calculate fast and slow moving averages"
   ]
  },
  {
   "cell_type": "code",
   "execution_count": 5,
   "id": "c6c39111",
   "metadata": {},
   "outputs": [],
   "source": [
    "fast_ma = vbt.MA.run(prices, 10, short_name=\"fast\")\n",
    "slow_ma = vbt.MA.run(prices, 30, short_name=\"slow\")"
   ]
  },
  {
   "cell_type": "markdown",
   "id": "b58c05f4",
   "metadata": {},
   "source": [
    "Generate entry signals when the fast MA crosses above the slow MA"
   ]
  },
  {
   "cell_type": "code",
   "execution_count": 6,
   "id": "d4c17a2f",
   "metadata": {},
   "outputs": [
    {
     "data": {
      "text/html": [
       "<div>\n",
       "<style scoped>\n",
       "    .dataframe tbody tr th:only-of-type {\n",
       "        vertical-align: middle;\n",
       "    }\n",
       "\n",
       "    .dataframe tbody tr th {\n",
       "        vertical-align: top;\n",
       "    }\n",
       "\n",
       "    .dataframe thead tr th {\n",
       "        text-align: left;\n",
       "    }\n",
       "\n",
       "    .dataframe thead tr:last-of-type th {\n",
       "        text-align: right;\n",
       "    }\n",
       "</style>\n",
       "<table border=\"1\" class=\"dataframe\">\n",
       "  <thead>\n",
       "    <tr>\n",
       "      <th>fast_window</th>\n",
       "      <th colspan=\"5\" halign=\"left\">10</th>\n",
       "    </tr>\n",
       "    <tr>\n",
       "      <th>slow_window</th>\n",
       "      <th colspan=\"5\" halign=\"left\">30</th>\n",
       "    </tr>\n",
       "    <tr>\n",
       "      <th>symbol</th>\n",
       "      <th>META</th>\n",
       "      <th>AAPL</th>\n",
       "      <th>AMZN</th>\n",
       "      <th>NFLX</th>\n",
       "      <th>GOOG</th>\n",
       "    </tr>\n",
       "    <tr>\n",
       "      <th>Date</th>\n",
       "      <th></th>\n",
       "      <th></th>\n",
       "      <th></th>\n",
       "      <th></th>\n",
       "      <th></th>\n",
       "    </tr>\n",
       "  </thead>\n",
       "  <tbody>\n",
       "    <tr>\n",
       "      <th>2016-01-04 05:00:00+00:00</th>\n",
       "      <td>False</td>\n",
       "      <td>False</td>\n",
       "      <td>False</td>\n",
       "      <td>False</td>\n",
       "      <td>False</td>\n",
       "    </tr>\n",
       "    <tr>\n",
       "      <th>2016-01-05 05:00:00+00:00</th>\n",
       "      <td>False</td>\n",
       "      <td>False</td>\n",
       "      <td>False</td>\n",
       "      <td>False</td>\n",
       "      <td>False</td>\n",
       "    </tr>\n",
       "    <tr>\n",
       "      <th>2016-01-06 05:00:00+00:00</th>\n",
       "      <td>False</td>\n",
       "      <td>False</td>\n",
       "      <td>False</td>\n",
       "      <td>False</td>\n",
       "      <td>False</td>\n",
       "    </tr>\n",
       "    <tr>\n",
       "      <th>2016-01-07 05:00:00+00:00</th>\n",
       "      <td>False</td>\n",
       "      <td>False</td>\n",
       "      <td>False</td>\n",
       "      <td>False</td>\n",
       "      <td>False</td>\n",
       "    </tr>\n",
       "    <tr>\n",
       "      <th>2016-01-08 05:00:00+00:00</th>\n",
       "      <td>False</td>\n",
       "      <td>False</td>\n",
       "      <td>False</td>\n",
       "      <td>False</td>\n",
       "      <td>False</td>\n",
       "    </tr>\n",
       "    <tr>\n",
       "      <th>...</th>\n",
       "      <td>...</td>\n",
       "      <td>...</td>\n",
       "      <td>...</td>\n",
       "      <td>...</td>\n",
       "      <td>...</td>\n",
       "    </tr>\n",
       "    <tr>\n",
       "      <th>2019-12-24 05:00:00+00:00</th>\n",
       "      <td>False</td>\n",
       "      <td>False</td>\n",
       "      <td>False</td>\n",
       "      <td>False</td>\n",
       "      <td>False</td>\n",
       "    </tr>\n",
       "    <tr>\n",
       "      <th>2019-12-26 05:00:00+00:00</th>\n",
       "      <td>False</td>\n",
       "      <td>False</td>\n",
       "      <td>False</td>\n",
       "      <td>False</td>\n",
       "      <td>False</td>\n",
       "    </tr>\n",
       "    <tr>\n",
       "      <th>2019-12-27 05:00:00+00:00</th>\n",
       "      <td>False</td>\n",
       "      <td>False</td>\n",
       "      <td>False</td>\n",
       "      <td>False</td>\n",
       "      <td>False</td>\n",
       "    </tr>\n",
       "    <tr>\n",
       "      <th>2019-12-30 05:00:00+00:00</th>\n",
       "      <td>False</td>\n",
       "      <td>False</td>\n",
       "      <td>False</td>\n",
       "      <td>False</td>\n",
       "      <td>False</td>\n",
       "    </tr>\n",
       "    <tr>\n",
       "      <th>2019-12-31 05:00:00+00:00</th>\n",
       "      <td>False</td>\n",
       "      <td>False</td>\n",
       "      <td>False</td>\n",
       "      <td>False</td>\n",
       "      <td>False</td>\n",
       "    </tr>\n",
       "  </tbody>\n",
       "</table>\n",
       "<p>1006 rows × 5 columns</p>\n",
       "</div>"
      ],
      "text/plain": [
       "fast_window                   10                            \n",
       "slow_window                   30                            \n",
       "symbol                      META   AAPL   AMZN   NFLX   GOOG\n",
       "Date                                                        \n",
       "2016-01-04 05:00:00+00:00  False  False  False  False  False\n",
       "2016-01-05 05:00:00+00:00  False  False  False  False  False\n",
       "2016-01-06 05:00:00+00:00  False  False  False  False  False\n",
       "2016-01-07 05:00:00+00:00  False  False  False  False  False\n",
       "2016-01-08 05:00:00+00:00  False  False  False  False  False\n",
       "...                          ...    ...    ...    ...    ...\n",
       "2019-12-24 05:00:00+00:00  False  False  False  False  False\n",
       "2019-12-26 05:00:00+00:00  False  False  False  False  False\n",
       "2019-12-27 05:00:00+00:00  False  False  False  False  False\n",
       "2019-12-30 05:00:00+00:00  False  False  False  False  False\n",
       "2019-12-31 05:00:00+00:00  False  False  False  False  False\n",
       "\n",
       "[1006 rows x 5 columns]"
      ]
     },
     "metadata": {},
     "output_type": "display_data"
    }
   ],
   "source": [
    "entries = fast_ma.ma_crossed_above(slow_ma)\n",
    "display(entries)"
   ]
  },
  {
   "cell_type": "markdown",
   "id": "4b0d9b1d",
   "metadata": {},
   "source": [
    "Generate exit signals when the fast MA crosses below the slow MA"
   ]
  },
  {
   "cell_type": "code",
   "execution_count": 7,
   "id": "225bc5d3",
   "metadata": {},
   "outputs": [
    {
     "data": {
      "text/html": [
       "<div>\n",
       "<style scoped>\n",
       "    .dataframe tbody tr th:only-of-type {\n",
       "        vertical-align: middle;\n",
       "    }\n",
       "\n",
       "    .dataframe tbody tr th {\n",
       "        vertical-align: top;\n",
       "    }\n",
       "\n",
       "    .dataframe thead tr th {\n",
       "        text-align: left;\n",
       "    }\n",
       "\n",
       "    .dataframe thead tr:last-of-type th {\n",
       "        text-align: right;\n",
       "    }\n",
       "</style>\n",
       "<table border=\"1\" class=\"dataframe\">\n",
       "  <thead>\n",
       "    <tr>\n",
       "      <th>fast_window</th>\n",
       "      <th colspan=\"5\" halign=\"left\">10</th>\n",
       "    </tr>\n",
       "    <tr>\n",
       "      <th>slow_window</th>\n",
       "      <th colspan=\"5\" halign=\"left\">30</th>\n",
       "    </tr>\n",
       "    <tr>\n",
       "      <th>symbol</th>\n",
       "      <th>META</th>\n",
       "      <th>AAPL</th>\n",
       "      <th>AMZN</th>\n",
       "      <th>NFLX</th>\n",
       "      <th>GOOG</th>\n",
       "    </tr>\n",
       "    <tr>\n",
       "      <th>Date</th>\n",
       "      <th></th>\n",
       "      <th></th>\n",
       "      <th></th>\n",
       "      <th></th>\n",
       "      <th></th>\n",
       "    </tr>\n",
       "  </thead>\n",
       "  <tbody>\n",
       "    <tr>\n",
       "      <th>2016-01-04 05:00:00+00:00</th>\n",
       "      <td>False</td>\n",
       "      <td>False</td>\n",
       "      <td>False</td>\n",
       "      <td>False</td>\n",
       "      <td>False</td>\n",
       "    </tr>\n",
       "    <tr>\n",
       "      <th>2016-01-05 05:00:00+00:00</th>\n",
       "      <td>False</td>\n",
       "      <td>False</td>\n",
       "      <td>False</td>\n",
       "      <td>False</td>\n",
       "      <td>False</td>\n",
       "    </tr>\n",
       "    <tr>\n",
       "      <th>2016-01-06 05:00:00+00:00</th>\n",
       "      <td>False</td>\n",
       "      <td>False</td>\n",
       "      <td>False</td>\n",
       "      <td>False</td>\n",
       "      <td>False</td>\n",
       "    </tr>\n",
       "    <tr>\n",
       "      <th>2016-01-07 05:00:00+00:00</th>\n",
       "      <td>False</td>\n",
       "      <td>False</td>\n",
       "      <td>False</td>\n",
       "      <td>False</td>\n",
       "      <td>False</td>\n",
       "    </tr>\n",
       "    <tr>\n",
       "      <th>2016-01-08 05:00:00+00:00</th>\n",
       "      <td>False</td>\n",
       "      <td>False</td>\n",
       "      <td>False</td>\n",
       "      <td>False</td>\n",
       "      <td>False</td>\n",
       "    </tr>\n",
       "    <tr>\n",
       "      <th>...</th>\n",
       "      <td>...</td>\n",
       "      <td>...</td>\n",
       "      <td>...</td>\n",
       "      <td>...</td>\n",
       "      <td>...</td>\n",
       "    </tr>\n",
       "    <tr>\n",
       "      <th>2019-12-24 05:00:00+00:00</th>\n",
       "      <td>False</td>\n",
       "      <td>False</td>\n",
       "      <td>False</td>\n",
       "      <td>False</td>\n",
       "      <td>False</td>\n",
       "    </tr>\n",
       "    <tr>\n",
       "      <th>2019-12-26 05:00:00+00:00</th>\n",
       "      <td>False</td>\n",
       "      <td>False</td>\n",
       "      <td>False</td>\n",
       "      <td>False</td>\n",
       "      <td>False</td>\n",
       "    </tr>\n",
       "    <tr>\n",
       "      <th>2019-12-27 05:00:00+00:00</th>\n",
       "      <td>False</td>\n",
       "      <td>False</td>\n",
       "      <td>False</td>\n",
       "      <td>False</td>\n",
       "      <td>False</td>\n",
       "    </tr>\n",
       "    <tr>\n",
       "      <th>2019-12-30 05:00:00+00:00</th>\n",
       "      <td>False</td>\n",
       "      <td>False</td>\n",
       "      <td>False</td>\n",
       "      <td>False</td>\n",
       "      <td>False</td>\n",
       "    </tr>\n",
       "    <tr>\n",
       "      <th>2019-12-31 05:00:00+00:00</th>\n",
       "      <td>False</td>\n",
       "      <td>False</td>\n",
       "      <td>False</td>\n",
       "      <td>False</td>\n",
       "      <td>False</td>\n",
       "    </tr>\n",
       "  </tbody>\n",
       "</table>\n",
       "<p>1006 rows × 5 columns</p>\n",
       "</div>"
      ],
      "text/plain": [
       "fast_window                   10                            \n",
       "slow_window                   30                            \n",
       "symbol                      META   AAPL   AMZN   NFLX   GOOG\n",
       "Date                                                        \n",
       "2016-01-04 05:00:00+00:00  False  False  False  False  False\n",
       "2016-01-05 05:00:00+00:00  False  False  False  False  False\n",
       "2016-01-06 05:00:00+00:00  False  False  False  False  False\n",
       "2016-01-07 05:00:00+00:00  False  False  False  False  False\n",
       "2016-01-08 05:00:00+00:00  False  False  False  False  False\n",
       "...                          ...    ...    ...    ...    ...\n",
       "2019-12-24 05:00:00+00:00  False  False  False  False  False\n",
       "2019-12-26 05:00:00+00:00  False  False  False  False  False\n",
       "2019-12-27 05:00:00+00:00  False  False  False  False  False\n",
       "2019-12-30 05:00:00+00:00  False  False  False  False  False\n",
       "2019-12-31 05:00:00+00:00  False  False  False  False  False\n",
       "\n",
       "[1006 rows x 5 columns]"
      ]
     },
     "metadata": {},
     "output_type": "display_data"
    }
   ],
   "source": [
    "exits = fast_ma.ma_crossed_below(slow_ma)\n",
    "display(exits)"
   ]
  },
  {
   "cell_type": "markdown",
   "id": "4a644c22",
   "metadata": {},
   "source": [
    "Create a portfolio using the generated entry and exit signals"
   ]
  },
  {
   "cell_type": "code",
   "execution_count": 8,
   "id": "b468d203",
   "metadata": {},
   "outputs": [],
   "source": [
    "pf = vbt.Portfolio.from_signals(prices, entries, exits, freq=\"1d\")"
   ]
  },
  {
   "cell_type": "markdown",
   "id": "af05b7a2",
   "metadata": {},
   "source": [
    "Display portfolio statistics"
   ]
  },
  {
   "cell_type": "code",
   "execution_count": 9,
   "id": "47c13a9a",
   "metadata": {},
   "outputs": [
    {
     "name": "stderr",
     "output_type": "stream",
     "text": [
      "/var/folders/pp/g90q205n5_39x714vvq7pp_00000gn/T/ipykernel_16224/4100483198.py:1: UserWarning: Object has multiple columns. Aggregating using <function mean at 0x122063880>. Pass column to select a single column/group.\n",
      "  display(pf.stats())\n"
     ]
    },
    {
     "data": {
      "text/plain": [
       "Start                          2016-01-04 05:00:00+00:00\n",
       "End                            2019-12-31 05:00:00+00:00\n",
       "Period                                1006 days 00:00:00\n",
       "Start Value                                        100.0\n",
       "End Value                                     176.376713\n",
       "Total Return [%]                               76.376713\n",
       "Benchmark Return [%]                          152.731367\n",
       "Max Gross Exposure [%]                             100.0\n",
       "Total Fees Paid                                      0.0\n",
       "Max Drawdown [%]                               25.869036\n",
       "Max Drawdown Duration                  347 days 00:00:00\n",
       "Total Trades                                        17.4\n",
       "Total Closed Trades                                 16.4\n",
       "Total Open Trades                                    1.0\n",
       "Open Trade PnL                                 23.097864\n",
       "Win Rate [%]                                    49.79085\n",
       "Best Trade [%]                                  27.62886\n",
       "Worst Trade [%]                                -9.917982\n",
       "Avg Winning Trade [%]                           11.33886\n",
       "Avg Losing Trade [%]                           -4.898295\n",
       "Avg Winning Trade Duration    57 days 06:51:00.779220779\n",
       "Avg Losing Trade Duration               18 days 04:02:24\n",
       "Profit Factor                                   2.246472\n",
       "Expectancy                                      3.371261\n",
       "Sharpe Ratio                                    0.955982\n",
       "Calmar Ratio                                    1.017462\n",
       "Omega Ratio                                     1.205932\n",
       "Sortino Ratio                                   1.460598\n",
       "Name: agg_func_mean, dtype: object"
      ]
     },
     "metadata": {},
     "output_type": "display_data"
    }
   ],
   "source": [
    "display(pf.stats())"
   ]
  },
  {
   "cell_type": "markdown",
   "id": "97415690",
   "metadata": {},
   "source": [
    "Plot the total return of the portfolio for each symbol"
   ]
  },
  {
   "cell_type": "code",
   "execution_count": 10,
   "id": "70762ceb",
   "metadata": {},
   "outputs": [
    {
     "data": {
      "application/vnd.jupyter.widget-view+json": {
       "model_id": "c2c4b95aafbf45e19792ad0f467a133b",
       "version_major": 2,
       "version_minor": 0
      },
      "text/plain": [
       "FigureWidget({\n",
       "    'data': [{'name': 'total_return',\n",
       "              'showlegend': True,\n",
       "              'type': 'bar',\n",
       "              'uid': '76e55ece-d90b-40e7-bb45-e47bf3e4f750',\n",
       "              'x': array(['AAPL', 'AMZN', 'GOOG', 'META', 'NFLX'], dtype=object),\n",
       "              'y': array([1.7348317 , 1.28553102, 0.50135305, 0.16619115, 0.13092872])}],\n",
       "    'layout': {'height': 350,\n",
       "               'legend': {'orientation': 'h',\n",
       "                          'traceorder': 'normal',\n",
       "                          'x': 1,\n",
       "                          'xanchor': 'right',\n",
       "                          'y': 1.02,\n",
       "                          'yanchor': 'bottom'},\n",
       "               'margin': {'b': 30, 'l': 30, 'r': 30, 't': 30},\n",
       "               'template': '...',\n",
       "               'width': 700}\n",
       "})"
      ]
     },
     "execution_count": 10,
     "metadata": {},
     "output_type": "execute_result"
    }
   ],
   "source": [
    "(pf.total_return().groupby(\"symbol\").mean().vbt.barplot())"
   ]
  },
  {
   "cell_type": "markdown",
   "id": "b1a1753d",
   "metadata": {},
   "source": [
    "Create a portfolio assuming buy-and-hold strategy and plot the total return"
   ]
  },
  {
   "cell_type": "code",
   "execution_count": 11,
   "id": "8082d1e8",
   "metadata": {},
   "outputs": [
    {
     "data": {
      "application/vnd.jupyter.widget-view+json": {
       "model_id": "82ec37226c824d4c9e9ce14334c3e997",
       "version_major": 2,
       "version_minor": 0
      },
      "text/plain": [
       "FigureWidget({\n",
       "    'data': [{'name': 'total_return',\n",
       "              'showlegend': True,\n",
       "              'type': 'bar',\n",
       "              'uid': 'c350ef2d-0f06-4f34-b90f-9f7aefde228d',\n",
       "              'x': array(['AAPL', 'AMZN', 'GOOG', 'META', 'NFLX'], dtype=object),\n",
       "              'y': array([1.98283284, 1.90089315, 0.80230255, 1.00792421, 1.94261559])}],\n",
       "    'layout': {'height': 350,\n",
       "               'legend': {'orientation': 'h',\n",
       "                          'traceorder': 'normal',\n",
       "                          'x': 1,\n",
       "                          'xanchor': 'right',\n",
       "                          'y': 1.02,\n",
       "                          'yanchor': 'bottom'},\n",
       "               'margin': {'b': 30, 'l': 30, 'r': 30, 't': 30},\n",
       "               'template': '...',\n",
       "               'width': 700}\n",
       "})"
      ]
     },
     "execution_count": 11,
     "metadata": {},
     "output_type": "execute_result"
    }
   ],
   "source": [
    "(\n",
    "    vbt.Portfolio.from_holding(prices, freq=\"1d\")\n",
    "    .total_return()\n",
    "    .groupby(\"symbol\")\n",
    "    .mean()\n",
    "    .vbt.barplot()\n",
    ")"
   ]
  },
  {
   "cell_type": "markdown",
   "id": "61e0f8cd",
   "metadata": {},
   "source": [
    "Split the prices data into 4 equal parts"
   ]
  },
  {
   "cell_type": "code",
   "execution_count": 12,
   "id": "9bb4ea8a",
   "metadata": {},
   "outputs": [],
   "source": [
    "mult_prices, _ = prices.vbt.range_split(n=4)"
   ]
  },
  {
   "cell_type": "markdown",
   "id": "fb7ad95b",
   "metadata": {},
   "source": [
    "Calculate fast and slow moving averages for each split"
   ]
  },
  {
   "cell_type": "code",
   "execution_count": 13,
   "id": "19c045eb",
   "metadata": {},
   "outputs": [],
   "source": [
    "fast_ma = vbt.MA.run(mult_prices, [10, 20], short_name=\"fast\")\n",
    "slow_ma = vbt.MA.run(mult_prices, [30, 30], short_name=\"slow\")"
   ]
  },
  {
   "cell_type": "markdown",
   "id": "2ec72e57",
   "metadata": {},
   "source": [
    "Generate entry and exit signals for each split"
   ]
  },
  {
   "cell_type": "code",
   "execution_count": 14,
   "id": "cc56470a",
   "metadata": {},
   "outputs": [],
   "source": [
    "entries = fast_ma.ma_crossed_above(slow_ma)\n",
    "exits = fast_ma.ma_crossed_below(slow_ma)"
   ]
  },
  {
   "cell_type": "markdown",
   "id": "b3a2839f",
   "metadata": {},
   "source": [
    "Create a portfolio using the generated entry and exit signals for each split"
   ]
  },
  {
   "cell_type": "code",
   "execution_count": 15,
   "id": "b446be7c",
   "metadata": {},
   "outputs": [],
   "source": [
    "pf = vbt.Portfolio.from_signals(mult_prices, entries, exits, freq=\"1D\")"
   ]
  },
  {
   "cell_type": "markdown",
   "id": "ae997c15",
   "metadata": {},
   "source": [
    "Plot the total return of the portfolio for each split and symbol"
   ]
  },
  {
   "cell_type": "code",
   "execution_count": 16,
   "id": "cf9b80cd",
   "metadata": {},
   "outputs": [
    {
     "data": {
      "application/vnd.jupyter.widget-view+json": {
       "model_id": "169ea7b2a63a4dac976a40d080aac89f",
       "version_major": 2,
       "version_minor": 0
      },
      "text/plain": [
       "FigureWidget({\n",
       "    'data': [{'name': 'AAPL',\n",
       "              'showlegend': True,\n",
       "              'type': 'bar',\n",
       "              'uid': 'bc8633fd-7e6d-40ff-8039-3519f4bbd2b3',\n",
       "              'x': array([0, 1, 2, 3]),\n",
       "              'y': array([0.05063227, 0.11321568, 0.10540665, 0.44102591])},\n",
       "             {'name': 'AMZN',\n",
       "              'showlegend': True,\n",
       "              'type': 'bar',\n",
       "              'uid': '780f2e93-aaaf-43c8-8d01-1e2d317cfaed',\n",
       "              'x': array([0, 1, 2, 3]),\n",
       "              'y': array([0.30121359, 0.10976334, 0.26265571, 0.01039871])},\n",
       "             {'name': 'GOOG',\n",
       "              'showlegend': True,\n",
       "              'type': 'bar',\n",
       "              'uid': '83d50fd1-0b8c-461e-9da0-c314dec67b11',\n",
       "              'x': array([0, 1, 2, 3]),\n",
       "              'y': array([-0.08226519,  0.17835176,  0.01148375,  0.13153614])},\n",
       "             {'name': 'META',\n",
       "              'showlegend': True,\n",
       "              'type': 'bar',\n",
       "              'uid': '4b1aeba2-c7d0-4e3e-b251-dcd00d3a02bd',\n",
       "              'x': array([0, 1, 2, 3]),\n",
       "              'y': array([-0.04147414,  0.08015955, -0.13614619,  0.10277334])},\n",
       "             {'name': 'NFLX',\n",
       "              'showlegend': True,\n",
       "              'type': 'bar',\n",
       "              'uid': '54faa6ed-11de-4e83-996f-06e9d19d5380',\n",
       "              'x': array([0, 1, 2, 3]),\n",
       "              'y': array([-0.05867257, -0.03627905,  0.0439421 , -0.07218557])}],\n",
       "    'layout': {'height': 350,\n",
       "               'legend': {'orientation': 'h',\n",
       "                          'traceorder': 'normal',\n",
       "                          'x': 1,\n",
       "                          'xanchor': 'right',\n",
       "                          'y': 1.02,\n",
       "                          'yanchor': 'bottom'},\n",
       "               'margin': {'b': 30, 'l': 30, 'r': 30, 't': 30},\n",
       "               'template': '...',\n",
       "               'width': 700}\n",
       "})"
      ]
     },
     "execution_count": 16,
     "metadata": {},
     "output_type": "execute_result"
    }
   ],
   "source": [
    "(\n",
    "    pf.total_return()\n",
    "    .groupby([\"split_idx\", \"symbol\"])\n",
    "    .mean()\n",
    "    .unstack(level=-1)\n",
    "    .vbt.barplot()\n",
    ")"
   ]
  },
  {
   "cell_type": "markdown",
   "id": "b6a9f92d",
   "metadata": {},
   "source": [
    "Display order statistics"
   ]
  },
  {
   "cell_type": "code",
   "execution_count": 17,
   "id": "00a75a60",
   "metadata": {},
   "outputs": [
    {
     "data": {
      "text/plain": [
       "Start                                0\n",
       "End                                250\n",
       "Period               251 days 00:00:00\n",
       "Total Records                      291\n",
       "Total Buy Orders                   157\n",
       "Total Sell Orders                  134\n",
       "Min Size                      0.253075\n",
       "Max Size                      4.706514\n",
       "Avg Size                      1.634929\n",
       "Avg Buy Size                  1.643704\n",
       "Avg Sell Size                 1.624647\n",
       "Avg Buy Price               103.313656\n",
       "Avg Sell Price              104.434968\n",
       "Total Fees                         0.0\n",
       "Min Fees                           0.0\n",
       "Max Fees                           0.0\n",
       "Avg Fees                           0.0\n",
       "Avg Buy Fees                       0.0\n",
       "Avg Sell Fees                      0.0\n",
       "Name: group, dtype: object"
      ]
     },
     "metadata": {},
     "output_type": "display_data"
    }
   ],
   "source": [
    "display(pf.orders.stats(group_by=True))"
   ]
  },
  {
   "cell_type": "markdown",
   "id": "27f755db",
   "metadata": {},
   "source": [
    "Display the Sharpe ratio of the portfolio"
   ]
  },
  {
   "cell_type": "code",
   "execution_count": 18,
   "id": "42dbaaf6",
   "metadata": {},
   "outputs": [
    {
     "data": {
      "text/plain": [
       "fast_window  slow_window  split_idx  symbol\n",
       "10           30           0          META     -0.472595\n",
       "                                     AAPL      1.125234\n",
       "                                     AMZN      1.633329\n",
       "                                     NFLX     -0.470585\n",
       "                                     GOOG     -0.051112\n",
       "                          1          META      0.449941\n",
       "                                     AAPL      1.043138\n",
       "                                     AMZN      0.611364\n",
       "                                     NFLX     -0.359590\n",
       "                                     GOOG      1.754605\n",
       "                          2          META     -0.572691\n",
       "                                     AAPL      0.049780\n",
       "                                     AMZN      1.255488\n",
       "                                     NFLX     -0.171628\n",
       "                                     GOOG      0.088257\n",
       "                          3          META      0.556393\n",
       "                                     AAPL      2.921360\n",
       "                                     AMZN      0.373490\n",
       "                                     NFLX     -0.591651\n",
       "                                     GOOG      1.090826\n",
       "20           30           0          META     -0.269870\n",
       "                                     AAPL     -0.075989\n",
       "                                     AMZN      2.011461\n",
       "                                     NFLX      0.367359\n",
       "                                     GOOG     -1.511736\n",
       "                          1          META      1.169298\n",
       "                                     AAPL      1.154908\n",
       "                                     AMZN      1.101583\n",
       "                                     NFLX      0.071964\n",
       "                                     GOOG      1.514200\n",
       "                          2          META     -0.509356\n",
       "                                     AAPL      1.567444\n",
       "                                     AMZN      2.423336\n",
       "                                     NFLX      0.837490\n",
       "                                     GOOG      0.267123\n",
       "                          3          META      1.106600\n",
       "                                     AAPL      2.823874\n",
       "                                     AMZN     -0.030273\n",
       "                                     NFLX     -0.088711\n",
       "                                     GOOG      1.010649\n",
       "Name: sharpe_ratio, dtype: float64"
      ]
     },
     "metadata": {},
     "output_type": "display_data"
    }
   ],
   "source": [
    "display(pf.sharpe_ratio())"
   ]
  },
  {
   "cell_type": "markdown",
   "id": "34140cce",
   "metadata": {},
   "source": [
    "**Jason Strimpel** is the founder of <a href='https://pyquantnews.com/'>PyQuant News</a> and co-founder of <a href='https://www.tradeblotter.io/'>Trade Blotter</a>. His career in algorithmic trading spans 20+ years. He previously traded for a Chicago-based hedge fund, was a risk manager at JPMorgan, and managed production risk technology for an energy derivatives trading firm in London. In Singapore, he served as APAC CIO for an agricultural trading firm and built the data science team for a global metals trading firm. Jason holds degrees in Finance and Economics and a Master's in Quantitative Finance from the Illinois Institute of Technology. His career spans America, Europe, and Asia. He shares his expertise through the <a href='https://pyquantnews.com/subscribe-to-the-pyquant-newsletter/'>PyQuant Newsletter</a>, social media, and has taught over 1,000+ algorithmic trading with Python in his popular course **<a href='https://gettingstartedwithpythonforquantfinance.com/'>Getting Started With Python for Quant Finance</a>**. All code is for educational purposes only. Nothing provided here is financial advise. Use at your own risk."
   ]
  },
  {
   "cell_type": "code",
   "execution_count": null,
   "id": "42786026-97a0-4fc4-aa97-6e68f41393af",
   "metadata": {},
   "outputs": [],
   "source": []
  }
 ],
 "metadata": {
  "jupytext": {
   "cell_metadata_filter": "-all",
   "main_language": "python",
   "notebook_metadata_filter": "-all"
  },
  "kernelspec": {
   "display_name": "algo",
   "language": "python",
   "name": "python3"
  },
  "language_info": {
   "codemirror_mode": {
    "name": "ipython",
    "version": 3
   },
   "file_extension": ".py",
   "mimetype": "text/x-python",
   "name": "python",
   "nbconvert_exporter": "python",
   "pygments_lexer": "ipython3",
   "version": "3.10.16"
  }
 },
 "nbformat": 4,
 "nbformat_minor": 5
}
